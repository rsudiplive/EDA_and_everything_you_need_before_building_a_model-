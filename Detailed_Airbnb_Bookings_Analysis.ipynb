{
  "nbformat": 4,
  "nbformat_minor": 0,
  "metadata": {
    "colab": {
      "name": "Detailed_Airbnb Bookings Analysis - Capstone Project.ipynb",
      "provenance": [],
      "collapsed_sections": [],
      "include_colab_link": true
    },
    "kernelspec": {
      "display_name": "Python 3",
      "language": "python",
      "name": "python3"
    },
    "language_info": {
      "codemirror_mode": {
        "name": "ipython",
        "version": 3
      },
      "file_extension": ".py",
      "mimetype": "text/x-python",
      "name": "python",
      "nbconvert_exporter": "python",
      "pygments_lexer": "ipython3",
      "version": "3.6.6"
    }
  },
  "cells": [
    {
      "cell_type": "markdown",
      "metadata": {
        "id": "view-in-github",
        "colab_type": "text"
      },
      "source": [
        "<a href=\"https://colab.research.google.com/github/rsudiplive/EDA_CapstoneProjects/blob/main/Detailed_Airbnb_Bookings_Analysis_Capstone_Project.ipynb\" target=\"_parent\"><img src=\"https://colab.research.google.com/assets/colab-badge.svg\" alt=\"Open In Colab\"/></a>"
      ]
    },
    {
      "cell_type": "markdown",
      "metadata": {
        "id": "Y06xIdG26kRF"
      },
      "source": [
        "## <b> Since 2008, guests and hosts have used Airbnb to expand on traveling possibilities and present a more unique, personalized way of experiencing the world. Today, Airbnb became one of a kind service that is used and recognized by the whole world. Data analysis on millions of listings provided through Airbnb is a crucial factor for the company. These millions of listings generate a lot of data - data that can be analyzed and used for security, business decisions, understanding of customers' and providers' (hosts) behavior and performance on the platform, guiding marketing initiatives, implementation of innovative additional services and much more. </b>\n",
        "\n",
        "## <b>This dataset has around 49,000 observations in it with 16 columns and it is a mix between categorical and numeric values. </b>\n",
        "\n",
        "## <b> Explore and analyze the data to discover key understandings (not limited to these) such as : \n",
        "* What can we learn about different hosts and areas?\n",
        "* What can we learn from predictions? (ex: locations, prices, reviews, etc)\n",
        "* Which hosts are the busiest and why?\n",
        "* Is there any noticeable difference of traffic among different areas and what could be the reason for it? </b>"
      ]
    },
    {
      "cell_type": "code",
      "metadata": {
        "colab": {
          "base_uri": "https://localhost:8080/"
        },
        "id": "Y14TPsOK8tJ6",
        "outputId": "4c546936-752a-49ae-e2c3-0e387f39bee4"
      },
      "source": [
        "from google.colab import drive\n",
        "drive.mount('/content/drive')"
      ],
      "execution_count": 1,
      "outputs": [
        {
          "output_type": "stream",
          "text": [
            "Mounted at /content/drive\n"
          ],
          "name": "stdout"
        }
      ]
    },
    {
      "cell_type": "markdown",
      "metadata": {
        "id": "igoAsuGYBXXZ"
      },
      "source": [
        "Okay, before going to start. Let's understand what is Airbnb?\r\n",
        "\r\n",
        "Looks Airbnb has interesting breakdown with names likely: Air, Bed and Breakfast to become Airbnb. Wow! This San-Francisco based startup offers you someone’s home as a place to stay instead of a hotel. Looks, somewhat on a same business as OYO but the former doesn't owns any property instead acts as an intermediary between those who want to rent out space and those who are looking for space to rent. \r\n",
        "\r\n",
        "Well, enough of it we understood what is the data all about and where it came from. \r\n",
        "\r\n",
        "Excited much? Lets deep dive!"
      ]
    },
    {
      "cell_type": "markdown",
      "metadata": {
        "id": "Wy50Qus9BKdz"
      },
      "source": [
        "Let me include all the soldiers in the battle!"
      ]
    },
    {
      "cell_type": "code",
      "metadata": {
        "id": "KJuDJSPc8ug2"
      },
      "source": [
        "import pandas as pd\r\n",
        "import numpy as np\r\n",
        "import matplotlib.pyplot as plt\r\n",
        "%matplotlib inline\r\n",
        "import seaborn as sns"
      ],
      "execution_count": 2,
      "outputs": []
    },
    {
      "cell_type": "code",
      "metadata": {
        "colab": {
          "base_uri": "https://localhost:8080/",
          "height": 813
        },
        "id": "JgdDk6tf9O7C",
        "outputId": "699b3f07-4b36-4276-f2c1-e3c20013fc52"
      },
      "source": [
        "df_air=pd.read_csv('/content/drive/MyDrive/Colab Notebooks/dat/Airbnb NYC 2019.csv')\r\n",
        "df_air"
      ],
      "execution_count": 3,
      "outputs": [
        {
          "output_type": "execute_result",
          "data": {
            "text/html": [
              "<div>\n",
              "<style scoped>\n",
              "    .dataframe tbody tr th:only-of-type {\n",
              "        vertical-align: middle;\n",
              "    }\n",
              "\n",
              "    .dataframe tbody tr th {\n",
              "        vertical-align: top;\n",
              "    }\n",
              "\n",
              "    .dataframe thead th {\n",
              "        text-align: right;\n",
              "    }\n",
              "</style>\n",
              "<table border=\"1\" class=\"dataframe\">\n",
              "  <thead>\n",
              "    <tr style=\"text-align: right;\">\n",
              "      <th></th>\n",
              "      <th>id</th>\n",
              "      <th>name</th>\n",
              "      <th>host_id</th>\n",
              "      <th>host_name</th>\n",
              "      <th>neighbourhood_group</th>\n",
              "      <th>neighbourhood</th>\n",
              "      <th>latitude</th>\n",
              "      <th>longitude</th>\n",
              "      <th>room_type</th>\n",
              "      <th>price</th>\n",
              "      <th>minimum_nights</th>\n",
              "      <th>number_of_reviews</th>\n",
              "      <th>last_review</th>\n",
              "      <th>reviews_per_month</th>\n",
              "      <th>calculated_host_listings_count</th>\n",
              "      <th>availability_365</th>\n",
              "    </tr>\n",
              "  </thead>\n",
              "  <tbody>\n",
              "    <tr>\n",
              "      <th>0</th>\n",
              "      <td>2539</td>\n",
              "      <td>Clean &amp; quiet apt home by the park</td>\n",
              "      <td>2787</td>\n",
              "      <td>John</td>\n",
              "      <td>Brooklyn</td>\n",
              "      <td>Kensington</td>\n",
              "      <td>40.64749</td>\n",
              "      <td>-73.97237</td>\n",
              "      <td>Private room</td>\n",
              "      <td>149</td>\n",
              "      <td>1</td>\n",
              "      <td>9</td>\n",
              "      <td>2018-10-19</td>\n",
              "      <td>0.21</td>\n",
              "      <td>6</td>\n",
              "      <td>365</td>\n",
              "    </tr>\n",
              "    <tr>\n",
              "      <th>1</th>\n",
              "      <td>2595</td>\n",
              "      <td>Skylit Midtown Castle</td>\n",
              "      <td>2845</td>\n",
              "      <td>Jennifer</td>\n",
              "      <td>Manhattan</td>\n",
              "      <td>Midtown</td>\n",
              "      <td>40.75362</td>\n",
              "      <td>-73.98377</td>\n",
              "      <td>Entire home/apt</td>\n",
              "      <td>225</td>\n",
              "      <td>1</td>\n",
              "      <td>45</td>\n",
              "      <td>2019-05-21</td>\n",
              "      <td>0.38</td>\n",
              "      <td>2</td>\n",
              "      <td>355</td>\n",
              "    </tr>\n",
              "    <tr>\n",
              "      <th>2</th>\n",
              "      <td>3647</td>\n",
              "      <td>THE VILLAGE OF HARLEM....NEW YORK !</td>\n",
              "      <td>4632</td>\n",
              "      <td>Elisabeth</td>\n",
              "      <td>Manhattan</td>\n",
              "      <td>Harlem</td>\n",
              "      <td>40.80902</td>\n",
              "      <td>-73.94190</td>\n",
              "      <td>Private room</td>\n",
              "      <td>150</td>\n",
              "      <td>3</td>\n",
              "      <td>0</td>\n",
              "      <td>NaN</td>\n",
              "      <td>NaN</td>\n",
              "      <td>1</td>\n",
              "      <td>365</td>\n",
              "    </tr>\n",
              "    <tr>\n",
              "      <th>3</th>\n",
              "      <td>3831</td>\n",
              "      <td>Cozy Entire Floor of Brownstone</td>\n",
              "      <td>4869</td>\n",
              "      <td>LisaRoxanne</td>\n",
              "      <td>Brooklyn</td>\n",
              "      <td>Clinton Hill</td>\n",
              "      <td>40.68514</td>\n",
              "      <td>-73.95976</td>\n",
              "      <td>Entire home/apt</td>\n",
              "      <td>89</td>\n",
              "      <td>1</td>\n",
              "      <td>270</td>\n",
              "      <td>2019-07-05</td>\n",
              "      <td>4.64</td>\n",
              "      <td>1</td>\n",
              "      <td>194</td>\n",
              "    </tr>\n",
              "    <tr>\n",
              "      <th>4</th>\n",
              "      <td>5022</td>\n",
              "      <td>Entire Apt: Spacious Studio/Loft by central park</td>\n",
              "      <td>7192</td>\n",
              "      <td>Laura</td>\n",
              "      <td>Manhattan</td>\n",
              "      <td>East Harlem</td>\n",
              "      <td>40.79851</td>\n",
              "      <td>-73.94399</td>\n",
              "      <td>Entire home/apt</td>\n",
              "      <td>80</td>\n",
              "      <td>10</td>\n",
              "      <td>9</td>\n",
              "      <td>2018-11-19</td>\n",
              "      <td>0.10</td>\n",
              "      <td>1</td>\n",
              "      <td>0</td>\n",
              "    </tr>\n",
              "    <tr>\n",
              "      <th>...</th>\n",
              "      <td>...</td>\n",
              "      <td>...</td>\n",
              "      <td>...</td>\n",
              "      <td>...</td>\n",
              "      <td>...</td>\n",
              "      <td>...</td>\n",
              "      <td>...</td>\n",
              "      <td>...</td>\n",
              "      <td>...</td>\n",
              "      <td>...</td>\n",
              "      <td>...</td>\n",
              "      <td>...</td>\n",
              "      <td>...</td>\n",
              "      <td>...</td>\n",
              "      <td>...</td>\n",
              "      <td>...</td>\n",
              "    </tr>\n",
              "    <tr>\n",
              "      <th>48890</th>\n",
              "      <td>36484665</td>\n",
              "      <td>Charming one bedroom - newly renovated rowhouse</td>\n",
              "      <td>8232441</td>\n",
              "      <td>Sabrina</td>\n",
              "      <td>Brooklyn</td>\n",
              "      <td>Bedford-Stuyvesant</td>\n",
              "      <td>40.67853</td>\n",
              "      <td>-73.94995</td>\n",
              "      <td>Private room</td>\n",
              "      <td>70</td>\n",
              "      <td>2</td>\n",
              "      <td>0</td>\n",
              "      <td>NaN</td>\n",
              "      <td>NaN</td>\n",
              "      <td>2</td>\n",
              "      <td>9</td>\n",
              "    </tr>\n",
              "    <tr>\n",
              "      <th>48891</th>\n",
              "      <td>36485057</td>\n",
              "      <td>Affordable room in Bushwick/East Williamsburg</td>\n",
              "      <td>6570630</td>\n",
              "      <td>Marisol</td>\n",
              "      <td>Brooklyn</td>\n",
              "      <td>Bushwick</td>\n",
              "      <td>40.70184</td>\n",
              "      <td>-73.93317</td>\n",
              "      <td>Private room</td>\n",
              "      <td>40</td>\n",
              "      <td>4</td>\n",
              "      <td>0</td>\n",
              "      <td>NaN</td>\n",
              "      <td>NaN</td>\n",
              "      <td>2</td>\n",
              "      <td>36</td>\n",
              "    </tr>\n",
              "    <tr>\n",
              "      <th>48892</th>\n",
              "      <td>36485431</td>\n",
              "      <td>Sunny Studio at Historical Neighborhood</td>\n",
              "      <td>23492952</td>\n",
              "      <td>Ilgar &amp; Aysel</td>\n",
              "      <td>Manhattan</td>\n",
              "      <td>Harlem</td>\n",
              "      <td>40.81475</td>\n",
              "      <td>-73.94867</td>\n",
              "      <td>Entire home/apt</td>\n",
              "      <td>115</td>\n",
              "      <td>10</td>\n",
              "      <td>0</td>\n",
              "      <td>NaN</td>\n",
              "      <td>NaN</td>\n",
              "      <td>1</td>\n",
              "      <td>27</td>\n",
              "    </tr>\n",
              "    <tr>\n",
              "      <th>48893</th>\n",
              "      <td>36485609</td>\n",
              "      <td>43rd St. Time Square-cozy single bed</td>\n",
              "      <td>30985759</td>\n",
              "      <td>Taz</td>\n",
              "      <td>Manhattan</td>\n",
              "      <td>Hell's Kitchen</td>\n",
              "      <td>40.75751</td>\n",
              "      <td>-73.99112</td>\n",
              "      <td>Shared room</td>\n",
              "      <td>55</td>\n",
              "      <td>1</td>\n",
              "      <td>0</td>\n",
              "      <td>NaN</td>\n",
              "      <td>NaN</td>\n",
              "      <td>6</td>\n",
              "      <td>2</td>\n",
              "    </tr>\n",
              "    <tr>\n",
              "      <th>48894</th>\n",
              "      <td>36487245</td>\n",
              "      <td>Trendy duplex in the very heart of Hell's Kitchen</td>\n",
              "      <td>68119814</td>\n",
              "      <td>Christophe</td>\n",
              "      <td>Manhattan</td>\n",
              "      <td>Hell's Kitchen</td>\n",
              "      <td>40.76404</td>\n",
              "      <td>-73.98933</td>\n",
              "      <td>Private room</td>\n",
              "      <td>90</td>\n",
              "      <td>7</td>\n",
              "      <td>0</td>\n",
              "      <td>NaN</td>\n",
              "      <td>NaN</td>\n",
              "      <td>1</td>\n",
              "      <td>23</td>\n",
              "    </tr>\n",
              "  </tbody>\n",
              "</table>\n",
              "<p>48895 rows × 16 columns</p>\n",
              "</div>"
            ],
            "text/plain": [
              "             id  ... availability_365\n",
              "0          2539  ...              365\n",
              "1          2595  ...              355\n",
              "2          3647  ...              365\n",
              "3          3831  ...              194\n",
              "4          5022  ...                0\n",
              "...         ...  ...              ...\n",
              "48890  36484665  ...                9\n",
              "48891  36485057  ...               36\n",
              "48892  36485431  ...               27\n",
              "48893  36485609  ...                2\n",
              "48894  36487245  ...               23\n",
              "\n",
              "[48895 rows x 16 columns]"
            ]
          },
          "metadata": {
            "tags": []
          },
          "execution_count": 3
        }
      ]
    },
    {
      "cell_type": "code",
      "metadata": {
        "colab": {
          "base_uri": "https://localhost:8080/"
        },
        "id": "kWM5YZKZXQHp",
        "outputId": "6cee3a5a-4c81-4107-e325-70a6edbea3e1"
      },
      "source": [
        "#checking what are the variables here:\r\n",
        "df_air.columns"
      ],
      "execution_count": 4,
      "outputs": [
        {
          "output_type": "execute_result",
          "data": {
            "text/plain": [
              "Index(['id', 'name', 'host_id', 'host_name', 'neighbourhood_group',\n",
              "       'neighbourhood', 'latitude', 'longitude', 'room_type', 'price',\n",
              "       'minimum_nights', 'number_of_reviews', 'last_review',\n",
              "       'reviews_per_month', 'calculated_host_listings_count',\n",
              "       'availability_365'],\n",
              "      dtype='object')"
            ]
          },
          "metadata": {
            "tags": []
          },
          "execution_count": 4
        }
      ]
    },
    {
      "cell_type": "code",
      "metadata": {
        "colab": {
          "base_uri": "https://localhost:8080/"
        },
        "id": "NAvsY-MrXa-n",
        "outputId": "b4933955-5f10-4dfc-ae81-169911435e14"
      },
      "source": [
        "#basic information about the dataset\r\n",
        "df_air.info()"
      ],
      "execution_count": 5,
      "outputs": [
        {
          "output_type": "stream",
          "text": [
            "<class 'pandas.core.frame.DataFrame'>\n",
            "RangeIndex: 48895 entries, 0 to 48894\n",
            "Data columns (total 16 columns):\n",
            " #   Column                          Non-Null Count  Dtype  \n",
            "---  ------                          --------------  -----  \n",
            " 0   id                              48895 non-null  int64  \n",
            " 1   name                            48879 non-null  object \n",
            " 2   host_id                         48895 non-null  int64  \n",
            " 3   host_name                       48874 non-null  object \n",
            " 4   neighbourhood_group             48895 non-null  object \n",
            " 5   neighbourhood                   48895 non-null  object \n",
            " 6   latitude                        48895 non-null  float64\n",
            " 7   longitude                       48895 non-null  float64\n",
            " 8   room_type                       48895 non-null  object \n",
            " 9   price                           48895 non-null  int64  \n",
            " 10  minimum_nights                  48895 non-null  int64  \n",
            " 11  number_of_reviews               48895 non-null  int64  \n",
            " 12  last_review                     38843 non-null  object \n",
            " 13  reviews_per_month               38843 non-null  float64\n",
            " 14  calculated_host_listings_count  48895 non-null  int64  \n",
            " 15  availability_365                48895 non-null  int64  \n",
            "dtypes: float64(3), int64(7), object(6)\n",
            "memory usage: 6.0+ MB\n"
          ],
          "name": "stdout"
        }
      ]
    },
    {
      "cell_type": "code",
      "metadata": {
        "colab": {
          "base_uri": "https://localhost:8080/"
        },
        "id": "zXm8RUj29Xmm",
        "outputId": "5a8724c7-f8a0-41e3-9db9-6fbe1f7aa534"
      },
      "source": [
        "#just a sanity check:\r\n",
        "#looks all the property ids are different and each listings are different here!\r\n",
        "\r\n",
        "df_air['id'].nunique()"
      ],
      "execution_count": 6,
      "outputs": [
        {
          "output_type": "execute_result",
          "data": {
            "text/plain": [
              "48895"
            ]
          },
          "metadata": {
            "tags": []
          },
          "execution_count": 6
        }
      ]
    },
    {
      "cell_type": "markdown",
      "metadata": {
        "id": "xuuRKz9abJm3"
      },
      "source": [
        "**So what are the numerical and categorical variables?**\r\n",
        "\r\n",
        "By basic inspection I figured out that a particular property name will have one particular host_name hosted by that same individual but a particular host_name can have multiple properties in a area.\r\n",
        "\r\n",
        "So, host_name is a categorical variable here. Also neighbourhood_group,neighbourhood and room_type fall into this category. <br>\r\n",
        "\r\n",
        "While id, latitude, longitude,price,minimum_nights,number_of_reviews,last_review,\treviews_per_month\tcalculated_host_listings_count,\tavailability_365 are numerical variables"
      ]
    },
    {
      "cell_type": "code",
      "metadata": {
        "colab": {
          "base_uri": "https://localhost:8080/",
          "height": 219
        },
        "id": "qMcN8DCCYtFz",
        "outputId": "c86b97b3-b6ca-4fbc-a90a-e4650d2bbf82"
      },
      "source": [
        "#looking out for categorical variables\r\n",
        "df_air.loc[df_air['name']=='Clean & quiet apt home by the park']"
      ],
      "execution_count": 7,
      "outputs": [
        {
          "output_type": "execute_result",
          "data": {
            "text/html": [
              "<div>\n",
              "<style scoped>\n",
              "    .dataframe tbody tr th:only-of-type {\n",
              "        vertical-align: middle;\n",
              "    }\n",
              "\n",
              "    .dataframe tbody tr th {\n",
              "        vertical-align: top;\n",
              "    }\n",
              "\n",
              "    .dataframe thead th {\n",
              "        text-align: right;\n",
              "    }\n",
              "</style>\n",
              "<table border=\"1\" class=\"dataframe\">\n",
              "  <thead>\n",
              "    <tr style=\"text-align: right;\">\n",
              "      <th></th>\n",
              "      <th>id</th>\n",
              "      <th>name</th>\n",
              "      <th>host_id</th>\n",
              "      <th>host_name</th>\n",
              "      <th>neighbourhood_group</th>\n",
              "      <th>neighbourhood</th>\n",
              "      <th>latitude</th>\n",
              "      <th>longitude</th>\n",
              "      <th>room_type</th>\n",
              "      <th>price</th>\n",
              "      <th>minimum_nights</th>\n",
              "      <th>number_of_reviews</th>\n",
              "      <th>last_review</th>\n",
              "      <th>reviews_per_month</th>\n",
              "      <th>calculated_host_listings_count</th>\n",
              "      <th>availability_365</th>\n",
              "    </tr>\n",
              "  </thead>\n",
              "  <tbody>\n",
              "    <tr>\n",
              "      <th>0</th>\n",
              "      <td>2539</td>\n",
              "      <td>Clean &amp; quiet apt home by the park</td>\n",
              "      <td>2787</td>\n",
              "      <td>John</td>\n",
              "      <td>Brooklyn</td>\n",
              "      <td>Kensington</td>\n",
              "      <td>40.64749</td>\n",
              "      <td>-73.97237</td>\n",
              "      <td>Private room</td>\n",
              "      <td>149</td>\n",
              "      <td>1</td>\n",
              "      <td>9</td>\n",
              "      <td>2018-10-19</td>\n",
              "      <td>0.21</td>\n",
              "      <td>6</td>\n",
              "      <td>365</td>\n",
              "    </tr>\n",
              "  </tbody>\n",
              "</table>\n",
              "</div>"
            ],
            "text/plain": [
              "     id  ... availability_365\n",
              "0  2539  ...              365\n",
              "\n",
              "[1 rows x 16 columns]"
            ]
          },
          "metadata": {
            "tags": []
          },
          "execution_count": 7
        }
      ]
    },
    {
      "cell_type": "code",
      "metadata": {
        "colab": {
          "base_uri": "https://localhost:8080/",
          "height": 1000
        },
        "id": "cm47Ru4ogPZf",
        "outputId": "629f950e-46a7-4502-c28f-e2e76437f09a"
      },
      "source": [
        "df_air[df_air['host_name']=='John'] #experimenting "
      ],
      "execution_count": 8,
      "outputs": [
        {
          "output_type": "execute_result",
          "data": {
            "text/html": [
              "<div>\n",
              "<style scoped>\n",
              "    .dataframe tbody tr th:only-of-type {\n",
              "        vertical-align: middle;\n",
              "    }\n",
              "\n",
              "    .dataframe tbody tr th {\n",
              "        vertical-align: top;\n",
              "    }\n",
              "\n",
              "    .dataframe thead th {\n",
              "        text-align: right;\n",
              "    }\n",
              "</style>\n",
              "<table border=\"1\" class=\"dataframe\">\n",
              "  <thead>\n",
              "    <tr style=\"text-align: right;\">\n",
              "      <th></th>\n",
              "      <th>id</th>\n",
              "      <th>name</th>\n",
              "      <th>host_id</th>\n",
              "      <th>host_name</th>\n",
              "      <th>neighbourhood_group</th>\n",
              "      <th>neighbourhood</th>\n",
              "      <th>latitude</th>\n",
              "      <th>longitude</th>\n",
              "      <th>room_type</th>\n",
              "      <th>price</th>\n",
              "      <th>minimum_nights</th>\n",
              "      <th>number_of_reviews</th>\n",
              "      <th>last_review</th>\n",
              "      <th>reviews_per_month</th>\n",
              "      <th>calculated_host_listings_count</th>\n",
              "      <th>availability_365</th>\n",
              "    </tr>\n",
              "  </thead>\n",
              "  <tbody>\n",
              "    <tr>\n",
              "      <th>0</th>\n",
              "      <td>2539</td>\n",
              "      <td>Clean &amp; quiet apt home by the park</td>\n",
              "      <td>2787</td>\n",
              "      <td>John</td>\n",
              "      <td>Brooklyn</td>\n",
              "      <td>Kensington</td>\n",
              "      <td>40.64749</td>\n",
              "      <td>-73.97237</td>\n",
              "      <td>Private room</td>\n",
              "      <td>149</td>\n",
              "      <td>1</td>\n",
              "      <td>9</td>\n",
              "      <td>2018-10-19</td>\n",
              "      <td>0.21</td>\n",
              "      <td>6</td>\n",
              "      <td>365</td>\n",
              "    </tr>\n",
              "    <tr>\n",
              "      <th>429</th>\n",
              "      <td>148201</td>\n",
              "      <td>NYC - Sunny Greenwich Village 1br</td>\n",
              "      <td>715807</td>\n",
              "      <td>John</td>\n",
              "      <td>Manhattan</td>\n",
              "      <td>Greenwich Village</td>\n",
              "      <td>40.72831</td>\n",
              "      <td>-74.00177</td>\n",
              "      <td>Entire home/apt</td>\n",
              "      <td>175</td>\n",
              "      <td>3</td>\n",
              "      <td>18</td>\n",
              "      <td>2013-05-31</td>\n",
              "      <td>0.19</td>\n",
              "      <td>1</td>\n",
              "      <td>0</td>\n",
              "    </tr>\n",
              "    <tr>\n",
              "      <th>620</th>\n",
              "      <td>234870</td>\n",
              "      <td>Private Room With GREAT Location</td>\n",
              "      <td>1229984</td>\n",
              "      <td>John</td>\n",
              "      <td>Queens</td>\n",
              "      <td>Long Island City</td>\n",
              "      <td>40.74581</td>\n",
              "      <td>-73.95295</td>\n",
              "      <td>Private room</td>\n",
              "      <td>75</td>\n",
              "      <td>30</td>\n",
              "      <td>65</td>\n",
              "      <td>2017-07-31</td>\n",
              "      <td>0.74</td>\n",
              "      <td>3</td>\n",
              "      <td>219</td>\n",
              "    </tr>\n",
              "    <tr>\n",
              "      <th>991</th>\n",
              "      <td>400039</td>\n",
              "      <td>Big Beautiful Railroad in Brooklyn</td>\n",
              "      <td>1488809</td>\n",
              "      <td>John</td>\n",
              "      <td>Brooklyn</td>\n",
              "      <td>Bushwick</td>\n",
              "      <td>40.70339</td>\n",
              "      <td>-73.92945</td>\n",
              "      <td>Entire home/apt</td>\n",
              "      <td>130</td>\n",
              "      <td>30</td>\n",
              "      <td>53</td>\n",
              "      <td>2017-06-30</td>\n",
              "      <td>0.68</td>\n",
              "      <td>1</td>\n",
              "      <td>0</td>\n",
              "    </tr>\n",
              "    <tr>\n",
              "      <th>1141</th>\n",
              "      <td>484297</td>\n",
              "      <td>Large home in most desirable Brooklyn hood!</td>\n",
              "      <td>2397411</td>\n",
              "      <td>John</td>\n",
              "      <td>Brooklyn</td>\n",
              "      <td>Clinton Hill</td>\n",
              "      <td>40.68545</td>\n",
              "      <td>-73.96534</td>\n",
              "      <td>Entire home/apt</td>\n",
              "      <td>350</td>\n",
              "      <td>4</td>\n",
              "      <td>10</td>\n",
              "      <td>2018-09-12</td>\n",
              "      <td>0.12</td>\n",
              "      <td>1</td>\n",
              "      <td>0</td>\n",
              "    </tr>\n",
              "    <tr>\n",
              "      <th>...</th>\n",
              "      <td>...</td>\n",
              "      <td>...</td>\n",
              "      <td>...</td>\n",
              "      <td>...</td>\n",
              "      <td>...</td>\n",
              "      <td>...</td>\n",
              "      <td>...</td>\n",
              "      <td>...</td>\n",
              "      <td>...</td>\n",
              "      <td>...</td>\n",
              "      <td>...</td>\n",
              "      <td>...</td>\n",
              "      <td>...</td>\n",
              "      <td>...</td>\n",
              "      <td>...</td>\n",
              "      <td>...</td>\n",
              "    </tr>\n",
              "    <tr>\n",
              "      <th>47624</th>\n",
              "      <td>35836317</td>\n",
              "      <td>Gorgeous Duplex 2BED/1.5BA  Modern</td>\n",
              "      <td>269242923</td>\n",
              "      <td>John</td>\n",
              "      <td>Manhattan</td>\n",
              "      <td>Kips Bay</td>\n",
              "      <td>40.74490</td>\n",
              "      <td>-73.97888</td>\n",
              "      <td>Entire home/apt</td>\n",
              "      <td>288</td>\n",
              "      <td>5</td>\n",
              "      <td>2</td>\n",
              "      <td>2019-06-30</td>\n",
              "      <td>2.00</td>\n",
              "      <td>1</td>\n",
              "      <td>74</td>\n",
              "    </tr>\n",
              "    <tr>\n",
              "      <th>47689</th>\n",
              "      <td>35871036</td>\n",
              "      <td>Huge 1 bedroom w/ a backyard near the heart of...</td>\n",
              "      <td>226414996</td>\n",
              "      <td>John</td>\n",
              "      <td>Queens</td>\n",
              "      <td>Ditmars Steinway</td>\n",
              "      <td>40.77170</td>\n",
              "      <td>-73.90799</td>\n",
              "      <td>Entire home/apt</td>\n",
              "      <td>90</td>\n",
              "      <td>3</td>\n",
              "      <td>0</td>\n",
              "      <td>NaN</td>\n",
              "      <td>NaN</td>\n",
              "      <td>2</td>\n",
              "      <td>21</td>\n",
              "    </tr>\n",
              "    <tr>\n",
              "      <th>47915</th>\n",
              "      <td>35984474</td>\n",
              "      <td>Perfect Weekend Stay</td>\n",
              "      <td>229739739</td>\n",
              "      <td>John</td>\n",
              "      <td>Brooklyn</td>\n",
              "      <td>Flatbush</td>\n",
              "      <td>40.64726</td>\n",
              "      <td>-73.95455</td>\n",
              "      <td>Private room</td>\n",
              "      <td>85</td>\n",
              "      <td>14</td>\n",
              "      <td>0</td>\n",
              "      <td>NaN</td>\n",
              "      <td>NaN</td>\n",
              "      <td>2</td>\n",
              "      <td>176</td>\n",
              "    </tr>\n",
              "    <tr>\n",
              "      <th>48212</th>\n",
              "      <td>36140542</td>\n",
              "      <td>Wonderful Summer Vacation  Getaways For Weeken...</td>\n",
              "      <td>229739739</td>\n",
              "      <td>John</td>\n",
              "      <td>Brooklyn</td>\n",
              "      <td>Flatbush</td>\n",
              "      <td>40.64600</td>\n",
              "      <td>-73.95455</td>\n",
              "      <td>Private room</td>\n",
              "      <td>85</td>\n",
              "      <td>7</td>\n",
              "      <td>0</td>\n",
              "      <td>NaN</td>\n",
              "      <td>NaN</td>\n",
              "      <td>2</td>\n",
              "      <td>176</td>\n",
              "    </tr>\n",
              "    <tr>\n",
              "      <th>48705</th>\n",
              "      <td>36391615</td>\n",
              "      <td>Hidden gem! Cozy home in heart of Lower East Side</td>\n",
              "      <td>70653354</td>\n",
              "      <td>John</td>\n",
              "      <td>Manhattan</td>\n",
              "      <td>Lower East Side</td>\n",
              "      <td>40.72013</td>\n",
              "      <td>-73.98769</td>\n",
              "      <td>Entire home/apt</td>\n",
              "      <td>235</td>\n",
              "      <td>1</td>\n",
              "      <td>0</td>\n",
              "      <td>NaN</td>\n",
              "      <td>NaN</td>\n",
              "      <td>1</td>\n",
              "      <td>349</td>\n",
              "    </tr>\n",
              "  </tbody>\n",
              "</table>\n",
              "<p>294 rows × 16 columns</p>\n",
              "</div>"
            ],
            "text/plain": [
              "             id  ... availability_365\n",
              "0          2539  ...              365\n",
              "429      148201  ...                0\n",
              "620      234870  ...              219\n",
              "991      400039  ...                0\n",
              "1141     484297  ...                0\n",
              "...         ...  ...              ...\n",
              "47624  35836317  ...               74\n",
              "47689  35871036  ...               21\n",
              "47915  35984474  ...              176\n",
              "48212  36140542  ...              176\n",
              "48705  36391615  ...              349\n",
              "\n",
              "[294 rows x 16 columns]"
            ]
          },
          "metadata": {
            "tags": []
          },
          "execution_count": 8
        }
      ]
    },
    {
      "cell_type": "code",
      "metadata": {
        "colab": {
          "base_uri": "https://localhost:8080/"
        },
        "id": "f049EOVCgxF-",
        "outputId": "668aa1c9-4363-4930-ef61-30ea245090e1"
      },
      "source": [
        "df_air[df_air['host_name']=='John']['name'].nunique()"
      ],
      "execution_count": 9,
      "outputs": [
        {
          "output_type": "execute_result",
          "data": {
            "text/plain": [
              "293"
            ]
          },
          "metadata": {
            "tags": []
          },
          "execution_count": 9
        }
      ]
    },
    {
      "cell_type": "code",
      "metadata": {
        "colab": {
          "base_uri": "https://localhost:8080/"
        },
        "id": "s3pBQ0xQeAq-",
        "outputId": "8bc4cb3c-fc78-41ed-878f-51baf1c9fcf9"
      },
      "source": [
        "df_air['neighbourhood'].nunique() #looks this can be a categorical var too. lets check as well"
      ],
      "execution_count": 10,
      "outputs": [
        {
          "output_type": "execute_result",
          "data": {
            "text/plain": [
              "221"
            ]
          },
          "metadata": {
            "tags": []
          },
          "execution_count": 10
        }
      ]
    },
    {
      "cell_type": "code",
      "metadata": {
        "colab": {
          "base_uri": "https://localhost:8080/",
          "height": 949
        },
        "id": "PoFf66MdhwaB",
        "outputId": "6e979eae-4ab0-433a-91fa-07164e83b26b"
      },
      "source": [
        "#experiment: Lets take one neighbourhood and test\r\n",
        "df_air[df_air['neighbourhood']=='Kips Bay']\r\n",
        "#looks yes, its a categorical variable having identical neighbourhoods"
      ],
      "execution_count": 11,
      "outputs": [
        {
          "output_type": "execute_result",
          "data": {
            "text/html": [
              "<div>\n",
              "<style scoped>\n",
              "    .dataframe tbody tr th:only-of-type {\n",
              "        vertical-align: middle;\n",
              "    }\n",
              "\n",
              "    .dataframe tbody tr th {\n",
              "        vertical-align: top;\n",
              "    }\n",
              "\n",
              "    .dataframe thead th {\n",
              "        text-align: right;\n",
              "    }\n",
              "</style>\n",
              "<table border=\"1\" class=\"dataframe\">\n",
              "  <thead>\n",
              "    <tr style=\"text-align: right;\">\n",
              "      <th></th>\n",
              "      <th>id</th>\n",
              "      <th>name</th>\n",
              "      <th>host_id</th>\n",
              "      <th>host_name</th>\n",
              "      <th>neighbourhood_group</th>\n",
              "      <th>neighbourhood</th>\n",
              "      <th>latitude</th>\n",
              "      <th>longitude</th>\n",
              "      <th>room_type</th>\n",
              "      <th>price</th>\n",
              "      <th>minimum_nights</th>\n",
              "      <th>number_of_reviews</th>\n",
              "      <th>last_review</th>\n",
              "      <th>reviews_per_month</th>\n",
              "      <th>calculated_host_listings_count</th>\n",
              "      <th>availability_365</th>\n",
              "    </tr>\n",
              "  </thead>\n",
              "  <tbody>\n",
              "    <tr>\n",
              "      <th>54</th>\n",
              "      <td>14322</td>\n",
              "      <td>Beautiful Apartment in Manhattan!!!</td>\n",
              "      <td>56284</td>\n",
              "      <td>Francesca</td>\n",
              "      <td>Manhattan</td>\n",
              "      <td>Kips Bay</td>\n",
              "      <td>40.73961</td>\n",
              "      <td>-73.98074</td>\n",
              "      <td>Entire home/apt</td>\n",
              "      <td>200</td>\n",
              "      <td>7</td>\n",
              "      <td>19</td>\n",
              "      <td>2019-03-25</td>\n",
              "      <td>0.22</td>\n",
              "      <td>1</td>\n",
              "      <td>257</td>\n",
              "    </tr>\n",
              "    <tr>\n",
              "      <th>115</th>\n",
              "      <td>26954</td>\n",
              "      <td>NYC fabulous views Manhattan's eye</td>\n",
              "      <td>115157</td>\n",
              "      <td>Nimo</td>\n",
              "      <td>Manhattan</td>\n",
              "      <td>Kips Bay</td>\n",
              "      <td>40.74294</td>\n",
              "      <td>-73.98009</td>\n",
              "      <td>Entire home/apt</td>\n",
              "      <td>199</td>\n",
              "      <td>5</td>\n",
              "      <td>38</td>\n",
              "      <td>2015-12-02</td>\n",
              "      <td>0.38</td>\n",
              "      <td>1</td>\n",
              "      <td>260</td>\n",
              "    </tr>\n",
              "    <tr>\n",
              "      <th>355</th>\n",
              "      <td>98330</td>\n",
              "      <td>LOVELY APARTMENT IN THE HEART OF NY</td>\n",
              "      <td>31374</td>\n",
              "      <td>Shon</td>\n",
              "      <td>Manhattan</td>\n",
              "      <td>Kips Bay</td>\n",
              "      <td>40.73877</td>\n",
              "      <td>-73.97707</td>\n",
              "      <td>Entire home/apt</td>\n",
              "      <td>125</td>\n",
              "      <td>4</td>\n",
              "      <td>1</td>\n",
              "      <td>2012-01-03</td>\n",
              "      <td>0.01</td>\n",
              "      <td>3</td>\n",
              "      <td>181</td>\n",
              "    </tr>\n",
              "    <tr>\n",
              "      <th>502</th>\n",
              "      <td>177606</td>\n",
              "      <td>SPACIOUS ALCOVE STUDIO/ JUNIOR ONE</td>\n",
              "      <td>849492</td>\n",
              "      <td>Kathrine</td>\n",
              "      <td>Manhattan</td>\n",
              "      <td>Kips Bay</td>\n",
              "      <td>40.74112</td>\n",
              "      <td>-73.97686</td>\n",
              "      <td>Entire home/apt</td>\n",
              "      <td>189</td>\n",
              "      <td>6</td>\n",
              "      <td>90</td>\n",
              "      <td>2019-06-23</td>\n",
              "      <td>0.95</td>\n",
              "      <td>1</td>\n",
              "      <td>303</td>\n",
              "    </tr>\n",
              "    <tr>\n",
              "      <th>628</th>\n",
              "      <td>237127</td>\n",
              "      <td>LOCATION LOCATION LOCATION Liz's</td>\n",
              "      <td>1146958</td>\n",
              "      <td>Liz</td>\n",
              "      <td>Manhattan</td>\n",
              "      <td>Kips Bay</td>\n",
              "      <td>40.73833</td>\n",
              "      <td>-73.98186</td>\n",
              "      <td>Entire home/apt</td>\n",
              "      <td>195</td>\n",
              "      <td>30</td>\n",
              "      <td>139</td>\n",
              "      <td>2019-04-28</td>\n",
              "      <td>1.59</td>\n",
              "      <td>4</td>\n",
              "      <td>325</td>\n",
              "    </tr>\n",
              "    <tr>\n",
              "      <th>...</th>\n",
              "      <td>...</td>\n",
              "      <td>...</td>\n",
              "      <td>...</td>\n",
              "      <td>...</td>\n",
              "      <td>...</td>\n",
              "      <td>...</td>\n",
              "      <td>...</td>\n",
              "      <td>...</td>\n",
              "      <td>...</td>\n",
              "      <td>...</td>\n",
              "      <td>...</td>\n",
              "      <td>...</td>\n",
              "      <td>...</td>\n",
              "      <td>...</td>\n",
              "      <td>...</td>\n",
              "      <td>...</td>\n",
              "    </tr>\n",
              "    <tr>\n",
              "      <th>48203</th>\n",
              "      <td>36137740</td>\n",
              "      <td>Cozy Kips Bay Apartment</td>\n",
              "      <td>30933227</td>\n",
              "      <td>Dipti</td>\n",
              "      <td>Manhattan</td>\n",
              "      <td>Kips Bay</td>\n",
              "      <td>40.74133</td>\n",
              "      <td>-73.97706</td>\n",
              "      <td>Entire home/apt</td>\n",
              "      <td>130</td>\n",
              "      <td>30</td>\n",
              "      <td>1</td>\n",
              "      <td>2019-06-28</td>\n",
              "      <td>1.00</td>\n",
              "      <td>1</td>\n",
              "      <td>54</td>\n",
              "    </tr>\n",
              "    <tr>\n",
              "      <th>48432</th>\n",
              "      <td>36265549</td>\n",
              "      <td>Perfect Location - Midtown Manhattan Modern 2BD!</td>\n",
              "      <td>272747109</td>\n",
              "      <td>Lynn</td>\n",
              "      <td>Manhattan</td>\n",
              "      <td>Kips Bay</td>\n",
              "      <td>40.74612</td>\n",
              "      <td>-73.97960</td>\n",
              "      <td>Entire home/apt</td>\n",
              "      <td>220</td>\n",
              "      <td>4</td>\n",
              "      <td>0</td>\n",
              "      <td>NaN</td>\n",
              "      <td>NaN</td>\n",
              "      <td>1</td>\n",
              "      <td>78</td>\n",
              "    </tr>\n",
              "    <tr>\n",
              "      <th>48453</th>\n",
              "      <td>36272851</td>\n",
              "      <td>Private Bedroom in a Prewar Gramercy Building!*</td>\n",
              "      <td>19962052</td>\n",
              "      <td>Thikshan</td>\n",
              "      <td>Manhattan</td>\n",
              "      <td>Kips Bay</td>\n",
              "      <td>40.73929</td>\n",
              "      <td>-73.98183</td>\n",
              "      <td>Private room</td>\n",
              "      <td>135</td>\n",
              "      <td>2</td>\n",
              "      <td>1</td>\n",
              "      <td>2019-07-07</td>\n",
              "      <td>1.00</td>\n",
              "      <td>3</td>\n",
              "      <td>41</td>\n",
              "    </tr>\n",
              "    <tr>\n",
              "      <th>48480</th>\n",
              "      <td>36279030</td>\n",
              "      <td>Good-looking Room</td>\n",
              "      <td>272602584</td>\n",
              "      <td>Cherry</td>\n",
              "      <td>Manhattan</td>\n",
              "      <td>Kips Bay</td>\n",
              "      <td>40.74010</td>\n",
              "      <td>-73.98256</td>\n",
              "      <td>Private room</td>\n",
              "      <td>70</td>\n",
              "      <td>20</td>\n",
              "      <td>0</td>\n",
              "      <td>NaN</td>\n",
              "      <td>NaN</td>\n",
              "      <td>1</td>\n",
              "      <td>314</td>\n",
              "    </tr>\n",
              "    <tr>\n",
              "      <th>48619</th>\n",
              "      <td>36345739</td>\n",
              "      <td>Your Finest room in Gramercy</td>\n",
              "      <td>111020505</td>\n",
              "      <td>Maja</td>\n",
              "      <td>Manhattan</td>\n",
              "      <td>Kips Bay</td>\n",
              "      <td>40.74049</td>\n",
              "      <td>-73.98184</td>\n",
              "      <td>Private room</td>\n",
              "      <td>57</td>\n",
              "      <td>30</td>\n",
              "      <td>0</td>\n",
              "      <td>NaN</td>\n",
              "      <td>NaN</td>\n",
              "      <td>1</td>\n",
              "      <td>253</td>\n",
              "    </tr>\n",
              "  </tbody>\n",
              "</table>\n",
              "<p>470 rows × 16 columns</p>\n",
              "</div>"
            ],
            "text/plain": [
              "             id  ... availability_365\n",
              "54        14322  ...              257\n",
              "115       26954  ...              260\n",
              "355       98330  ...              181\n",
              "502      177606  ...              303\n",
              "628      237127  ...              325\n",
              "...         ...  ...              ...\n",
              "48203  36137740  ...               54\n",
              "48432  36265549  ...               78\n",
              "48453  36272851  ...               41\n",
              "48480  36279030  ...              314\n",
              "48619  36345739  ...              253\n",
              "\n",
              "[470 rows x 16 columns]"
            ]
          },
          "metadata": {
            "tags": []
          },
          "execution_count": 11
        }
      ]
    },
    {
      "cell_type": "code",
      "metadata": {
        "colab": {
          "base_uri": "https://localhost:8080/"
        },
        "id": "Tv1jQcPJ6ac9",
        "outputId": "1689e574-6967-4b99-cd0d-65c3b0f16adc"
      },
      "source": [
        "df_air['host_name'].nunique() #unique hosts"
      ],
      "execution_count": 12,
      "outputs": [
        {
          "output_type": "execute_result",
          "data": {
            "text/plain": [
              "11452"
            ]
          },
          "metadata": {
            "tags": []
          },
          "execution_count": 12
        }
      ]
    },
    {
      "cell_type": "code",
      "metadata": {
        "colab": {
          "base_uri": "https://localhost:8080/"
        },
        "id": "OjhenwmGAklp",
        "outputId": "85b97f2c-6456-4c51-8307-e09b8511e61b"
      },
      "source": [
        "df_air['name'].nunique() #unique listings"
      ],
      "execution_count": 13,
      "outputs": [
        {
          "output_type": "execute_result",
          "data": {
            "text/plain": [
              "47905"
            ]
          },
          "metadata": {
            "tags": []
          },
          "execution_count": 13
        }
      ]
    },
    {
      "cell_type": "code",
      "metadata": {
        "colab": {
          "base_uri": "https://localhost:8080/"
        },
        "id": "O3y6Suf39Ejy",
        "outputId": "4b862af1-881b-4116-8476-3ff266e43484"
      },
      "source": [
        "df_air['name'].value_counts() \r\n",
        "#an interesting observation, looks like few listings have no particular host name as below observation!\r\n",
        "#also few listings/property with same names has different hosts in different areas/neighbourhoods of a neighbourhood_group"
      ],
      "execution_count": 14,
      "outputs": [
        {
          "output_type": "execute_result",
          "data": {
            "text/plain": [
              "Hillside Hotel                                                 18\n",
              "Home away from home                                            17\n",
              "New york Multi-unit building                                   16\n",
              "Brooklyn Apartment                                             12\n",
              "Private Room                                                   11\n",
              "                                                               ..\n",
              "Cuarto con ambiente Familiar solo adultos                       1\n",
              "Cozy BK RM for 2! 30min > Manhattan                             1\n",
              "*NO GUEST SERVICE FEE* Beekman Tower One Bedroom Suite  #10     1\n",
              "Private Bedroom with Amazing Rooftop View                       1\n",
              "Serene Apartment Park Ave - UES                                 1\n",
              "Name: name, Length: 47905, dtype: int64"
            ]
          },
          "metadata": {
            "tags": []
          },
          "execution_count": 14
        }
      ]
    },
    {
      "cell_type": "code",
      "metadata": {
        "id": "AypijNiaC7-o",
        "colab": {
          "base_uri": "https://localhost:8080/",
          "height": 1000
        },
        "outputId": "a236d75c-498d-4a2a-ba5f-549f38a91354"
      },
      "source": [
        "df_air[df_air['name']==df_air['host_name']] #looks there are few listings where the property name and the host have same names!\r\n",
        "#we can remove duplicates later in our analysis!"
      ],
      "execution_count": 15,
      "outputs": [
        {
          "output_type": "execute_result",
          "data": {
            "text/html": [
              "<div>\n",
              "<style scoped>\n",
              "    .dataframe tbody tr th:only-of-type {\n",
              "        vertical-align: middle;\n",
              "    }\n",
              "\n",
              "    .dataframe tbody tr th {\n",
              "        vertical-align: top;\n",
              "    }\n",
              "\n",
              "    .dataframe thead th {\n",
              "        text-align: right;\n",
              "    }\n",
              "</style>\n",
              "<table border=\"1\" class=\"dataframe\">\n",
              "  <thead>\n",
              "    <tr style=\"text-align: right;\">\n",
              "      <th></th>\n",
              "      <th>id</th>\n",
              "      <th>name</th>\n",
              "      <th>host_id</th>\n",
              "      <th>host_name</th>\n",
              "      <th>neighbourhood_group</th>\n",
              "      <th>neighbourhood</th>\n",
              "      <th>latitude</th>\n",
              "      <th>longitude</th>\n",
              "      <th>room_type</th>\n",
              "      <th>price</th>\n",
              "      <th>minimum_nights</th>\n",
              "      <th>number_of_reviews</th>\n",
              "      <th>last_review</th>\n",
              "      <th>reviews_per_month</th>\n",
              "      <th>calculated_host_listings_count</th>\n",
              "      <th>availability_365</th>\n",
              "    </tr>\n",
              "  </thead>\n",
              "  <tbody>\n",
              "    <tr>\n",
              "      <th>9473</th>\n",
              "      <td>7264659</td>\n",
              "      <td>Olivier</td>\n",
              "      <td>6994503</td>\n",
              "      <td>Olivier</td>\n",
              "      <td>Manhattan</td>\n",
              "      <td>Upper West Side</td>\n",
              "      <td>40.78931</td>\n",
              "      <td>-73.97520</td>\n",
              "      <td>Entire home/apt</td>\n",
              "      <td>200</td>\n",
              "      <td>5</td>\n",
              "      <td>12</td>\n",
              "      <td>2018-01-30</td>\n",
              "      <td>0.25</td>\n",
              "      <td>1</td>\n",
              "      <td>25</td>\n",
              "    </tr>\n",
              "    <tr>\n",
              "      <th>10682</th>\n",
              "      <td>8212051</td>\n",
              "      <td>Monty</td>\n",
              "      <td>43302952</td>\n",
              "      <td>Monty</td>\n",
              "      <td>Brooklyn</td>\n",
              "      <td>East Flatbush</td>\n",
              "      <td>40.66383</td>\n",
              "      <td>-73.92706</td>\n",
              "      <td>Shared room</td>\n",
              "      <td>95</td>\n",
              "      <td>2</td>\n",
              "      <td>7</td>\n",
              "      <td>2015-10-30</td>\n",
              "      <td>0.15</td>\n",
              "      <td>1</td>\n",
              "      <td>238</td>\n",
              "    </tr>\n",
              "    <tr>\n",
              "      <th>16422</th>\n",
              "      <td>13186374</td>\n",
              "      <td>Sean</td>\n",
              "      <td>35143476</td>\n",
              "      <td>Sean</td>\n",
              "      <td>Brooklyn</td>\n",
              "      <td>Windsor Terrace</td>\n",
              "      <td>40.65182</td>\n",
              "      <td>-73.98043</td>\n",
              "      <td>Entire home/apt</td>\n",
              "      <td>400</td>\n",
              "      <td>7</td>\n",
              "      <td>0</td>\n",
              "      <td>NaN</td>\n",
              "      <td>NaN</td>\n",
              "      <td>1</td>\n",
              "      <td>0</td>\n",
              "    </tr>\n",
              "    <tr>\n",
              "      <th>23996</th>\n",
              "      <td>19348168</td>\n",
              "      <td>Cyn</td>\n",
              "      <td>74033595</td>\n",
              "      <td>Cyn</td>\n",
              "      <td>Brooklyn</td>\n",
              "      <td>Bedford-Stuyvesant</td>\n",
              "      <td>40.67850</td>\n",
              "      <td>-73.91478</td>\n",
              "      <td>Private room</td>\n",
              "      <td>75</td>\n",
              "      <td>2</td>\n",
              "      <td>1</td>\n",
              "      <td>2018-09-10</td>\n",
              "      <td>0.10</td>\n",
              "      <td>1</td>\n",
              "      <td>0</td>\n",
              "    </tr>\n",
              "    <tr>\n",
              "      <th>24152</th>\n",
              "      <td>19456810</td>\n",
              "      <td>Hillside Hotel</td>\n",
              "      <td>134184451</td>\n",
              "      <td>Hillside Hotel</td>\n",
              "      <td>Queens</td>\n",
              "      <td>Briarwood</td>\n",
              "      <td>40.70454</td>\n",
              "      <td>-73.81549</td>\n",
              "      <td>Private room</td>\n",
              "      <td>93</td>\n",
              "      <td>1</td>\n",
              "      <td>2</td>\n",
              "      <td>2017-07-23</td>\n",
              "      <td>0.08</td>\n",
              "      <td>18</td>\n",
              "      <td>90</td>\n",
              "    </tr>\n",
              "    <tr>\n",
              "      <th>24607</th>\n",
              "      <td>19785737</td>\n",
              "      <td>Hillside Hotel</td>\n",
              "      <td>134184451</td>\n",
              "      <td>Hillside Hotel</td>\n",
              "      <td>Queens</td>\n",
              "      <td>Jamaica</td>\n",
              "      <td>40.70445</td>\n",
              "      <td>-73.81399</td>\n",
              "      <td>Private room</td>\n",
              "      <td>135</td>\n",
              "      <td>1</td>\n",
              "      <td>1</td>\n",
              "      <td>2017-10-08</td>\n",
              "      <td>0.05</td>\n",
              "      <td>18</td>\n",
              "      <td>180</td>\n",
              "    </tr>\n",
              "    <tr>\n",
              "      <th>26734</th>\n",
              "      <td>21231543</td>\n",
              "      <td>Hillside Hotel</td>\n",
              "      <td>134184451</td>\n",
              "      <td>Hillside Hotel</td>\n",
              "      <td>Queens</td>\n",
              "      <td>Jamaica</td>\n",
              "      <td>40.70428</td>\n",
              "      <td>-73.81353</td>\n",
              "      <td>Private room</td>\n",
              "      <td>135</td>\n",
              "      <td>1</td>\n",
              "      <td>0</td>\n",
              "      <td>NaN</td>\n",
              "      <td>NaN</td>\n",
              "      <td>18</td>\n",
              "      <td>365</td>\n",
              "    </tr>\n",
              "    <tr>\n",
              "      <th>26752</th>\n",
              "      <td>21243952</td>\n",
              "      <td>Hillside Hotel</td>\n",
              "      <td>134184451</td>\n",
              "      <td>Hillside Hotel</td>\n",
              "      <td>Queens</td>\n",
              "      <td>Jamaica</td>\n",
              "      <td>40.70288</td>\n",
              "      <td>-73.81531</td>\n",
              "      <td>Private room</td>\n",
              "      <td>135</td>\n",
              "      <td>1</td>\n",
              "      <td>1</td>\n",
              "      <td>2018-01-02</td>\n",
              "      <td>0.05</td>\n",
              "      <td>18</td>\n",
              "      <td>365</td>\n",
              "    </tr>\n",
              "    <tr>\n",
              "      <th>26753</th>\n",
              "      <td>21244035</td>\n",
              "      <td>Hillside Hotel</td>\n",
              "      <td>134184451</td>\n",
              "      <td>Hillside Hotel</td>\n",
              "      <td>Queens</td>\n",
              "      <td>Jamaica</td>\n",
              "      <td>40.70319</td>\n",
              "      <td>-73.81410</td>\n",
              "      <td>Private room</td>\n",
              "      <td>135</td>\n",
              "      <td>1</td>\n",
              "      <td>2</td>\n",
              "      <td>2018-06-10</td>\n",
              "      <td>0.09</td>\n",
              "      <td>18</td>\n",
              "      <td>365</td>\n",
              "    </tr>\n",
              "    <tr>\n",
              "      <th>26889</th>\n",
              "      <td>21311903</td>\n",
              "      <td>Hillside Hotel</td>\n",
              "      <td>134184451</td>\n",
              "      <td>Hillside Hotel</td>\n",
              "      <td>Queens</td>\n",
              "      <td>Jamaica</td>\n",
              "      <td>40.70258</td>\n",
              "      <td>-73.81510</td>\n",
              "      <td>Private room</td>\n",
              "      <td>135</td>\n",
              "      <td>1</td>\n",
              "      <td>0</td>\n",
              "      <td>NaN</td>\n",
              "      <td>NaN</td>\n",
              "      <td>18</td>\n",
              "      <td>365</td>\n",
              "    </tr>\n",
              "    <tr>\n",
              "      <th>26891</th>\n",
              "      <td>21312075</td>\n",
              "      <td>Hillside Hotel</td>\n",
              "      <td>134184451</td>\n",
              "      <td>Hillside Hotel</td>\n",
              "      <td>Queens</td>\n",
              "      <td>Jamaica</td>\n",
              "      <td>40.70333</td>\n",
              "      <td>-73.81380</td>\n",
              "      <td>Private room</td>\n",
              "      <td>135</td>\n",
              "      <td>1</td>\n",
              "      <td>0</td>\n",
              "      <td>NaN</td>\n",
              "      <td>NaN</td>\n",
              "      <td>18</td>\n",
              "      <td>365</td>\n",
              "    </tr>\n",
              "    <tr>\n",
              "      <th>26892</th>\n",
              "      <td>21312191</td>\n",
              "      <td>Hillside Hotel</td>\n",
              "      <td>134184451</td>\n",
              "      <td>Hillside Hotel</td>\n",
              "      <td>Queens</td>\n",
              "      <td>Jamaica</td>\n",
              "      <td>40.70259</td>\n",
              "      <td>-73.81415</td>\n",
              "      <td>Private room</td>\n",
              "      <td>135</td>\n",
              "      <td>1</td>\n",
              "      <td>0</td>\n",
              "      <td>NaN</td>\n",
              "      <td>NaN</td>\n",
              "      <td>18</td>\n",
              "      <td>365</td>\n",
              "    </tr>\n",
              "    <tr>\n",
              "      <th>26893</th>\n",
              "      <td>21312225</td>\n",
              "      <td>Hillside Hotel</td>\n",
              "      <td>134184451</td>\n",
              "      <td>Hillside Hotel</td>\n",
              "      <td>Queens</td>\n",
              "      <td>Jamaica</td>\n",
              "      <td>40.70262</td>\n",
              "      <td>-73.81526</td>\n",
              "      <td>Private room</td>\n",
              "      <td>135</td>\n",
              "      <td>1</td>\n",
              "      <td>1</td>\n",
              "      <td>2017-12-10</td>\n",
              "      <td>0.05</td>\n",
              "      <td>18</td>\n",
              "      <td>365</td>\n",
              "    </tr>\n",
              "    <tr>\n",
              "      <th>26894</th>\n",
              "      <td>21312283</td>\n",
              "      <td>Hillside Hotel</td>\n",
              "      <td>134184451</td>\n",
              "      <td>Hillside Hotel</td>\n",
              "      <td>Queens</td>\n",
              "      <td>Briarwood</td>\n",
              "      <td>40.70450</td>\n",
              "      <td>-73.81447</td>\n",
              "      <td>Private room</td>\n",
              "      <td>135</td>\n",
              "      <td>1</td>\n",
              "      <td>0</td>\n",
              "      <td>NaN</td>\n",
              "      <td>NaN</td>\n",
              "      <td>18</td>\n",
              "      <td>355</td>\n",
              "    </tr>\n",
              "    <tr>\n",
              "      <th>26895</th>\n",
              "      <td>21312330</td>\n",
              "      <td>Hillside Hotel</td>\n",
              "      <td>134184451</td>\n",
              "      <td>Hillside Hotel</td>\n",
              "      <td>Queens</td>\n",
              "      <td>Briarwood</td>\n",
              "      <td>40.70458</td>\n",
              "      <td>-73.81418</td>\n",
              "      <td>Private room</td>\n",
              "      <td>135</td>\n",
              "      <td>1</td>\n",
              "      <td>0</td>\n",
              "      <td>NaN</td>\n",
              "      <td>NaN</td>\n",
              "      <td>18</td>\n",
              "      <td>355</td>\n",
              "    </tr>\n",
              "    <tr>\n",
              "      <th>26896</th>\n",
              "      <td>21312403</td>\n",
              "      <td>Hillside Hotel</td>\n",
              "      <td>134184451</td>\n",
              "      <td>Hillside Hotel</td>\n",
              "      <td>Queens</td>\n",
              "      <td>Jamaica</td>\n",
              "      <td>40.70423</td>\n",
              "      <td>-73.81440</td>\n",
              "      <td>Private room</td>\n",
              "      <td>165</td>\n",
              "      <td>1</td>\n",
              "      <td>0</td>\n",
              "      <td>NaN</td>\n",
              "      <td>NaN</td>\n",
              "      <td>18</td>\n",
              "      <td>362</td>\n",
              "    </tr>\n",
              "    <tr>\n",
              "      <th>26897</th>\n",
              "      <td>21312440</td>\n",
              "      <td>Hillside Hotel</td>\n",
              "      <td>134184451</td>\n",
              "      <td>Hillside Hotel</td>\n",
              "      <td>Queens</td>\n",
              "      <td>Jamaica</td>\n",
              "      <td>40.70269</td>\n",
              "      <td>-73.81585</td>\n",
              "      <td>Private room</td>\n",
              "      <td>165</td>\n",
              "      <td>1</td>\n",
              "      <td>0</td>\n",
              "      <td>NaN</td>\n",
              "      <td>NaN</td>\n",
              "      <td>18</td>\n",
              "      <td>360</td>\n",
              "    </tr>\n",
              "    <tr>\n",
              "      <th>26898</th>\n",
              "      <td>21312495</td>\n",
              "      <td>Hillside Hotel</td>\n",
              "      <td>134184451</td>\n",
              "      <td>Hillside Hotel</td>\n",
              "      <td>Queens</td>\n",
              "      <td>Jamaica</td>\n",
              "      <td>40.70426</td>\n",
              "      <td>-73.81509</td>\n",
              "      <td>Private room</td>\n",
              "      <td>165</td>\n",
              "      <td>1</td>\n",
              "      <td>0</td>\n",
              "      <td>NaN</td>\n",
              "      <td>NaN</td>\n",
              "      <td>18</td>\n",
              "      <td>362</td>\n",
              "    </tr>\n",
              "    <tr>\n",
              "      <th>26899</th>\n",
              "      <td>21312549</td>\n",
              "      <td>Hillside Hotel</td>\n",
              "      <td>134184451</td>\n",
              "      <td>Hillside Hotel</td>\n",
              "      <td>Queens</td>\n",
              "      <td>Jamaica</td>\n",
              "      <td>40.70262</td>\n",
              "      <td>-73.81579</td>\n",
              "      <td>Private room</td>\n",
              "      <td>165</td>\n",
              "      <td>1</td>\n",
              "      <td>0</td>\n",
              "      <td>NaN</td>\n",
              "      <td>NaN</td>\n",
              "      <td>18</td>\n",
              "      <td>355</td>\n",
              "    </tr>\n",
              "    <tr>\n",
              "      <th>26900</th>\n",
              "      <td>21312595</td>\n",
              "      <td>Hillside Hotel</td>\n",
              "      <td>134184451</td>\n",
              "      <td>Hillside Hotel</td>\n",
              "      <td>Queens</td>\n",
              "      <td>Briarwood</td>\n",
              "      <td>40.70475</td>\n",
              "      <td>-73.81572</td>\n",
              "      <td>Private room</td>\n",
              "      <td>165</td>\n",
              "      <td>1</td>\n",
              "      <td>2</td>\n",
              "      <td>2018-01-01</td>\n",
              "      <td>0.09</td>\n",
              "      <td>18</td>\n",
              "      <td>355</td>\n",
              "    </tr>\n",
              "    <tr>\n",
              "      <th>26901</th>\n",
              "      <td>21312687</td>\n",
              "      <td>Hillside Hotel</td>\n",
              "      <td>134184451</td>\n",
              "      <td>Hillside Hotel</td>\n",
              "      <td>Queens</td>\n",
              "      <td>Briarwood</td>\n",
              "      <td>40.70471</td>\n",
              "      <td>-73.81542</td>\n",
              "      <td>Private room</td>\n",
              "      <td>135</td>\n",
              "      <td>1</td>\n",
              "      <td>3</td>\n",
              "      <td>2018-01-01</td>\n",
              "      <td>0.15</td>\n",
              "      <td>18</td>\n",
              "      <td>319</td>\n",
              "    </tr>\n",
              "    <tr>\n",
              "      <th>26902</th>\n",
              "      <td>21312732</td>\n",
              "      <td>Hillside Hotel</td>\n",
              "      <td>134184451</td>\n",
              "      <td>Hillside Hotel</td>\n",
              "      <td>Queens</td>\n",
              "      <td>Briarwood</td>\n",
              "      <td>40.70455</td>\n",
              "      <td>-73.81528</td>\n",
              "      <td>Private room</td>\n",
              "      <td>135</td>\n",
              "      <td>1</td>\n",
              "      <td>0</td>\n",
              "      <td>NaN</td>\n",
              "      <td>NaN</td>\n",
              "      <td>18</td>\n",
              "      <td>309</td>\n",
              "    </tr>\n",
              "    <tr>\n",
              "      <th>27186</th>\n",
              "      <td>21488093</td>\n",
              "      <td>Rod</td>\n",
              "      <td>128142697</td>\n",
              "      <td>Rod</td>\n",
              "      <td>Manhattan</td>\n",
              "      <td>Upper East Side</td>\n",
              "      <td>40.76719</td>\n",
              "      <td>-73.96973</td>\n",
              "      <td>Entire home/apt</td>\n",
              "      <td>750</td>\n",
              "      <td>4</td>\n",
              "      <td>0</td>\n",
              "      <td>NaN</td>\n",
              "      <td>NaN</td>\n",
              "      <td>2</td>\n",
              "      <td>0</td>\n",
              "    </tr>\n",
              "    <tr>\n",
              "      <th>33964</th>\n",
              "      <td>26895166</td>\n",
              "      <td>2018Serenity</td>\n",
              "      <td>202318295</td>\n",
              "      <td>2018Serenity</td>\n",
              "      <td>Manhattan</td>\n",
              "      <td>East Harlem</td>\n",
              "      <td>40.79424</td>\n",
              "      <td>-73.94290</td>\n",
              "      <td>Private room</td>\n",
              "      <td>50</td>\n",
              "      <td>5</td>\n",
              "      <td>4</td>\n",
              "      <td>2019-06-22</td>\n",
              "      <td>0.39</td>\n",
              "      <td>1</td>\n",
              "      <td>32</td>\n",
              "    </tr>\n",
              "    <tr>\n",
              "      <th>43564</th>\n",
              "      <td>33718254</td>\n",
              "      <td>Imperial</td>\n",
              "      <td>249479517</td>\n",
              "      <td>Imperial</td>\n",
              "      <td>Bronx</td>\n",
              "      <td>Soundview</td>\n",
              "      <td>40.82864</td>\n",
              "      <td>-73.87609</td>\n",
              "      <td>Private room</td>\n",
              "      <td>45</td>\n",
              "      <td>2</td>\n",
              "      <td>6</td>\n",
              "      <td>2019-06-21</td>\n",
              "      <td>2.28</td>\n",
              "      <td>2</td>\n",
              "      <td>24</td>\n",
              "    </tr>\n",
              "    <tr>\n",
              "      <th>45510</th>\n",
              "      <td>34803347</td>\n",
              "      <td>Yu</td>\n",
              "      <td>197052947</td>\n",
              "      <td>Yu</td>\n",
              "      <td>Manhattan</td>\n",
              "      <td>Roosevelt Island</td>\n",
              "      <td>40.76417</td>\n",
              "      <td>-73.94865</td>\n",
              "      <td>Shared room</td>\n",
              "      <td>55</td>\n",
              "      <td>7</td>\n",
              "      <td>0</td>\n",
              "      <td>NaN</td>\n",
              "      <td>NaN</td>\n",
              "      <td>1</td>\n",
              "      <td>38</td>\n",
              "    </tr>\n",
              "  </tbody>\n",
              "</table>\n",
              "</div>"
            ],
            "text/plain": [
              "             id  ... availability_365\n",
              "9473    7264659  ...               25\n",
              "10682   8212051  ...              238\n",
              "16422  13186374  ...                0\n",
              "23996  19348168  ...                0\n",
              "24152  19456810  ...               90\n",
              "24607  19785737  ...              180\n",
              "26734  21231543  ...              365\n",
              "26752  21243952  ...              365\n",
              "26753  21244035  ...              365\n",
              "26889  21311903  ...              365\n",
              "26891  21312075  ...              365\n",
              "26892  21312191  ...              365\n",
              "26893  21312225  ...              365\n",
              "26894  21312283  ...              355\n",
              "26895  21312330  ...              355\n",
              "26896  21312403  ...              362\n",
              "26897  21312440  ...              360\n",
              "26898  21312495  ...              362\n",
              "26899  21312549  ...              355\n",
              "26900  21312595  ...              355\n",
              "26901  21312687  ...              319\n",
              "26902  21312732  ...              309\n",
              "27186  21488093  ...                0\n",
              "33964  26895166  ...               32\n",
              "43564  33718254  ...               24\n",
              "45510  34803347  ...               38\n",
              "\n",
              "[26 rows x 16 columns]"
            ]
          },
          "metadata": {
            "tags": []
          },
          "execution_count": 15
        }
      ]
    },
    {
      "cell_type": "code",
      "metadata": {
        "id": "B4rQu2xu9Ooz",
        "colab": {
          "base_uri": "https://localhost:8080/",
          "height": 1000
        },
        "outputId": "9c70a42e-c113-49ed-879a-0f9655007ee4"
      },
      "source": [
        "df_air[df_air['name']=='New york Multi-unit building'] #so on this viewpoint name also comes under categorical var!"
      ],
      "execution_count": 16,
      "outputs": [
        {
          "output_type": "execute_result",
          "data": {
            "text/html": [
              "<div>\n",
              "<style scoped>\n",
              "    .dataframe tbody tr th:only-of-type {\n",
              "        vertical-align: middle;\n",
              "    }\n",
              "\n",
              "    .dataframe tbody tr th {\n",
              "        vertical-align: top;\n",
              "    }\n",
              "\n",
              "    .dataframe thead th {\n",
              "        text-align: right;\n",
              "    }\n",
              "</style>\n",
              "<table border=\"1\" class=\"dataframe\">\n",
              "  <thead>\n",
              "    <tr style=\"text-align: right;\">\n",
              "      <th></th>\n",
              "      <th>id</th>\n",
              "      <th>name</th>\n",
              "      <th>host_id</th>\n",
              "      <th>host_name</th>\n",
              "      <th>neighbourhood_group</th>\n",
              "      <th>neighbourhood</th>\n",
              "      <th>latitude</th>\n",
              "      <th>longitude</th>\n",
              "      <th>room_type</th>\n",
              "      <th>price</th>\n",
              "      <th>minimum_nights</th>\n",
              "      <th>number_of_reviews</th>\n",
              "      <th>last_review</th>\n",
              "      <th>reviews_per_month</th>\n",
              "      <th>calculated_host_listings_count</th>\n",
              "      <th>availability_365</th>\n",
              "    </tr>\n",
              "  </thead>\n",
              "  <tbody>\n",
              "    <tr>\n",
              "      <th>2751</th>\n",
              "      <td>1489426</td>\n",
              "      <td>New york Multi-unit building</td>\n",
              "      <td>7964729</td>\n",
              "      <td>Justin</td>\n",
              "      <td>Manhattan</td>\n",
              "      <td>Financial District</td>\n",
              "      <td>40.70582</td>\n",
              "      <td>-74.00888</td>\n",
              "      <td>Entire home/apt</td>\n",
              "      <td>390</td>\n",
              "      <td>3</td>\n",
              "      <td>1</td>\n",
              "      <td>2018-09-13</td>\n",
              "      <td>0.10</td>\n",
              "      <td>1</td>\n",
              "      <td>0</td>\n",
              "    </tr>\n",
              "    <tr>\n",
              "      <th>19016</th>\n",
              "      <td>15100883</td>\n",
              "      <td>New york Multi-unit building</td>\n",
              "      <td>95623284</td>\n",
              "      <td>Pablo</td>\n",
              "      <td>Bronx</td>\n",
              "      <td>Fordham</td>\n",
              "      <td>40.86533</td>\n",
              "      <td>-73.89713</td>\n",
              "      <td>Private room</td>\n",
              "      <td>40</td>\n",
              "      <td>3</td>\n",
              "      <td>1</td>\n",
              "      <td>2018-09-24</td>\n",
              "      <td>0.10</td>\n",
              "      <td>1</td>\n",
              "      <td>179</td>\n",
              "    </tr>\n",
              "    <tr>\n",
              "      <th>33473</th>\n",
              "      <td>26463879</td>\n",
              "      <td>New york Multi-unit building</td>\n",
              "      <td>21682640</td>\n",
              "      <td>Clarise</td>\n",
              "      <td>Brooklyn</td>\n",
              "      <td>Flatbush</td>\n",
              "      <td>40.64258</td>\n",
              "      <td>-73.95952</td>\n",
              "      <td>Private room</td>\n",
              "      <td>65</td>\n",
              "      <td>30</td>\n",
              "      <td>0</td>\n",
              "      <td>NaN</td>\n",
              "      <td>NaN</td>\n",
              "      <td>2</td>\n",
              "      <td>365</td>\n",
              "    </tr>\n",
              "    <tr>\n",
              "      <th>34613</th>\n",
              "      <td>27457026</td>\n",
              "      <td>New york Multi-unit building</td>\n",
              "      <td>125320407</td>\n",
              "      <td>Sata</td>\n",
              "      <td>Queens</td>\n",
              "      <td>Jamaica</td>\n",
              "      <td>40.70653</td>\n",
              "      <td>-73.80561</td>\n",
              "      <td>Entire home/apt</td>\n",
              "      <td>1000</td>\n",
              "      <td>2</td>\n",
              "      <td>0</td>\n",
              "      <td>NaN</td>\n",
              "      <td>NaN</td>\n",
              "      <td>5</td>\n",
              "      <td>365</td>\n",
              "    </tr>\n",
              "    <tr>\n",
              "      <th>35177</th>\n",
              "      <td>27906346</td>\n",
              "      <td>New york Multi-unit building</td>\n",
              "      <td>27071572</td>\n",
              "      <td>Kinga</td>\n",
              "      <td>Manhattan</td>\n",
              "      <td>Upper West Side</td>\n",
              "      <td>40.79372</td>\n",
              "      <td>-73.97431</td>\n",
              "      <td>Entire home/apt</td>\n",
              "      <td>140</td>\n",
              "      <td>5</td>\n",
              "      <td>3</td>\n",
              "      <td>2019-04-24</td>\n",
              "      <td>0.29</td>\n",
              "      <td>1</td>\n",
              "      <td>89</td>\n",
              "    </tr>\n",
              "    <tr>\n",
              "      <th>35395</th>\n",
              "      <td>28078505</td>\n",
              "      <td>New york Multi-unit building</td>\n",
              "      <td>122849679</td>\n",
              "      <td>Maria</td>\n",
              "      <td>Brooklyn</td>\n",
              "      <td>Sheepshead Bay</td>\n",
              "      <td>40.59085</td>\n",
              "      <td>-73.95405</td>\n",
              "      <td>Private room</td>\n",
              "      <td>70</td>\n",
              "      <td>1</td>\n",
              "      <td>2</td>\n",
              "      <td>2018-11-03</td>\n",
              "      <td>0.20</td>\n",
              "      <td>1</td>\n",
              "      <td>0</td>\n",
              "    </tr>\n",
              "    <tr>\n",
              "      <th>35618</th>\n",
              "      <td>28284458</td>\n",
              "      <td>New york Multi-unit building</td>\n",
              "      <td>213604995</td>\n",
              "      <td>Doreen</td>\n",
              "      <td>Brooklyn</td>\n",
              "      <td>Bushwick</td>\n",
              "      <td>40.68705</td>\n",
              "      <td>-73.91456</td>\n",
              "      <td>Private room</td>\n",
              "      <td>75</td>\n",
              "      <td>2</td>\n",
              "      <td>85</td>\n",
              "      <td>2019-07-05</td>\n",
              "      <td>8.31</td>\n",
              "      <td>2</td>\n",
              "      <td>309</td>\n",
              "    </tr>\n",
              "    <tr>\n",
              "      <th>35810</th>\n",
              "      <td>28427324</td>\n",
              "      <td>New york Multi-unit building</td>\n",
              "      <td>214141672</td>\n",
              "      <td>Monica</td>\n",
              "      <td>Queens</td>\n",
              "      <td>Astoria</td>\n",
              "      <td>40.76466</td>\n",
              "      <td>-73.92731</td>\n",
              "      <td>Private room</td>\n",
              "      <td>120</td>\n",
              "      <td>1</td>\n",
              "      <td>1</td>\n",
              "      <td>2018-09-19</td>\n",
              "      <td>0.10</td>\n",
              "      <td>1</td>\n",
              "      <td>362</td>\n",
              "    </tr>\n",
              "    <tr>\n",
              "      <th>35918</th>\n",
              "      <td>28534405</td>\n",
              "      <td>New york Multi-unit building</td>\n",
              "      <td>2891643</td>\n",
              "      <td>Jacqueline</td>\n",
              "      <td>Manhattan</td>\n",
              "      <td>Harlem</td>\n",
              "      <td>40.82146</td>\n",
              "      <td>-73.94598</td>\n",
              "      <td>Private room</td>\n",
              "      <td>50</td>\n",
              "      <td>1</td>\n",
              "      <td>0</td>\n",
              "      <td>NaN</td>\n",
              "      <td>NaN</td>\n",
              "      <td>1</td>\n",
              "      <td>0</td>\n",
              "    </tr>\n",
              "    <tr>\n",
              "      <th>36180</th>\n",
              "      <td>28761735</td>\n",
              "      <td>New york Multi-unit building</td>\n",
              "      <td>65827591</td>\n",
              "      <td>Nubia</td>\n",
              "      <td>Queens</td>\n",
              "      <td>Maspeth</td>\n",
              "      <td>40.73616</td>\n",
              "      <td>-73.89926</td>\n",
              "      <td>Shared room</td>\n",
              "      <td>55</td>\n",
              "      <td>1</td>\n",
              "      <td>0</td>\n",
              "      <td>NaN</td>\n",
              "      <td>NaN</td>\n",
              "      <td>3</td>\n",
              "      <td>47</td>\n",
              "    </tr>\n",
              "    <tr>\n",
              "      <th>36979</th>\n",
              "      <td>29393371</td>\n",
              "      <td>New york Multi-unit building</td>\n",
              "      <td>221434490</td>\n",
              "      <td>Aracely</td>\n",
              "      <td>Queens</td>\n",
              "      <td>Jackson Heights</td>\n",
              "      <td>40.75586</td>\n",
              "      <td>-73.87014</td>\n",
              "      <td>Private room</td>\n",
              "      <td>49</td>\n",
              "      <td>2</td>\n",
              "      <td>23</td>\n",
              "      <td>2019-06-16</td>\n",
              "      <td>2.86</td>\n",
              "      <td>2</td>\n",
              "      <td>358</td>\n",
              "    </tr>\n",
              "    <tr>\n",
              "      <th>36993</th>\n",
              "      <td>29412276</td>\n",
              "      <td>New york Multi-unit building</td>\n",
              "      <td>221434490</td>\n",
              "      <td>Aracely</td>\n",
              "      <td>Queens</td>\n",
              "      <td>Jackson Heights</td>\n",
              "      <td>40.75473</td>\n",
              "      <td>-73.87150</td>\n",
              "      <td>Private room</td>\n",
              "      <td>45</td>\n",
              "      <td>2</td>\n",
              "      <td>22</td>\n",
              "      <td>2019-06-14</td>\n",
              "      <td>2.58</td>\n",
              "      <td>2</td>\n",
              "      <td>138</td>\n",
              "    </tr>\n",
              "    <tr>\n",
              "      <th>38134</th>\n",
              "      <td>30101694</td>\n",
              "      <td>New york Multi-unit building</td>\n",
              "      <td>4750332</td>\n",
              "      <td>Ofer</td>\n",
              "      <td>Manhattan</td>\n",
              "      <td>Hell's Kitchen</td>\n",
              "      <td>40.75884</td>\n",
              "      <td>-73.99208</td>\n",
              "      <td>Entire home/apt</td>\n",
              "      <td>800</td>\n",
              "      <td>180</td>\n",
              "      <td>0</td>\n",
              "      <td>NaN</td>\n",
              "      <td>NaN</td>\n",
              "      <td>1</td>\n",
              "      <td>358</td>\n",
              "    </tr>\n",
              "    <tr>\n",
              "      <th>38246</th>\n",
              "      <td>30155394</td>\n",
              "      <td>New york Multi-unit building</td>\n",
              "      <td>208235184</td>\n",
              "      <td>Linda</td>\n",
              "      <td>Brooklyn</td>\n",
              "      <td>Greenpoint</td>\n",
              "      <td>40.72305</td>\n",
              "      <td>-73.94576</td>\n",
              "      <td>Entire home/apt</td>\n",
              "      <td>195</td>\n",
              "      <td>1</td>\n",
              "      <td>0</td>\n",
              "      <td>NaN</td>\n",
              "      <td>NaN</td>\n",
              "      <td>1</td>\n",
              "      <td>12</td>\n",
              "    </tr>\n",
              "    <tr>\n",
              "      <th>39111</th>\n",
              "      <td>30528541</td>\n",
              "      <td>New york Multi-unit building</td>\n",
              "      <td>95575605</td>\n",
              "      <td>Natasha</td>\n",
              "      <td>Manhattan</td>\n",
              "      <td>Chelsea</td>\n",
              "      <td>40.74726</td>\n",
              "      <td>-73.99029</td>\n",
              "      <td>Entire home/apt</td>\n",
              "      <td>250</td>\n",
              "      <td>7</td>\n",
              "      <td>0</td>\n",
              "      <td>NaN</td>\n",
              "      <td>NaN</td>\n",
              "      <td>1</td>\n",
              "      <td>0</td>\n",
              "    </tr>\n",
              "    <tr>\n",
              "      <th>39395</th>\n",
              "      <td>30715488</td>\n",
              "      <td>New york Multi-unit building</td>\n",
              "      <td>5954813</td>\n",
              "      <td>Sarah</td>\n",
              "      <td>Brooklyn</td>\n",
              "      <td>Clinton Hill</td>\n",
              "      <td>40.68983</td>\n",
              "      <td>-73.96553</td>\n",
              "      <td>Private room</td>\n",
              "      <td>120</td>\n",
              "      <td>15</td>\n",
              "      <td>0</td>\n",
              "      <td>NaN</td>\n",
              "      <td>NaN</td>\n",
              "      <td>1</td>\n",
              "      <td>179</td>\n",
              "    </tr>\n",
              "  </tbody>\n",
              "</table>\n",
              "</div>"
            ],
            "text/plain": [
              "             id  ... availability_365\n",
              "2751    1489426  ...                0\n",
              "19016  15100883  ...              179\n",
              "33473  26463879  ...              365\n",
              "34613  27457026  ...              365\n",
              "35177  27906346  ...               89\n",
              "35395  28078505  ...                0\n",
              "35618  28284458  ...              309\n",
              "35810  28427324  ...              362\n",
              "35918  28534405  ...                0\n",
              "36180  28761735  ...               47\n",
              "36979  29393371  ...              358\n",
              "36993  29412276  ...              138\n",
              "38134  30101694  ...              358\n",
              "38246  30155394  ...               12\n",
              "39111  30528541  ...                0\n",
              "39395  30715488  ...              179\n",
              "\n",
              "[16 rows x 16 columns]"
            ]
          },
          "metadata": {
            "tags": []
          },
          "execution_count": 16
        }
      ]
    },
    {
      "cell_type": "code",
      "metadata": {
        "id": "ulyVjNLONiCU",
        "colab": {
          "base_uri": "https://localhost:8080/",
          "height": 1000
        },
        "outputId": "d1dc5d40-cc22-4164-9bae-3247cd778643"
      },
      "source": [
        "df_air.loc[(df_air['neighbourhood_group']=='Manhattan') & (df_air['host_name']=='Natasha')] #experiment"
      ],
      "execution_count": 17,
      "outputs": [
        {
          "output_type": "execute_result",
          "data": {
            "text/html": [
              "<div>\n",
              "<style scoped>\n",
              "    .dataframe tbody tr th:only-of-type {\n",
              "        vertical-align: middle;\n",
              "    }\n",
              "\n",
              "    .dataframe tbody tr th {\n",
              "        vertical-align: top;\n",
              "    }\n",
              "\n",
              "    .dataframe thead th {\n",
              "        text-align: right;\n",
              "    }\n",
              "</style>\n",
              "<table border=\"1\" class=\"dataframe\">\n",
              "  <thead>\n",
              "    <tr style=\"text-align: right;\">\n",
              "      <th></th>\n",
              "      <th>id</th>\n",
              "      <th>name</th>\n",
              "      <th>host_id</th>\n",
              "      <th>host_name</th>\n",
              "      <th>neighbourhood_group</th>\n",
              "      <th>neighbourhood</th>\n",
              "      <th>latitude</th>\n",
              "      <th>longitude</th>\n",
              "      <th>room_type</th>\n",
              "      <th>price</th>\n",
              "      <th>minimum_nights</th>\n",
              "      <th>number_of_reviews</th>\n",
              "      <th>last_review</th>\n",
              "      <th>reviews_per_month</th>\n",
              "      <th>calculated_host_listings_count</th>\n",
              "      <th>availability_365</th>\n",
              "    </tr>\n",
              "  </thead>\n",
              "  <tbody>\n",
              "    <tr>\n",
              "      <th>4702</th>\n",
              "      <td>3304307</td>\n",
              "      <td>Lovely Shiny Private Room in NYC</td>\n",
              "      <td>12465884</td>\n",
              "      <td>Natasha</td>\n",
              "      <td>Manhattan</td>\n",
              "      <td>East Harlem</td>\n",
              "      <td>40.79269</td>\n",
              "      <td>-73.94218</td>\n",
              "      <td>Private room</td>\n",
              "      <td>100</td>\n",
              "      <td>3</td>\n",
              "      <td>64</td>\n",
              "      <td>2019-06-01</td>\n",
              "      <td>1.05</td>\n",
              "      <td>1</td>\n",
              "      <td>219</td>\n",
              "    </tr>\n",
              "    <tr>\n",
              "      <th>4853</th>\n",
              "      <td>3458525</td>\n",
              "      <td>Modern &amp; Cozy 1BD Garden Apt</td>\n",
              "      <td>17430718</td>\n",
              "      <td>Natasha</td>\n",
              "      <td>Manhattan</td>\n",
              "      <td>Harlem</td>\n",
              "      <td>40.81511</td>\n",
              "      <td>-73.94315</td>\n",
              "      <td>Entire home/apt</td>\n",
              "      <td>115</td>\n",
              "      <td>3</td>\n",
              "      <td>64</td>\n",
              "      <td>2019-06-19</td>\n",
              "      <td>1.05</td>\n",
              "      <td>2</td>\n",
              "      <td>211</td>\n",
              "    </tr>\n",
              "    <tr>\n",
              "      <th>8686</th>\n",
              "      <td>6673630</td>\n",
              "      <td>Stylish L.E.S Studio</td>\n",
              "      <td>6591262</td>\n",
              "      <td>Natasha</td>\n",
              "      <td>Manhattan</td>\n",
              "      <td>Lower East Side</td>\n",
              "      <td>40.71661</td>\n",
              "      <td>-73.98916</td>\n",
              "      <td>Entire home/apt</td>\n",
              "      <td>150</td>\n",
              "      <td>3</td>\n",
              "      <td>1</td>\n",
              "      <td>2015-08-01</td>\n",
              "      <td>0.02</td>\n",
              "      <td>1</td>\n",
              "      <td>0</td>\n",
              "    </tr>\n",
              "    <tr>\n",
              "      <th>9376</th>\n",
              "      <td>7193201</td>\n",
              "      <td>Private RM in Heart of East Village</td>\n",
              "      <td>33739627</td>\n",
              "      <td>Natasha</td>\n",
              "      <td>Manhattan</td>\n",
              "      <td>East Village</td>\n",
              "      <td>40.72896</td>\n",
              "      <td>-73.98430</td>\n",
              "      <td>Private room</td>\n",
              "      <td>99</td>\n",
              "      <td>1</td>\n",
              "      <td>4</td>\n",
              "      <td>2015-10-24</td>\n",
              "      <td>0.08</td>\n",
              "      <td>1</td>\n",
              "      <td>0</td>\n",
              "    </tr>\n",
              "    <tr>\n",
              "      <th>10310</th>\n",
              "      <td>7894907</td>\n",
              "      <td>Cosy studio in East Village</td>\n",
              "      <td>1830864</td>\n",
              "      <td>Natasha</td>\n",
              "      <td>Manhattan</td>\n",
              "      <td>East Village</td>\n",
              "      <td>40.72395</td>\n",
              "      <td>-73.98001</td>\n",
              "      <td>Entire home/apt</td>\n",
              "      <td>150</td>\n",
              "      <td>2</td>\n",
              "      <td>25</td>\n",
              "      <td>2016-07-22</td>\n",
              "      <td>0.55</td>\n",
              "      <td>1</td>\n",
              "      <td>0</td>\n",
              "    </tr>\n",
              "    <tr>\n",
              "      <th>11344</th>\n",
              "      <td>8813547</td>\n",
              "      <td>For Christmas-Large New 1 BR Near Central Park</td>\n",
              "      <td>30350590</td>\n",
              "      <td>Natasha</td>\n",
              "      <td>Manhattan</td>\n",
              "      <td>Theater District</td>\n",
              "      <td>40.76268</td>\n",
              "      <td>-73.98407</td>\n",
              "      <td>Private room</td>\n",
              "      <td>230</td>\n",
              "      <td>5</td>\n",
              "      <td>10</td>\n",
              "      <td>2016-09-10</td>\n",
              "      <td>0.23</td>\n",
              "      <td>1</td>\n",
              "      <td>0</td>\n",
              "    </tr>\n",
              "    <tr>\n",
              "      <th>20061</th>\n",
              "      <td>16066223</td>\n",
              "      <td>Spacious, quiet 1 br apt in beautiful Inwood!</td>\n",
              "      <td>1713011</td>\n",
              "      <td>Natasha</td>\n",
              "      <td>Manhattan</td>\n",
              "      <td>Inwood</td>\n",
              "      <td>40.86757</td>\n",
              "      <td>-73.92699</td>\n",
              "      <td>Entire home/apt</td>\n",
              "      <td>89</td>\n",
              "      <td>14</td>\n",
              "      <td>14</td>\n",
              "      <td>2019-05-13</td>\n",
              "      <td>0.57</td>\n",
              "      <td>1</td>\n",
              "      <td>4</td>\n",
              "    </tr>\n",
              "    <tr>\n",
              "      <th>21145</th>\n",
              "      <td>16779705</td>\n",
              "      <td>Cozy West Village Studio</td>\n",
              "      <td>11699846</td>\n",
              "      <td>Natasha</td>\n",
              "      <td>Manhattan</td>\n",
              "      <td>Greenwich Village</td>\n",
              "      <td>40.73239</td>\n",
              "      <td>-73.99960</td>\n",
              "      <td>Entire home/apt</td>\n",
              "      <td>103</td>\n",
              "      <td>2</td>\n",
              "      <td>15</td>\n",
              "      <td>2018-10-28</td>\n",
              "      <td>0.57</td>\n",
              "      <td>1</td>\n",
              "      <td>0</td>\n",
              "    </tr>\n",
              "    <tr>\n",
              "      <th>22125</th>\n",
              "      <td>17808917</td>\n",
              "      <td>Gorgeous &amp; Spacious UES apartment</td>\n",
              "      <td>85218001</td>\n",
              "      <td>Natasha</td>\n",
              "      <td>Manhattan</td>\n",
              "      <td>Upper East Side</td>\n",
              "      <td>40.77666</td>\n",
              "      <td>-73.95618</td>\n",
              "      <td>Private room</td>\n",
              "      <td>105</td>\n",
              "      <td>2</td>\n",
              "      <td>8</td>\n",
              "      <td>2018-06-16</td>\n",
              "      <td>0.30</td>\n",
              "      <td>1</td>\n",
              "      <td>0</td>\n",
              "    </tr>\n",
              "    <tr>\n",
              "      <th>24200</th>\n",
              "      <td>19499668</td>\n",
              "      <td>Cozy Sofa Bed in Upper Manhattan</td>\n",
              "      <td>3372118</td>\n",
              "      <td>Natasha</td>\n",
              "      <td>Manhattan</td>\n",
              "      <td>Washington Heights</td>\n",
              "      <td>40.84133</td>\n",
              "      <td>-73.93739</td>\n",
              "      <td>Shared room</td>\n",
              "      <td>50</td>\n",
              "      <td>1</td>\n",
              "      <td>21</td>\n",
              "      <td>2019-06-15</td>\n",
              "      <td>0.86</td>\n",
              "      <td>1</td>\n",
              "      <td>188</td>\n",
              "    </tr>\n",
              "    <tr>\n",
              "      <th>28787</th>\n",
              "      <td>22231811</td>\n",
              "      <td>Stylish &amp; Spacious 1BD in Central Harlem!</td>\n",
              "      <td>17430718</td>\n",
              "      <td>Natasha</td>\n",
              "      <td>Manhattan</td>\n",
              "      <td>Harlem</td>\n",
              "      <td>40.81537</td>\n",
              "      <td>-73.94067</td>\n",
              "      <td>Entire home/apt</td>\n",
              "      <td>135</td>\n",
              "      <td>3</td>\n",
              "      <td>21</td>\n",
              "      <td>2019-06-10</td>\n",
              "      <td>1.13</td>\n",
              "      <td>2</td>\n",
              "      <td>75</td>\n",
              "    </tr>\n",
              "    <tr>\n",
              "      <th>39111</th>\n",
              "      <td>30528541</td>\n",
              "      <td>New york Multi-unit building</td>\n",
              "      <td>95575605</td>\n",
              "      <td>Natasha</td>\n",
              "      <td>Manhattan</td>\n",
              "      <td>Chelsea</td>\n",
              "      <td>40.74726</td>\n",
              "      <td>-73.99029</td>\n",
              "      <td>Entire home/apt</td>\n",
              "      <td>250</td>\n",
              "      <td>7</td>\n",
              "      <td>0</td>\n",
              "      <td>NaN</td>\n",
              "      <td>NaN</td>\n",
              "      <td>1</td>\n",
              "      <td>0</td>\n",
              "    </tr>\n",
              "    <tr>\n",
              "      <th>40611</th>\n",
              "      <td>31494165</td>\n",
              "      <td>Sunny Cosy Private Room Hell's Kitchen &amp; Broadway</td>\n",
              "      <td>33464426</td>\n",
              "      <td>Natasha</td>\n",
              "      <td>Manhattan</td>\n",
              "      <td>Hell's Kitchen</td>\n",
              "      <td>40.76453</td>\n",
              "      <td>-73.98527</td>\n",
              "      <td>Private room</td>\n",
              "      <td>80</td>\n",
              "      <td>3</td>\n",
              "      <td>8</td>\n",
              "      <td>2019-05-29</td>\n",
              "      <td>1.40</td>\n",
              "      <td>1</td>\n",
              "      <td>0</td>\n",
              "    </tr>\n",
              "    <tr>\n",
              "      <th>42630</th>\n",
              "      <td>33094220</td>\n",
              "      <td>Bright and Quiet near Union Square in the Village</td>\n",
              "      <td>249069377</td>\n",
              "      <td>Natasha</td>\n",
              "      <td>Manhattan</td>\n",
              "      <td>Greenwich Village</td>\n",
              "      <td>40.73424</td>\n",
              "      <td>-73.99355</td>\n",
              "      <td>Private room</td>\n",
              "      <td>120</td>\n",
              "      <td>1</td>\n",
              "      <td>7</td>\n",
              "      <td>2019-06-12</td>\n",
              "      <td>1.96</td>\n",
              "      <td>1</td>\n",
              "      <td>13</td>\n",
              "    </tr>\n",
              "    <tr>\n",
              "      <th>48452</th>\n",
              "      <td>36272531</td>\n",
              "      <td>Charming TriBeCa Loft - Avail for Summer</td>\n",
              "      <td>194377959</td>\n",
              "      <td>Natasha</td>\n",
              "      <td>Manhattan</td>\n",
              "      <td>Tribeca</td>\n",
              "      <td>40.72262</td>\n",
              "      <td>-74.00861</td>\n",
              "      <td>Entire home/apt</td>\n",
              "      <td>250</td>\n",
              "      <td>21</td>\n",
              "      <td>0</td>\n",
              "      <td>NaN</td>\n",
              "      <td>NaN</td>\n",
              "      <td>1</td>\n",
              "      <td>66</td>\n",
              "    </tr>\n",
              "    <tr>\n",
              "      <th>48749</th>\n",
              "      <td>36417643</td>\n",
              "      <td>Luxury private room apt near Central Park (UES)</td>\n",
              "      <td>49796302</td>\n",
              "      <td>Natasha</td>\n",
              "      <td>Manhattan</td>\n",
              "      <td>East Harlem</td>\n",
              "      <td>40.79339</td>\n",
              "      <td>-73.93784</td>\n",
              "      <td>Private room</td>\n",
              "      <td>150</td>\n",
              "      <td>1</td>\n",
              "      <td>0</td>\n",
              "      <td>NaN</td>\n",
              "      <td>NaN</td>\n",
              "      <td>1</td>\n",
              "      <td>265</td>\n",
              "    </tr>\n",
              "  </tbody>\n",
              "</table>\n",
              "</div>"
            ],
            "text/plain": [
              "             id  ... availability_365\n",
              "4702    3304307  ...              219\n",
              "4853    3458525  ...              211\n",
              "8686    6673630  ...                0\n",
              "9376    7193201  ...                0\n",
              "10310   7894907  ...                0\n",
              "11344   8813547  ...                0\n",
              "20061  16066223  ...                4\n",
              "21145  16779705  ...                0\n",
              "22125  17808917  ...                0\n",
              "24200  19499668  ...              188\n",
              "28787  22231811  ...               75\n",
              "39111  30528541  ...                0\n",
              "40611  31494165  ...                0\n",
              "42630  33094220  ...               13\n",
              "48452  36272531  ...               66\n",
              "48749  36417643  ...              265\n",
              "\n",
              "[16 rows x 16 columns]"
            ]
          },
          "metadata": {
            "tags": []
          },
          "execution_count": 17
        }
      ]
    },
    {
      "cell_type": "code",
      "metadata": {
        "id": "AHyn-d3spyqf",
        "colab": {
          "base_uri": "https://localhost:8080/"
        },
        "outputId": "91f48315-1d85-4558-8684-abb092498fcb"
      },
      "source": [
        "df_air['host_id'].value_counts()[:4]"
      ],
      "execution_count": 18,
      "outputs": [
        {
          "output_type": "execute_result",
          "data": {
            "text/plain": [
              "219517861    327\n",
              "107434423    232\n",
              "30283594     121\n",
              "137358866    103\n",
              "Name: host_id, dtype: int64"
            ]
          },
          "metadata": {
            "tags": []
          },
          "execution_count": 18
        }
      ]
    },
    {
      "cell_type": "markdown",
      "metadata": {
        "id": "HZHr5fdWGmPt"
      },
      "source": [
        "So, far I was trying to understand more deep on the two variables: name and host_name & its relationship with neighbourhood_group and neighbourhood.(only from the values present inside) <br>\r\n",
        "\r\n",
        "Found out that: A host can have multiple properties in a neighbourhood group with different host-ids but a host with a particular property/listing in a particular neighbourhood of a neighbourhood group have a same host-id(not mandatory as there are exceptions where few hosts have diferrent id's for each listing/property in a neighbourhood)\r\n",
        "\r\n",
        "Also the data so far tells, there might be cases where a particular host has co-hosted someone else's property/listing in a neighbourhood on Airbnb. \r\n",
        "\r\n",
        "We'll not bother much as these are not that important in our analysis and proceed further!"
      ]
    },
    {
      "cell_type": "code",
      "metadata": {
        "id": "8B0TScmF1dTC",
        "colab": {
          "base_uri": "https://localhost:8080/",
          "height": 411
        },
        "outputId": "46449a32-1430-4244-c0b6-8cd8b18fff19"
      },
      "source": [
        "df_air.head()"
      ],
      "execution_count": 19,
      "outputs": [
        {
          "output_type": "execute_result",
          "data": {
            "text/html": [
              "<div>\n",
              "<style scoped>\n",
              "    .dataframe tbody tr th:only-of-type {\n",
              "        vertical-align: middle;\n",
              "    }\n",
              "\n",
              "    .dataframe tbody tr th {\n",
              "        vertical-align: top;\n",
              "    }\n",
              "\n",
              "    .dataframe thead th {\n",
              "        text-align: right;\n",
              "    }\n",
              "</style>\n",
              "<table border=\"1\" class=\"dataframe\">\n",
              "  <thead>\n",
              "    <tr style=\"text-align: right;\">\n",
              "      <th></th>\n",
              "      <th>id</th>\n",
              "      <th>name</th>\n",
              "      <th>host_id</th>\n",
              "      <th>host_name</th>\n",
              "      <th>neighbourhood_group</th>\n",
              "      <th>neighbourhood</th>\n",
              "      <th>latitude</th>\n",
              "      <th>longitude</th>\n",
              "      <th>room_type</th>\n",
              "      <th>price</th>\n",
              "      <th>minimum_nights</th>\n",
              "      <th>number_of_reviews</th>\n",
              "      <th>last_review</th>\n",
              "      <th>reviews_per_month</th>\n",
              "      <th>calculated_host_listings_count</th>\n",
              "      <th>availability_365</th>\n",
              "    </tr>\n",
              "  </thead>\n",
              "  <tbody>\n",
              "    <tr>\n",
              "      <th>0</th>\n",
              "      <td>2539</td>\n",
              "      <td>Clean &amp; quiet apt home by the park</td>\n",
              "      <td>2787</td>\n",
              "      <td>John</td>\n",
              "      <td>Brooklyn</td>\n",
              "      <td>Kensington</td>\n",
              "      <td>40.64749</td>\n",
              "      <td>-73.97237</td>\n",
              "      <td>Private room</td>\n",
              "      <td>149</td>\n",
              "      <td>1</td>\n",
              "      <td>9</td>\n",
              "      <td>2018-10-19</td>\n",
              "      <td>0.21</td>\n",
              "      <td>6</td>\n",
              "      <td>365</td>\n",
              "    </tr>\n",
              "    <tr>\n",
              "      <th>1</th>\n",
              "      <td>2595</td>\n",
              "      <td>Skylit Midtown Castle</td>\n",
              "      <td>2845</td>\n",
              "      <td>Jennifer</td>\n",
              "      <td>Manhattan</td>\n",
              "      <td>Midtown</td>\n",
              "      <td>40.75362</td>\n",
              "      <td>-73.98377</td>\n",
              "      <td>Entire home/apt</td>\n",
              "      <td>225</td>\n",
              "      <td>1</td>\n",
              "      <td>45</td>\n",
              "      <td>2019-05-21</td>\n",
              "      <td>0.38</td>\n",
              "      <td>2</td>\n",
              "      <td>355</td>\n",
              "    </tr>\n",
              "    <tr>\n",
              "      <th>2</th>\n",
              "      <td>3647</td>\n",
              "      <td>THE VILLAGE OF HARLEM....NEW YORK !</td>\n",
              "      <td>4632</td>\n",
              "      <td>Elisabeth</td>\n",
              "      <td>Manhattan</td>\n",
              "      <td>Harlem</td>\n",
              "      <td>40.80902</td>\n",
              "      <td>-73.94190</td>\n",
              "      <td>Private room</td>\n",
              "      <td>150</td>\n",
              "      <td>3</td>\n",
              "      <td>0</td>\n",
              "      <td>NaN</td>\n",
              "      <td>NaN</td>\n",
              "      <td>1</td>\n",
              "      <td>365</td>\n",
              "    </tr>\n",
              "    <tr>\n",
              "      <th>3</th>\n",
              "      <td>3831</td>\n",
              "      <td>Cozy Entire Floor of Brownstone</td>\n",
              "      <td>4869</td>\n",
              "      <td>LisaRoxanne</td>\n",
              "      <td>Brooklyn</td>\n",
              "      <td>Clinton Hill</td>\n",
              "      <td>40.68514</td>\n",
              "      <td>-73.95976</td>\n",
              "      <td>Entire home/apt</td>\n",
              "      <td>89</td>\n",
              "      <td>1</td>\n",
              "      <td>270</td>\n",
              "      <td>2019-07-05</td>\n",
              "      <td>4.64</td>\n",
              "      <td>1</td>\n",
              "      <td>194</td>\n",
              "    </tr>\n",
              "    <tr>\n",
              "      <th>4</th>\n",
              "      <td>5022</td>\n",
              "      <td>Entire Apt: Spacious Studio/Loft by central park</td>\n",
              "      <td>7192</td>\n",
              "      <td>Laura</td>\n",
              "      <td>Manhattan</td>\n",
              "      <td>East Harlem</td>\n",
              "      <td>40.79851</td>\n",
              "      <td>-73.94399</td>\n",
              "      <td>Entire home/apt</td>\n",
              "      <td>80</td>\n",
              "      <td>10</td>\n",
              "      <td>9</td>\n",
              "      <td>2018-11-19</td>\n",
              "      <td>0.10</td>\n",
              "      <td>1</td>\n",
              "      <td>0</td>\n",
              "    </tr>\n",
              "  </tbody>\n",
              "</table>\n",
              "</div>"
            ],
            "text/plain": [
              "     id  ... availability_365\n",
              "0  2539  ...              365\n",
              "1  2595  ...              355\n",
              "2  3647  ...              365\n",
              "3  3831  ...              194\n",
              "4  5022  ...                0\n",
              "\n",
              "[5 rows x 16 columns]"
            ]
          },
          "metadata": {
            "tags": []
          },
          "execution_count": 19
        }
      ]
    },
    {
      "cell_type": "code",
      "metadata": {
        "id": "0LBczeyPU2AK",
        "colab": {
          "base_uri": "https://localhost:8080/",
          "height": 317
        },
        "outputId": "3a48fce6-b446-44e3-ad6b-7d66c712e103"
      },
      "source": [
        "df_air.describe()"
      ],
      "execution_count": 20,
      "outputs": [
        {
          "output_type": "execute_result",
          "data": {
            "text/html": [
              "<div>\n",
              "<style scoped>\n",
              "    .dataframe tbody tr th:only-of-type {\n",
              "        vertical-align: middle;\n",
              "    }\n",
              "\n",
              "    .dataframe tbody tr th {\n",
              "        vertical-align: top;\n",
              "    }\n",
              "\n",
              "    .dataframe thead th {\n",
              "        text-align: right;\n",
              "    }\n",
              "</style>\n",
              "<table border=\"1\" class=\"dataframe\">\n",
              "  <thead>\n",
              "    <tr style=\"text-align: right;\">\n",
              "      <th></th>\n",
              "      <th>id</th>\n",
              "      <th>host_id</th>\n",
              "      <th>latitude</th>\n",
              "      <th>longitude</th>\n",
              "      <th>price</th>\n",
              "      <th>minimum_nights</th>\n",
              "      <th>number_of_reviews</th>\n",
              "      <th>reviews_per_month</th>\n",
              "      <th>calculated_host_listings_count</th>\n",
              "      <th>availability_365</th>\n",
              "    </tr>\n",
              "  </thead>\n",
              "  <tbody>\n",
              "    <tr>\n",
              "      <th>count</th>\n",
              "      <td>4.889500e+04</td>\n",
              "      <td>4.889500e+04</td>\n",
              "      <td>48895.000000</td>\n",
              "      <td>48895.000000</td>\n",
              "      <td>48895.000000</td>\n",
              "      <td>48895.000000</td>\n",
              "      <td>48895.000000</td>\n",
              "      <td>38843.000000</td>\n",
              "      <td>48895.000000</td>\n",
              "      <td>48895.000000</td>\n",
              "    </tr>\n",
              "    <tr>\n",
              "      <th>mean</th>\n",
              "      <td>1.901714e+07</td>\n",
              "      <td>6.762001e+07</td>\n",
              "      <td>40.728949</td>\n",
              "      <td>-73.952170</td>\n",
              "      <td>152.720687</td>\n",
              "      <td>7.029962</td>\n",
              "      <td>23.274466</td>\n",
              "      <td>1.373221</td>\n",
              "      <td>7.143982</td>\n",
              "      <td>112.781327</td>\n",
              "    </tr>\n",
              "    <tr>\n",
              "      <th>std</th>\n",
              "      <td>1.098311e+07</td>\n",
              "      <td>7.861097e+07</td>\n",
              "      <td>0.054530</td>\n",
              "      <td>0.046157</td>\n",
              "      <td>240.154170</td>\n",
              "      <td>20.510550</td>\n",
              "      <td>44.550582</td>\n",
              "      <td>1.680442</td>\n",
              "      <td>32.952519</td>\n",
              "      <td>131.622289</td>\n",
              "    </tr>\n",
              "    <tr>\n",
              "      <th>min</th>\n",
              "      <td>2.539000e+03</td>\n",
              "      <td>2.438000e+03</td>\n",
              "      <td>40.499790</td>\n",
              "      <td>-74.244420</td>\n",
              "      <td>0.000000</td>\n",
              "      <td>1.000000</td>\n",
              "      <td>0.000000</td>\n",
              "      <td>0.010000</td>\n",
              "      <td>1.000000</td>\n",
              "      <td>0.000000</td>\n",
              "    </tr>\n",
              "    <tr>\n",
              "      <th>25%</th>\n",
              "      <td>9.471945e+06</td>\n",
              "      <td>7.822033e+06</td>\n",
              "      <td>40.690100</td>\n",
              "      <td>-73.983070</td>\n",
              "      <td>69.000000</td>\n",
              "      <td>1.000000</td>\n",
              "      <td>1.000000</td>\n",
              "      <td>0.190000</td>\n",
              "      <td>1.000000</td>\n",
              "      <td>0.000000</td>\n",
              "    </tr>\n",
              "    <tr>\n",
              "      <th>50%</th>\n",
              "      <td>1.967728e+07</td>\n",
              "      <td>3.079382e+07</td>\n",
              "      <td>40.723070</td>\n",
              "      <td>-73.955680</td>\n",
              "      <td>106.000000</td>\n",
              "      <td>3.000000</td>\n",
              "      <td>5.000000</td>\n",
              "      <td>0.720000</td>\n",
              "      <td>1.000000</td>\n",
              "      <td>45.000000</td>\n",
              "    </tr>\n",
              "    <tr>\n",
              "      <th>75%</th>\n",
              "      <td>2.915218e+07</td>\n",
              "      <td>1.074344e+08</td>\n",
              "      <td>40.763115</td>\n",
              "      <td>-73.936275</td>\n",
              "      <td>175.000000</td>\n",
              "      <td>5.000000</td>\n",
              "      <td>24.000000</td>\n",
              "      <td>2.020000</td>\n",
              "      <td>2.000000</td>\n",
              "      <td>227.000000</td>\n",
              "    </tr>\n",
              "    <tr>\n",
              "      <th>max</th>\n",
              "      <td>3.648724e+07</td>\n",
              "      <td>2.743213e+08</td>\n",
              "      <td>40.913060</td>\n",
              "      <td>-73.712990</td>\n",
              "      <td>10000.000000</td>\n",
              "      <td>1250.000000</td>\n",
              "      <td>629.000000</td>\n",
              "      <td>58.500000</td>\n",
              "      <td>327.000000</td>\n",
              "      <td>365.000000</td>\n",
              "    </tr>\n",
              "  </tbody>\n",
              "</table>\n",
              "</div>"
            ],
            "text/plain": [
              "                 id  ...  availability_365\n",
              "count  4.889500e+04  ...      48895.000000\n",
              "mean   1.901714e+07  ...        112.781327\n",
              "std    1.098311e+07  ...        131.622289\n",
              "min    2.539000e+03  ...          0.000000\n",
              "25%    9.471945e+06  ...          0.000000\n",
              "50%    1.967728e+07  ...         45.000000\n",
              "75%    2.915218e+07  ...        227.000000\n",
              "max    3.648724e+07  ...        365.000000\n",
              "\n",
              "[8 rows x 10 columns]"
            ]
          },
          "metadata": {
            "tags": []
          },
          "execution_count": 20
        }
      ]
    },
    {
      "cell_type": "markdown",
      "metadata": {
        "id": "N4dTTqxGj0tl"
      },
      "source": [
        "Looks there are some property listed with 0 listed price!"
      ]
    },
    {
      "cell_type": "code",
      "metadata": {
        "id": "OPfwXPxbjiGi",
        "colab": {
          "base_uri": "https://localhost:8080/"
        },
        "outputId": "60c19970-9da7-423d-bb61-34b4e50b530f"
      },
      "source": [
        "len(df_air[df_air['price']==0]) #so 11 property/listings have 0 price listed."
      ],
      "execution_count": 21,
      "outputs": [
        {
          "output_type": "execute_result",
          "data": {
            "text/plain": [
              "11"
            ]
          },
          "metadata": {
            "tags": []
          },
          "execution_count": 21
        }
      ]
    },
    {
      "cell_type": "code",
      "metadata": {
        "id": "cvZg7irSju9J"
      },
      "source": [
        "#if a person trying to book a listing for stay/rent he/she will look into these following factors while booking:\r\n",
        "#name,host_name,neighbourhood_group,neighbourhood,room_type,price,minimum_nights,number_of_reviews\r\n",
        "#these are the important ones in our analysis. We'll crosscheck though at last!"
      ],
      "execution_count": 22,
      "outputs": []
    },
    {
      "cell_type": "code",
      "metadata": {
        "id": "FIfY_DE4tcQv",
        "colab": {
          "base_uri": "https://localhost:8080/"
        },
        "outputId": "e7d70438-f66e-41c5-b6c8-569487dacb97"
      },
      "source": [
        "df_air['host_name'].value_counts()"
      ],
      "execution_count": 23,
      "outputs": [
        {
          "output_type": "execute_result",
          "data": {
            "text/plain": [
              "Michael         417\n",
              "David           403\n",
              "Sonder (NYC)    327\n",
              "John            294\n",
              "Alex            279\n",
              "               ... \n",
              "Véronique         1\n",
              "Yujun             1\n",
              "Shahla            1\n",
              "Jaamil            1\n",
              "Ryad              1\n",
              "Name: host_name, Length: 11452, dtype: int64"
            ]
          },
          "metadata": {
            "tags": []
          },
          "execution_count": 23
        }
      ]
    },
    {
      "cell_type": "markdown",
      "metadata": {
        "id": "cFpgB0V6JXId"
      },
      "source": [
        "Let's do this problem step by step!"
      ]
    },
    {
      "cell_type": "code",
      "metadata": {
        "id": "E2a3BUUUO1hj",
        "colab": {
          "base_uri": "https://localhost:8080/",
          "height": 465
        },
        "outputId": "b8b2405f-8c64-46ae-d74e-478b47eb0079"
      },
      "source": [
        "#distplot\r\n",
        "# f,ax=plt.subplots(figsize=(8,6))\r\n",
        "sns.set(rc={\"figure.figsize\": (20, 6)})\r\n",
        "sns.distplot(df_air['price'],hist=True)"
      ],
      "execution_count": 24,
      "outputs": [
        {
          "output_type": "stream",
          "text": [
            "/usr/local/lib/python3.6/dist-packages/seaborn/distributions.py:2557: FutureWarning: `distplot` is a deprecated function and will be removed in a future version. Please adapt your code to use either `displot` (a figure-level function with similar flexibility) or `histplot` (an axes-level function for histograms).\n",
            "  warnings.warn(msg, FutureWarning)\n"
          ],
          "name": "stderr"
        },
        {
          "output_type": "execute_result",
          "data": {
            "text/plain": [
              "<matplotlib.axes._subplots.AxesSubplot at 0x7f082e83d3c8>"
            ]
          },
          "metadata": {
            "tags": []
          },
          "execution_count": 24
        },
        {
          "output_type": "display_data",
          "data": {
            "image/png": "[encoded data removed]",
            "text/plain": [
              "<Figure size 1440x432 with 1 Axes>"
            ]
          },
          "metadata": {
            "tags": []
          }
        }
      ]
    },
    {
      "cell_type": "code",
      "metadata": {
        "id": "MVVXLQM8PufL"
      },
      "source": [
        "#The distribution tells it has positive skew\r\n",
        "#also the distribution doesn't deviate much from normal distribution."
      ],
      "execution_count": 25,
      "outputs": []
    },
    {
      "cell_type": "code",
      "metadata": {
        "id": "GzQCmxTSSOgP",
        "colab": {
          "base_uri": "https://localhost:8080/"
        },
        "outputId": "08d4ee74-9e0b-4b86-c5ef-709e7a377d11"
      },
      "source": [
        "#skewness and kurtosis\r\n",
        "print(\"Skewness: %f\" % df_air['price'].skew())\r\n",
        "print(\"Kurtosis: %f\" % df_air['price'].kurt())"
      ],
      "execution_count": 26,
      "outputs": [
        {
          "output_type": "stream",
          "text": [
            "Skewness: 19.118939\n",
            "Kurtosis: 585.672879\n"
          ],
          "name": "stdout"
        }
      ]
    },
    {
      "cell_type": "code",
      "metadata": {
        "id": "ZfLdPmiBS1g6"
      },
      "source": [
        "#looks the skew and kurtosis came out very large. Since the skewness has value>1 it is highly skewed.\r\n",
        "#Also kurtosis looks high as well which indicates presence of good amount of outliers,we will look later into that when we handle outliers!!"
      ],
      "execution_count": 27,
      "outputs": []
    },
    {
      "cell_type": "markdown",
      "metadata": {
        "id": "SdMWHHs-UB8i"
      },
      "source": [
        "**checking the relationship between numerical variables!**"
      ]
    },
    {
      "cell_type": "code",
      "metadata": {
        "id": "eiPdoaUQLgaP",
        "colab": {
          "base_uri": "https://localhost:8080/",
          "height": 452
        },
        "outputId": "1c400dcf-9040-400c-fa58-702720f9dd36"
      },
      "source": [
        "# price vs minimum_nights\r\n",
        "\r\n",
        "var='minimum_nights'\r\n",
        "\r\n",
        "data=pd.concat([df_air['price'],df_air[var]],axis=1)\r\n",
        "data.plot.scatter(x=var,y='price',ylim=(0,12000))"
      ],
      "execution_count": 28,
      "outputs": [
        {
          "output_type": "stream",
          "text": [
            "*c* argument looks like a single numeric RGB or RGBA sequence, which should be avoided as value-mapping will have precedence in case its length matches with *x* & *y*.  Please use the *color* keyword-argument or provide a 2-D array with a single row if you intend to specify the same RGB or RGBA value for all points.\n"
          ],
          "name": "stderr"
        },
        {
          "output_type": "execute_result",
          "data": {
            "text/plain": [
              "<matplotlib.axes._subplots.AxesSubplot at 0x7f0825a84f60>"
            ]
          },
          "metadata": {
            "tags": []
          },
          "execution_count": 28
        },
        {
          "output_type": "display_data",
          "data": {
            "image/png": "[encoded data removed]",
            "text/plain": [
              "<Figure size 1440x432 with 1 Axes>"
            ]
          },
          "metadata": {
            "tags": []
          }
        }
      ]
    },
    {
      "cell_type": "code",
      "metadata": {
        "id": "6bRZMBLhOZsJ"
      },
      "source": [
        "#looks many data points are clustured on 0 price range, few have min nights for stay but price is 0. looks like anomaly in price.\r\n",
        "#there are many outliers as well."
      ],
      "execution_count": 29,
      "outputs": []
    },
    {
      "cell_type": "code",
      "metadata": {
        "id": "aa5YT3S4G9_w",
        "colab": {
          "base_uri": "https://localhost:8080/",
          "height": 377
        },
        "outputId": "767bbcfb-b014-4b54-89be-438258da9325"
      },
      "source": [
        "df_air.boxplot(column=['price'])\r\n",
        "plt.show()\r\n",
        "#we can see the presence of many outliers in price. Definitely we'll remove those, Patience!"
      ],
      "execution_count": 30,
      "outputs": [
        {
          "output_type": "display_data",
          "data": {
            "image/png": "[encoded data removed]",
            "text/plain": [
              "<Figure size 1440x432 with 1 Axes>"
            ]
          },
          "metadata": {
            "tags": []
          }
        }
      ]
    },
    {
      "cell_type": "code",
      "metadata": {
        "id": "A22wXOjY_EzX",
        "colab": {
          "base_uri": "https://localhost:8080/"
        },
        "outputId": "326d6396-3e79-441c-da71-ccc0ca80d722"
      },
      "source": [
        "df_air.info()"
      ],
      "execution_count": 31,
      "outputs": [
        {
          "output_type": "stream",
          "text": [
            "<class 'pandas.core.frame.DataFrame'>\n",
            "RangeIndex: 48895 entries, 0 to 48894\n",
            "Data columns (total 16 columns):\n",
            " #   Column                          Non-Null Count  Dtype  \n",
            "---  ------                          --------------  -----  \n",
            " 0   id                              48895 non-null  int64  \n",
            " 1   name                            48879 non-null  object \n",
            " 2   host_id                         48895 non-null  int64  \n",
            " 3   host_name                       48874 non-null  object \n",
            " 4   neighbourhood_group             48895 non-null  object \n",
            " 5   neighbourhood                   48895 non-null  object \n",
            " 6   latitude                        48895 non-null  float64\n",
            " 7   longitude                       48895 non-null  float64\n",
            " 8   room_type                       48895 non-null  object \n",
            " 9   price                           48895 non-null  int64  \n",
            " 10  minimum_nights                  48895 non-null  int64  \n",
            " 11  number_of_reviews               48895 non-null  int64  \n",
            " 12  last_review                     38843 non-null  object \n",
            " 13  reviews_per_month               38843 non-null  float64\n",
            " 14  calculated_host_listings_count  48895 non-null  int64  \n",
            " 15  availability_365                48895 non-null  int64  \n",
            "dtypes: float64(3), int64(7), object(6)\n",
            "memory usage: 6.0+ MB\n"
          ],
          "name": "stdout"
        }
      ]
    },
    {
      "cell_type": "code",
      "metadata": {
        "id": "zJWo9zjZis5Y"
      },
      "source": [
        "#looks there are many 0 reviews as well for varied prices, even at the highest price(10000) too.\r\n",
        "#seems many of the reviews are not there."
      ],
      "execution_count": 32,
      "outputs": []
    },
    {
      "cell_type": "markdown",
      "metadata": {
        "id": "soOOzW0W-9uT"
      },
      "source": [
        "The numerical variables: price,minimum_nights,number_of_reviews,reviews_per_month has minimum values as 0."
      ]
    },
    {
      "cell_type": "code",
      "metadata": {
        "id": "spmqXCPo9MEQ",
        "colab": {
          "base_uri": "https://localhost:8080/",
          "height": 411
        },
        "outputId": "6dcee838-dda8-49a8-9a3f-8187e45a0369"
      },
      "source": [
        "df_air.head()"
      ],
      "execution_count": 33,
      "outputs": [
        {
          "output_type": "execute_result",
          "data": {
            "text/html": [
              "<div>\n",
              "<style scoped>\n",
              "    .dataframe tbody tr th:only-of-type {\n",
              "        vertical-align: middle;\n",
              "    }\n",
              "\n",
              "    .dataframe tbody tr th {\n",
              "        vertical-align: top;\n",
              "    }\n",
              "\n",
              "    .dataframe thead th {\n",
              "        text-align: right;\n",
              "    }\n",
              "</style>\n",
              "<table border=\"1\" class=\"dataframe\">\n",
              "  <thead>\n",
              "    <tr style=\"text-align: right;\">\n",
              "      <th></th>\n",
              "      <th>id</th>\n",
              "      <th>name</th>\n",
              "      <th>host_id</th>\n",
              "      <th>host_name</th>\n",
              "      <th>neighbourhood_group</th>\n",
              "      <th>neighbourhood</th>\n",
              "      <th>latitude</th>\n",
              "      <th>longitude</th>\n",
              "      <th>room_type</th>\n",
              "      <th>price</th>\n",
              "      <th>minimum_nights</th>\n",
              "      <th>number_of_reviews</th>\n",
              "      <th>last_review</th>\n",
              "      <th>reviews_per_month</th>\n",
              "      <th>calculated_host_listings_count</th>\n",
              "      <th>availability_365</th>\n",
              "    </tr>\n",
              "  </thead>\n",
              "  <tbody>\n",
              "    <tr>\n",
              "      <th>0</th>\n",
              "      <td>2539</td>\n",
              "      <td>Clean &amp; quiet apt home by the park</td>\n",
              "      <td>2787</td>\n",
              "      <td>John</td>\n",
              "      <td>Brooklyn</td>\n",
              "      <td>Kensington</td>\n",
              "      <td>40.64749</td>\n",
              "      <td>-73.97237</td>\n",
              "      <td>Private room</td>\n",
              "      <td>149</td>\n",
              "      <td>1</td>\n",
              "      <td>9</td>\n",
              "      <td>2018-10-19</td>\n",
              "      <td>0.21</td>\n",
              "      <td>6</td>\n",
              "      <td>365</td>\n",
              "    </tr>\n",
              "    <tr>\n",
              "      <th>1</th>\n",
              "      <td>2595</td>\n",
              "      <td>Skylit Midtown Castle</td>\n",
              "      <td>2845</td>\n",
              "      <td>Jennifer</td>\n",
              "      <td>Manhattan</td>\n",
              "      <td>Midtown</td>\n",
              "      <td>40.75362</td>\n",
              "      <td>-73.98377</td>\n",
              "      <td>Entire home/apt</td>\n",
              "      <td>225</td>\n",
              "      <td>1</td>\n",
              "      <td>45</td>\n",
              "      <td>2019-05-21</td>\n",
              "      <td>0.38</td>\n",
              "      <td>2</td>\n",
              "      <td>355</td>\n",
              "    </tr>\n",
              "    <tr>\n",
              "      <th>2</th>\n",
              "      <td>3647</td>\n",
              "      <td>THE VILLAGE OF HARLEM....NEW YORK !</td>\n",
              "      <td>4632</td>\n",
              "      <td>Elisabeth</td>\n",
              "      <td>Manhattan</td>\n",
              "      <td>Harlem</td>\n",
              "      <td>40.80902</td>\n",
              "      <td>-73.94190</td>\n",
              "      <td>Private room</td>\n",
              "      <td>150</td>\n",
              "      <td>3</td>\n",
              "      <td>0</td>\n",
              "      <td>NaN</td>\n",
              "      <td>NaN</td>\n",
              "      <td>1</td>\n",
              "      <td>365</td>\n",
              "    </tr>\n",
              "    <tr>\n",
              "      <th>3</th>\n",
              "      <td>3831</td>\n",
              "      <td>Cozy Entire Floor of Brownstone</td>\n",
              "      <td>4869</td>\n",
              "      <td>LisaRoxanne</td>\n",
              "      <td>Brooklyn</td>\n",
              "      <td>Clinton Hill</td>\n",
              "      <td>40.68514</td>\n",
              "      <td>-73.95976</td>\n",
              "      <td>Entire home/apt</td>\n",
              "      <td>89</td>\n",
              "      <td>1</td>\n",
              "      <td>270</td>\n",
              "      <td>2019-07-05</td>\n",
              "      <td>4.64</td>\n",
              "      <td>1</td>\n",
              "      <td>194</td>\n",
              "    </tr>\n",
              "    <tr>\n",
              "      <th>4</th>\n",
              "      <td>5022</td>\n",
              "      <td>Entire Apt: Spacious Studio/Loft by central park</td>\n",
              "      <td>7192</td>\n",
              "      <td>Laura</td>\n",
              "      <td>Manhattan</td>\n",
              "      <td>East Harlem</td>\n",
              "      <td>40.79851</td>\n",
              "      <td>-73.94399</td>\n",
              "      <td>Entire home/apt</td>\n",
              "      <td>80</td>\n",
              "      <td>10</td>\n",
              "      <td>9</td>\n",
              "      <td>2018-11-19</td>\n",
              "      <td>0.10</td>\n",
              "      <td>1</td>\n",
              "      <td>0</td>\n",
              "    </tr>\n",
              "  </tbody>\n",
              "</table>\n",
              "</div>"
            ],
            "text/plain": [
              "     id  ... availability_365\n",
              "0  2539  ...              365\n",
              "1  2595  ...              355\n",
              "2  3647  ...              365\n",
              "3  3831  ...              194\n",
              "4  5022  ...                0\n",
              "\n",
              "[5 rows x 16 columns]"
            ]
          },
          "metadata": {
            "tags": []
          },
          "execution_count": 33
        }
      ]
    },
    {
      "cell_type": "markdown",
      "metadata": {
        "id": "6peylrH7yR7w"
      },
      "source": [
        "Let's check the **correlation** matrix to understand how are the features interrelated with each other.<br> \r\n",
        "\r\n",
        "Also to get an idea which are the most important features in this data.\r\n",
        "\r\n",
        "\r\n"
      ]
    },
    {
      "cell_type": "code",
      "metadata": {
        "colab": {
          "base_uri": "https://localhost:8080/",
          "height": 647
        },
        "id": "hhjrJjGRyRKm",
        "outputId": "ad1f1464-eb67-4573-ca42-67efe957876f"
      },
      "source": [
        "#correlation matrix\r\n",
        "corrmat = df_air.corr()\r\n",
        "f, ax = plt.subplots(figsize=(10, 8))\r\n",
        "sns.heatmap(corrmat, vmax=.8, square=True);"
      ],
      "execution_count": 34,
      "outputs": [
        {
          "output_type": "display_data",
          "data": {
            "image/png": "[encoded data removed]",
            "text/plain": [
              "<Figure size 720x576 with 2 Axes>"
            ]
          },
          "metadata": {
            "tags": []
          }
        }
      ]
    },
    {
      "cell_type": "markdown",
      "metadata": {
        "id": "0AtHF0TM6YVc"
      },
      "source": [
        "Clearly from the heatmap we can see the correlation between different features that can affect a airbnb listing. <br>\r\n",
        "\r\n",
        "Guess what? There's correlation among host_id to reveiws_per_month & availability_365. Also there's noticiable correlation between min_nights to no_of_listings_count & availability_365. Price also shows some correlation with availability_365 & host_listings_count. <br>\r\n",
        "\r\n",
        "no_of_reviews and reviews_per_month gives almost the same information. so we can carry out analysis with any of the two variable. Also, no_of_reviews is correlated to availability_365!"
      ]
    },
    {
      "cell_type": "markdown",
      "metadata": {
        "id": "zl2KCY7VE0N5"
      },
      "source": [
        "**Data Pre-processing:**"
      ]
    },
    {
      "cell_type": "code",
      "metadata": {
        "id": "S2uIHgZzILqY",
        "colab": {
          "base_uri": "https://localhost:8080/"
        },
        "outputId": "c2c3341e-1daa-4751-b915-d36770887223"
      },
      "source": [
        "#checking null values!\r\n",
        "\r\n",
        "df_air.isnull().sum()"
      ],
      "execution_count": 35,
      "outputs": [
        {
          "output_type": "execute_result",
          "data": {
            "text/plain": [
              "id                                    0\n",
              "name                                 16\n",
              "host_id                               0\n",
              "host_name                            21\n",
              "neighbourhood_group                   0\n",
              "neighbourhood                         0\n",
              "latitude                              0\n",
              "longitude                             0\n",
              "room_type                             0\n",
              "price                                 0\n",
              "minimum_nights                        0\n",
              "number_of_reviews                     0\n",
              "last_review                       10052\n",
              "reviews_per_month                 10052\n",
              "calculated_host_listings_count        0\n",
              "availability_365                      0\n",
              "dtype: int64"
            ]
          },
          "metadata": {
            "tags": []
          },
          "execution_count": 35
        }
      ]
    },
    {
      "cell_type": "markdown",
      "metadata": {
        "id": "k_KHufM6Vvz9"
      },
      "source": [
        "**Missing values**"
      ]
    },
    {
      "cell_type": "markdown",
      "metadata": {
        "id": "EwsPEbzcJRBG"
      },
      "source": [
        "As, host_names and names are not that important in our analysis, so atleast we are good to remove rows with nan's in both the columns!"
      ]
    },
    {
      "cell_type": "code",
      "metadata": {
        "id": "NmxEZWI_ILoc",
        "colab": {
          "base_uri": "https://localhost:8080/",
          "height": 837
        },
        "outputId": "d6f19fc0-02c4-4f37-bd04-e6893e097b92"
      },
      "source": [
        "df_air[df_air['name'].isnull()]"
      ],
      "execution_count": 36,
      "outputs": [
        {
          "output_type": "execute_result",
          "data": {
            "text/html": [
              "<div>\n",
              "<style scoped>\n",
              "    .dataframe tbody tr th:only-of-type {\n",
              "        vertical-align: middle;\n",
              "    }\n",
              "\n",
              "    .dataframe tbody tr th {\n",
              "        vertical-align: top;\n",
              "    }\n",
              "\n",
              "    .dataframe thead th {\n",
              "        text-align: right;\n",
              "    }\n",
              "</style>\n",
              "<table border=\"1\" class=\"dataframe\">\n",
              "  <thead>\n",
              "    <tr style=\"text-align: right;\">\n",
              "      <th></th>\n",
              "      <th>id</th>\n",
              "      <th>name</th>\n",
              "      <th>host_id</th>\n",
              "      <th>host_name</th>\n",
              "      <th>neighbourhood_group</th>\n",
              "      <th>neighbourhood</th>\n",
              "      <th>latitude</th>\n",
              "      <th>longitude</th>\n",
              "      <th>room_type</th>\n",
              "      <th>price</th>\n",
              "      <th>minimum_nights</th>\n",
              "      <th>number_of_reviews</th>\n",
              "      <th>last_review</th>\n",
              "      <th>reviews_per_month</th>\n",
              "      <th>calculated_host_listings_count</th>\n",
              "      <th>availability_365</th>\n",
              "    </tr>\n",
              "  </thead>\n",
              "  <tbody>\n",
              "    <tr>\n",
              "      <th>2854</th>\n",
              "      <td>1615764</td>\n",
              "      <td>NaN</td>\n",
              "      <td>6676776</td>\n",
              "      <td>Peter</td>\n",
              "      <td>Manhattan</td>\n",
              "      <td>Battery Park City</td>\n",
              "      <td>40.71239</td>\n",
              "      <td>-74.01620</td>\n",
              "      <td>Entire home/apt</td>\n",
              "      <td>400</td>\n",
              "      <td>1000</td>\n",
              "      <td>0</td>\n",
              "      <td>NaN</td>\n",
              "      <td>NaN</td>\n",
              "      <td>1</td>\n",
              "      <td>362</td>\n",
              "    </tr>\n",
              "    <tr>\n",
              "      <th>3703</th>\n",
              "      <td>2232600</td>\n",
              "      <td>NaN</td>\n",
              "      <td>11395220</td>\n",
              "      <td>Anna</td>\n",
              "      <td>Manhattan</td>\n",
              "      <td>East Village</td>\n",
              "      <td>40.73215</td>\n",
              "      <td>-73.98821</td>\n",
              "      <td>Entire home/apt</td>\n",
              "      <td>200</td>\n",
              "      <td>1</td>\n",
              "      <td>28</td>\n",
              "      <td>2015-06-08</td>\n",
              "      <td>0.45</td>\n",
              "      <td>1</td>\n",
              "      <td>341</td>\n",
              "    </tr>\n",
              "    <tr>\n",
              "      <th>5775</th>\n",
              "      <td>4209595</td>\n",
              "      <td>NaN</td>\n",
              "      <td>20700823</td>\n",
              "      <td>Jesse</td>\n",
              "      <td>Manhattan</td>\n",
              "      <td>Greenwich Village</td>\n",
              "      <td>40.73473</td>\n",
              "      <td>-73.99244</td>\n",
              "      <td>Entire home/apt</td>\n",
              "      <td>225</td>\n",
              "      <td>1</td>\n",
              "      <td>1</td>\n",
              "      <td>2015-01-01</td>\n",
              "      <td>0.02</td>\n",
              "      <td>1</td>\n",
              "      <td>0</td>\n",
              "    </tr>\n",
              "    <tr>\n",
              "      <th>5975</th>\n",
              "      <td>4370230</td>\n",
              "      <td>NaN</td>\n",
              "      <td>22686810</td>\n",
              "      <td>Michaël</td>\n",
              "      <td>Manhattan</td>\n",
              "      <td>Nolita</td>\n",
              "      <td>40.72046</td>\n",
              "      <td>-73.99550</td>\n",
              "      <td>Entire home/apt</td>\n",
              "      <td>215</td>\n",
              "      <td>7</td>\n",
              "      <td>5</td>\n",
              "      <td>2016-01-02</td>\n",
              "      <td>0.09</td>\n",
              "      <td>1</td>\n",
              "      <td>0</td>\n",
              "    </tr>\n",
              "    <tr>\n",
              "      <th>6269</th>\n",
              "      <td>4581788</td>\n",
              "      <td>NaN</td>\n",
              "      <td>21600904</td>\n",
              "      <td>Lucie</td>\n",
              "      <td>Brooklyn</td>\n",
              "      <td>Williamsburg</td>\n",
              "      <td>40.71370</td>\n",
              "      <td>-73.94378</td>\n",
              "      <td>Private room</td>\n",
              "      <td>150</td>\n",
              "      <td>1</td>\n",
              "      <td>0</td>\n",
              "      <td>NaN</td>\n",
              "      <td>NaN</td>\n",
              "      <td>1</td>\n",
              "      <td>0</td>\n",
              "    </tr>\n",
              "    <tr>\n",
              "      <th>6567</th>\n",
              "      <td>4756856</td>\n",
              "      <td>NaN</td>\n",
              "      <td>1832442</td>\n",
              "      <td>Carolina</td>\n",
              "      <td>Brooklyn</td>\n",
              "      <td>Bushwick</td>\n",
              "      <td>40.70046</td>\n",
              "      <td>-73.92825</td>\n",
              "      <td>Private room</td>\n",
              "      <td>70</td>\n",
              "      <td>1</td>\n",
              "      <td>0</td>\n",
              "      <td>NaN</td>\n",
              "      <td>NaN</td>\n",
              "      <td>1</td>\n",
              "      <td>0</td>\n",
              "    </tr>\n",
              "    <tr>\n",
              "      <th>6605</th>\n",
              "      <td>4774658</td>\n",
              "      <td>NaN</td>\n",
              "      <td>24625694</td>\n",
              "      <td>Josh</td>\n",
              "      <td>Manhattan</td>\n",
              "      <td>Washington Heights</td>\n",
              "      <td>40.85198</td>\n",
              "      <td>-73.93108</td>\n",
              "      <td>Private room</td>\n",
              "      <td>40</td>\n",
              "      <td>1</td>\n",
              "      <td>0</td>\n",
              "      <td>NaN</td>\n",
              "      <td>NaN</td>\n",
              "      <td>1</td>\n",
              "      <td>0</td>\n",
              "    </tr>\n",
              "    <tr>\n",
              "      <th>8841</th>\n",
              "      <td>6782407</td>\n",
              "      <td>NaN</td>\n",
              "      <td>31147528</td>\n",
              "      <td>Huei-Yin</td>\n",
              "      <td>Brooklyn</td>\n",
              "      <td>Williamsburg</td>\n",
              "      <td>40.71354</td>\n",
              "      <td>-73.93882</td>\n",
              "      <td>Private room</td>\n",
              "      <td>45</td>\n",
              "      <td>1</td>\n",
              "      <td>0</td>\n",
              "      <td>NaN</td>\n",
              "      <td>NaN</td>\n",
              "      <td>1</td>\n",
              "      <td>0</td>\n",
              "    </tr>\n",
              "    <tr>\n",
              "      <th>11963</th>\n",
              "      <td>9325951</td>\n",
              "      <td>NaN</td>\n",
              "      <td>33377685</td>\n",
              "      <td>Jonathan</td>\n",
              "      <td>Manhattan</td>\n",
              "      <td>Hell's Kitchen</td>\n",
              "      <td>40.76436</td>\n",
              "      <td>-73.98573</td>\n",
              "      <td>Entire home/apt</td>\n",
              "      <td>190</td>\n",
              "      <td>4</td>\n",
              "      <td>1</td>\n",
              "      <td>2016-01-05</td>\n",
              "      <td>0.02</td>\n",
              "      <td>1</td>\n",
              "      <td>0</td>\n",
              "    </tr>\n",
              "    <tr>\n",
              "      <th>12824</th>\n",
              "      <td>9787590</td>\n",
              "      <td>NaN</td>\n",
              "      <td>50448556</td>\n",
              "      <td>Miguel</td>\n",
              "      <td>Manhattan</td>\n",
              "      <td>Harlem</td>\n",
              "      <td>40.80316</td>\n",
              "      <td>-73.95189</td>\n",
              "      <td>Entire home/apt</td>\n",
              "      <td>300</td>\n",
              "      <td>5</td>\n",
              "      <td>0</td>\n",
              "      <td>NaN</td>\n",
              "      <td>NaN</td>\n",
              "      <td>5</td>\n",
              "      <td>0</td>\n",
              "    </tr>\n",
              "    <tr>\n",
              "      <th>13059</th>\n",
              "      <td>9885866</td>\n",
              "      <td>NaN</td>\n",
              "      <td>37306329</td>\n",
              "      <td>Juliette</td>\n",
              "      <td>Manhattan</td>\n",
              "      <td>Chinatown</td>\n",
              "      <td>40.71632</td>\n",
              "      <td>-73.99328</td>\n",
              "      <td>Private room</td>\n",
              "      <td>67</td>\n",
              "      <td>4</td>\n",
              "      <td>0</td>\n",
              "      <td>NaN</td>\n",
              "      <td>NaN</td>\n",
              "      <td>1</td>\n",
              "      <td>0</td>\n",
              "    </tr>\n",
              "    <tr>\n",
              "      <th>13401</th>\n",
              "      <td>10052289</td>\n",
              "      <td>NaN</td>\n",
              "      <td>49522403</td>\n",
              "      <td>Vanessa</td>\n",
              "      <td>Brooklyn</td>\n",
              "      <td>Brownsville</td>\n",
              "      <td>40.66409</td>\n",
              "      <td>-73.92314</td>\n",
              "      <td>Private room</td>\n",
              "      <td>50</td>\n",
              "      <td>3</td>\n",
              "      <td>3</td>\n",
              "      <td>2016-08-18</td>\n",
              "      <td>0.07</td>\n",
              "      <td>1</td>\n",
              "      <td>362</td>\n",
              "    </tr>\n",
              "    <tr>\n",
              "      <th>15819</th>\n",
              "      <td>12797684</td>\n",
              "      <td>NaN</td>\n",
              "      <td>69715276</td>\n",
              "      <td>Yan</td>\n",
              "      <td>Manhattan</td>\n",
              "      <td>Upper West Side</td>\n",
              "      <td>40.79843</td>\n",
              "      <td>-73.96404</td>\n",
              "      <td>Private room</td>\n",
              "      <td>100</td>\n",
              "      <td>1</td>\n",
              "      <td>0</td>\n",
              "      <td>NaN</td>\n",
              "      <td>NaN</td>\n",
              "      <td>2</td>\n",
              "      <td>0</td>\n",
              "    </tr>\n",
              "    <tr>\n",
              "      <th>16071</th>\n",
              "      <td>12988898</td>\n",
              "      <td>NaN</td>\n",
              "      <td>71552588</td>\n",
              "      <td>Andrea</td>\n",
              "      <td>Bronx</td>\n",
              "      <td>Fordham</td>\n",
              "      <td>40.86032</td>\n",
              "      <td>-73.88493</td>\n",
              "      <td>Shared room</td>\n",
              "      <td>130</td>\n",
              "      <td>1</td>\n",
              "      <td>0</td>\n",
              "      <td>NaN</td>\n",
              "      <td>NaN</td>\n",
              "      <td>1</td>\n",
              "      <td>365</td>\n",
              "    </tr>\n",
              "    <tr>\n",
              "      <th>18047</th>\n",
              "      <td>14135050</td>\n",
              "      <td>NaN</td>\n",
              "      <td>85288337</td>\n",
              "      <td>Jeff</td>\n",
              "      <td>Brooklyn</td>\n",
              "      <td>Bedford-Stuyvesant</td>\n",
              "      <td>40.69421</td>\n",
              "      <td>-73.93234</td>\n",
              "      <td>Private room</td>\n",
              "      <td>70</td>\n",
              "      <td>3</td>\n",
              "      <td>0</td>\n",
              "      <td>NaN</td>\n",
              "      <td>NaN</td>\n",
              "      <td>1</td>\n",
              "      <td>0</td>\n",
              "    </tr>\n",
              "    <tr>\n",
              "      <th>28889</th>\n",
              "      <td>22275821</td>\n",
              "      <td>NaN</td>\n",
              "      <td>49662398</td>\n",
              "      <td>Kathleen</td>\n",
              "      <td>Brooklyn</td>\n",
              "      <td>Bushwick</td>\n",
              "      <td>40.69546</td>\n",
              "      <td>-73.92741</td>\n",
              "      <td>Entire home/apt</td>\n",
              "      <td>110</td>\n",
              "      <td>4</td>\n",
              "      <td>5</td>\n",
              "      <td>2018-08-13</td>\n",
              "      <td>0.27</td>\n",
              "      <td>1</td>\n",
              "      <td>0</td>\n",
              "    </tr>\n",
              "  </tbody>\n",
              "</table>\n",
              "</div>"
            ],
            "text/plain": [
              "             id name  ...  calculated_host_listings_count availability_365\n",
              "2854    1615764  NaN  ...                               1              362\n",
              "3703    2232600  NaN  ...                               1              341\n",
              "5775    4209595  NaN  ...                               1                0\n",
              "5975    4370230  NaN  ...                               1                0\n",
              "6269    4581788  NaN  ...                               1                0\n",
              "6567    4756856  NaN  ...                               1                0\n",
              "6605    4774658  NaN  ...                               1                0\n",
              "8841    6782407  NaN  ...                               1                0\n",
              "11963   9325951  NaN  ...                               1                0\n",
              "12824   9787590  NaN  ...                               5                0\n",
              "13059   9885866  NaN  ...                               1                0\n",
              "13401  10052289  NaN  ...                               1              362\n",
              "15819  12797684  NaN  ...                               2                0\n",
              "16071  12988898  NaN  ...                               1              365\n",
              "18047  14135050  NaN  ...                               1                0\n",
              "28889  22275821  NaN  ...                               1                0\n",
              "\n",
              "[16 rows x 16 columns]"
            ]
          },
          "metadata": {
            "tags": []
          },
          "execution_count": 36
        }
      ]
    },
    {
      "cell_type": "code",
      "metadata": {
        "id": "a4KkYn5n_emg",
        "colab": {
          "base_uri": "https://localhost:8080/",
          "height": 1000
        },
        "outputId": "5b46d2c6-4ad1-4b1a-c47a-cb69b0f60857"
      },
      "source": [
        "df_air[df_air['host_name'].isnull()]"
      ],
      "execution_count": 37,
      "outputs": [
        {
          "output_type": "execute_result",
          "data": {
            "text/html": [
              "<div>\n",
              "<style scoped>\n",
              "    .dataframe tbody tr th:only-of-type {\n",
              "        vertical-align: middle;\n",
              "    }\n",
              "\n",
              "    .dataframe tbody tr th {\n",
              "        vertical-align: top;\n",
              "    }\n",
              "\n",
              "    .dataframe thead th {\n",
              "        text-align: right;\n",
              "    }\n",
              "</style>\n",
              "<table border=\"1\" class=\"dataframe\">\n",
              "  <thead>\n",
              "    <tr style=\"text-align: right;\">\n",
              "      <th></th>\n",
              "      <th>id</th>\n",
              "      <th>name</th>\n",
              "      <th>host_id</th>\n",
              "      <th>host_name</th>\n",
              "      <th>neighbourhood_group</th>\n",
              "      <th>neighbourhood</th>\n",
              "      <th>latitude</th>\n",
              "      <th>longitude</th>\n",
              "      <th>room_type</th>\n",
              "      <th>price</th>\n",
              "      <th>minimum_nights</th>\n",
              "      <th>number_of_reviews</th>\n",
              "      <th>last_review</th>\n",
              "      <th>reviews_per_month</th>\n",
              "      <th>calculated_host_listings_count</th>\n",
              "      <th>availability_365</th>\n",
              "    </tr>\n",
              "  </thead>\n",
              "  <tbody>\n",
              "    <tr>\n",
              "      <th>360</th>\n",
              "      <td>100184</td>\n",
              "      <td>Bienvenue</td>\n",
              "      <td>526653</td>\n",
              "      <td>NaN</td>\n",
              "      <td>Queens</td>\n",
              "      <td>Queens Village</td>\n",
              "      <td>40.72413</td>\n",
              "      <td>-73.76133</td>\n",
              "      <td>Private room</td>\n",
              "      <td>50</td>\n",
              "      <td>1</td>\n",
              "      <td>43</td>\n",
              "      <td>2019-07-08</td>\n",
              "      <td>0.45</td>\n",
              "      <td>1</td>\n",
              "      <td>88</td>\n",
              "    </tr>\n",
              "    <tr>\n",
              "      <th>2700</th>\n",
              "      <td>1449546</td>\n",
              "      <td>Cozy Studio in Flatbush</td>\n",
              "      <td>7779204</td>\n",
              "      <td>NaN</td>\n",
              "      <td>Brooklyn</td>\n",
              "      <td>Flatbush</td>\n",
              "      <td>40.64965</td>\n",
              "      <td>-73.96154</td>\n",
              "      <td>Entire home/apt</td>\n",
              "      <td>100</td>\n",
              "      <td>30</td>\n",
              "      <td>49</td>\n",
              "      <td>2017-01-02</td>\n",
              "      <td>0.69</td>\n",
              "      <td>1</td>\n",
              "      <td>342</td>\n",
              "    </tr>\n",
              "    <tr>\n",
              "      <th>5745</th>\n",
              "      <td>4183989</td>\n",
              "      <td>SPRING in the City!! Zen-Style Tranquil Bedroom</td>\n",
              "      <td>919218</td>\n",
              "      <td>NaN</td>\n",
              "      <td>Manhattan</td>\n",
              "      <td>Harlem</td>\n",
              "      <td>40.80606</td>\n",
              "      <td>-73.95061</td>\n",
              "      <td>Private room</td>\n",
              "      <td>86</td>\n",
              "      <td>3</td>\n",
              "      <td>34</td>\n",
              "      <td>2019-05-23</td>\n",
              "      <td>1.00</td>\n",
              "      <td>1</td>\n",
              "      <td>359</td>\n",
              "    </tr>\n",
              "    <tr>\n",
              "      <th>6075</th>\n",
              "      <td>4446862</td>\n",
              "      <td>Charming Room in Prospect Heights!</td>\n",
              "      <td>23077718</td>\n",
              "      <td>NaN</td>\n",
              "      <td>Brooklyn</td>\n",
              "      <td>Crown Heights</td>\n",
              "      <td>40.67512</td>\n",
              "      <td>-73.96146</td>\n",
              "      <td>Private room</td>\n",
              "      <td>50</td>\n",
              "      <td>1</td>\n",
              "      <td>0</td>\n",
              "      <td>NaN</td>\n",
              "      <td>NaN</td>\n",
              "      <td>1</td>\n",
              "      <td>0</td>\n",
              "    </tr>\n",
              "    <tr>\n",
              "      <th>6582</th>\n",
              "      <td>4763327</td>\n",
              "      <td>Luxurious, best location, spa inc'l</td>\n",
              "      <td>24576978</td>\n",
              "      <td>NaN</td>\n",
              "      <td>Brooklyn</td>\n",
              "      <td>Greenpoint</td>\n",
              "      <td>40.72035</td>\n",
              "      <td>-73.95355</td>\n",
              "      <td>Entire home/apt</td>\n",
              "      <td>195</td>\n",
              "      <td>1</td>\n",
              "      <td>1</td>\n",
              "      <td>2015-10-20</td>\n",
              "      <td>0.02</td>\n",
              "      <td>1</td>\n",
              "      <td>0</td>\n",
              "    </tr>\n",
              "    <tr>\n",
              "      <th>8163</th>\n",
              "      <td>6292866</td>\n",
              "      <td>Modern Quiet Gem Near All</td>\n",
              "      <td>32722063</td>\n",
              "      <td>NaN</td>\n",
              "      <td>Brooklyn</td>\n",
              "      <td>East Flatbush</td>\n",
              "      <td>40.65263</td>\n",
              "      <td>-73.93215</td>\n",
              "      <td>Entire home/apt</td>\n",
              "      <td>85</td>\n",
              "      <td>2</td>\n",
              "      <td>182</td>\n",
              "      <td>2019-06-19</td>\n",
              "      <td>3.59</td>\n",
              "      <td>2</td>\n",
              "      <td>318</td>\n",
              "    </tr>\n",
              "    <tr>\n",
              "      <th>8257</th>\n",
              "      <td>6360224</td>\n",
              "      <td>Sunny, Private room in Bushwick</td>\n",
              "      <td>33134899</td>\n",
              "      <td>NaN</td>\n",
              "      <td>Brooklyn</td>\n",
              "      <td>Bushwick</td>\n",
              "      <td>40.70146</td>\n",
              "      <td>-73.92792</td>\n",
              "      <td>Private room</td>\n",
              "      <td>37</td>\n",
              "      <td>1</td>\n",
              "      <td>1</td>\n",
              "      <td>2015-07-01</td>\n",
              "      <td>0.02</td>\n",
              "      <td>1</td>\n",
              "      <td>0</td>\n",
              "    </tr>\n",
              "    <tr>\n",
              "      <th>8852</th>\n",
              "      <td>6786181</td>\n",
              "      <td>R&amp;S Modern Spacious Hideaway</td>\n",
              "      <td>32722063</td>\n",
              "      <td>NaN</td>\n",
              "      <td>Brooklyn</td>\n",
              "      <td>East Flatbush</td>\n",
              "      <td>40.64345</td>\n",
              "      <td>-73.93643</td>\n",
              "      <td>Entire home/apt</td>\n",
              "      <td>100</td>\n",
              "      <td>2</td>\n",
              "      <td>157</td>\n",
              "      <td>2019-06-19</td>\n",
              "      <td>3.18</td>\n",
              "      <td>2</td>\n",
              "      <td>342</td>\n",
              "    </tr>\n",
              "    <tr>\n",
              "      <th>9138</th>\n",
              "      <td>6992973</td>\n",
              "      <td>1 Bedroom in Prime Williamsburg</td>\n",
              "      <td>5162530</td>\n",
              "      <td>NaN</td>\n",
              "      <td>Brooklyn</td>\n",
              "      <td>Williamsburg</td>\n",
              "      <td>40.71838</td>\n",
              "      <td>-73.95630</td>\n",
              "      <td>Entire home/apt</td>\n",
              "      <td>145</td>\n",
              "      <td>1</td>\n",
              "      <td>0</td>\n",
              "      <td>NaN</td>\n",
              "      <td>NaN</td>\n",
              "      <td>1</td>\n",
              "      <td>0</td>\n",
              "    </tr>\n",
              "    <tr>\n",
              "      <th>9817</th>\n",
              "      <td>7556587</td>\n",
              "      <td>Sunny Room in Harlem</td>\n",
              "      <td>39608626</td>\n",
              "      <td>NaN</td>\n",
              "      <td>Manhattan</td>\n",
              "      <td>Harlem</td>\n",
              "      <td>40.82929</td>\n",
              "      <td>-73.94182</td>\n",
              "      <td>Private room</td>\n",
              "      <td>28</td>\n",
              "      <td>1</td>\n",
              "      <td>1</td>\n",
              "      <td>2015-08-01</td>\n",
              "      <td>0.02</td>\n",
              "      <td>1</td>\n",
              "      <td>0</td>\n",
              "    </tr>\n",
              "    <tr>\n",
              "      <th>14040</th>\n",
              "      <td>10709846</td>\n",
              "      <td>Sunny, spacious room in Greenpoint</td>\n",
              "      <td>7822683</td>\n",
              "      <td>NaN</td>\n",
              "      <td>Brooklyn</td>\n",
              "      <td>Greenpoint</td>\n",
              "      <td>40.73539</td>\n",
              "      <td>-73.95838</td>\n",
              "      <td>Private room</td>\n",
              "      <td>55</td>\n",
              "      <td>10</td>\n",
              "      <td>2</td>\n",
              "      <td>2016-11-05</td>\n",
              "      <td>0.05</td>\n",
              "      <td>1</td>\n",
              "      <td>0</td>\n",
              "    </tr>\n",
              "    <tr>\n",
              "      <th>14631</th>\n",
              "      <td>11553543</td>\n",
              "      <td>Cozy Room Astoria</td>\n",
              "      <td>26138712</td>\n",
              "      <td>NaN</td>\n",
              "      <td>Queens</td>\n",
              "      <td>Ditmars Steinway</td>\n",
              "      <td>40.77587</td>\n",
              "      <td>-73.91775</td>\n",
              "      <td>Private room</td>\n",
              "      <td>45</td>\n",
              "      <td>1</td>\n",
              "      <td>5</td>\n",
              "      <td>2017-01-01</td>\n",
              "      <td>0.13</td>\n",
              "      <td>1</td>\n",
              "      <td>0</td>\n",
              "    </tr>\n",
              "    <tr>\n",
              "      <th>15174</th>\n",
              "      <td>12113879</td>\n",
              "      <td>Sunny, Large West Village 1 BR Near Everything</td>\n",
              "      <td>5300585</td>\n",
              "      <td>NaN</td>\n",
              "      <td>Manhattan</td>\n",
              "      <td>Chelsea</td>\n",
              "      <td>40.73949</td>\n",
              "      <td>-73.99801</td>\n",
              "      <td>Entire home/apt</td>\n",
              "      <td>220</td>\n",
              "      <td>4</td>\n",
              "      <td>81</td>\n",
              "      <td>2019-07-02</td>\n",
              "      <td>2.11</td>\n",
              "      <td>1</td>\n",
              "      <td>217</td>\n",
              "    </tr>\n",
              "    <tr>\n",
              "      <th>19565</th>\n",
              "      <td>15648096</td>\n",
              "      <td>Spacious 2 bedroom close to Manhattan</td>\n",
              "      <td>100971588</td>\n",
              "      <td>NaN</td>\n",
              "      <td>Bronx</td>\n",
              "      <td>Highbridge</td>\n",
              "      <td>40.83844</td>\n",
              "      <td>-73.92489</td>\n",
              "      <td>Entire home/apt</td>\n",
              "      <td>75</td>\n",
              "      <td>4</td>\n",
              "      <td>37</td>\n",
              "      <td>2019-07-07</td>\n",
              "      <td>1.21</td>\n",
              "      <td>1</td>\n",
              "      <td>26</td>\n",
              "    </tr>\n",
              "    <tr>\n",
              "      <th>27777</th>\n",
              "      <td>21787094</td>\n",
              "      <td>Spacious and Bright Midtown East Apartment</td>\n",
              "      <td>415290</td>\n",
              "      <td>NaN</td>\n",
              "      <td>Manhattan</td>\n",
              "      <td>Upper East Side</td>\n",
              "      <td>40.76436</td>\n",
              "      <td>-73.96836</td>\n",
              "      <td>Entire home/apt</td>\n",
              "      <td>325</td>\n",
              "      <td>1</td>\n",
              "      <td>0</td>\n",
              "      <td>NaN</td>\n",
              "      <td>NaN</td>\n",
              "      <td>1</td>\n",
              "      <td>0</td>\n",
              "    </tr>\n",
              "    <tr>\n",
              "      <th>27962</th>\n",
              "      <td>21867710</td>\n",
              "      <td>Amazing room in the centre on Manhatten! Welcome!</td>\n",
              "      <td>159156636</td>\n",
              "      <td>NaN</td>\n",
              "      <td>Manhattan</td>\n",
              "      <td>Hell's Kitchen</td>\n",
              "      <td>40.75668</td>\n",
              "      <td>-73.99097</td>\n",
              "      <td>Private room</td>\n",
              "      <td>120</td>\n",
              "      <td>1</td>\n",
              "      <td>89</td>\n",
              "      <td>2019-01-01</td>\n",
              "      <td>5.16</td>\n",
              "      <td>3</td>\n",
              "      <td>0</td>\n",
              "    </tr>\n",
              "    <tr>\n",
              "      <th>28042</th>\n",
              "      <td>21901156</td>\n",
              "      <td>Best Deal! Lovely place in Manhattan! Time Squ...</td>\n",
              "      <td>159156636</td>\n",
              "      <td>NaN</td>\n",
              "      <td>Manhattan</td>\n",
              "      <td>Hell's Kitchen</td>\n",
              "      <td>40.75656</td>\n",
              "      <td>-73.99063</td>\n",
              "      <td>Private room</td>\n",
              "      <td>120</td>\n",
              "      <td>1</td>\n",
              "      <td>109</td>\n",
              "      <td>2019-01-01</td>\n",
              "      <td>5.97</td>\n",
              "      <td>3</td>\n",
              "      <td>0</td>\n",
              "    </tr>\n",
              "    <tr>\n",
              "      <th>28274</th>\n",
              "      <td>21990808</td>\n",
              "      <td>***SLEEPING IN THE GOLDEN PLACE***</td>\n",
              "      <td>159156636</td>\n",
              "      <td>NaN</td>\n",
              "      <td>Manhattan</td>\n",
              "      <td>Hell's Kitchen</td>\n",
              "      <td>40.75835</td>\n",
              "      <td>-73.99065</td>\n",
              "      <td>Private room</td>\n",
              "      <td>120</td>\n",
              "      <td>1</td>\n",
              "      <td>88</td>\n",
              "      <td>2018-12-14</td>\n",
              "      <td>4.93</td>\n",
              "      <td>3</td>\n",
              "      <td>0</td>\n",
              "    </tr>\n",
              "    <tr>\n",
              "      <th>30570</th>\n",
              "      <td>23660605</td>\n",
              "      <td>Private Bedroom w/ Balcony view of Central Park</td>\n",
              "      <td>177146433</td>\n",
              "      <td>NaN</td>\n",
              "      <td>Manhattan</td>\n",
              "      <td>East Harlem</td>\n",
              "      <td>40.79766</td>\n",
              "      <td>-73.94824</td>\n",
              "      <td>Private room</td>\n",
              "      <td>139</td>\n",
              "      <td>1</td>\n",
              "      <td>6</td>\n",
              "      <td>2018-08-12</td>\n",
              "      <td>0.46</td>\n",
              "      <td>1</td>\n",
              "      <td>0</td>\n",
              "    </tr>\n",
              "    <tr>\n",
              "      <th>32193</th>\n",
              "      <td>25180572</td>\n",
              "      <td>Beautiful Cozy Studio Apt. UWS</td>\n",
              "      <td>119609345</td>\n",
              "      <td>NaN</td>\n",
              "      <td>Manhattan</td>\n",
              "      <td>Upper West Side</td>\n",
              "      <td>40.77701</td>\n",
              "      <td>-73.97667</td>\n",
              "      <td>Entire home/apt</td>\n",
              "      <td>180</td>\n",
              "      <td>4</td>\n",
              "      <td>0</td>\n",
              "      <td>NaN</td>\n",
              "      <td>NaN</td>\n",
              "      <td>1</td>\n",
              "      <td>0</td>\n",
              "    </tr>\n",
              "    <tr>\n",
              "      <th>38992</th>\n",
              "      <td>30468335</td>\n",
              "      <td>LARGE Prospect Lefferts Gardens Bedroom</td>\n",
              "      <td>228750026</td>\n",
              "      <td>NaN</td>\n",
              "      <td>Brooklyn</td>\n",
              "      <td>Flatbush</td>\n",
              "      <td>40.65152</td>\n",
              "      <td>-73.95271</td>\n",
              "      <td>Private room</td>\n",
              "      <td>55</td>\n",
              "      <td>7</td>\n",
              "      <td>0</td>\n",
              "      <td>NaN</td>\n",
              "      <td>NaN</td>\n",
              "      <td>1</td>\n",
              "      <td>69</td>\n",
              "    </tr>\n",
              "  </tbody>\n",
              "</table>\n",
              "</div>"
            ],
            "text/plain": [
              "             id  ... availability_365\n",
              "360      100184  ...               88\n",
              "2700    1449546  ...              342\n",
              "5745    4183989  ...              359\n",
              "6075    4446862  ...                0\n",
              "6582    4763327  ...                0\n",
              "8163    6292866  ...              318\n",
              "8257    6360224  ...                0\n",
              "8852    6786181  ...              342\n",
              "9138    6992973  ...                0\n",
              "9817    7556587  ...                0\n",
              "14040  10709846  ...                0\n",
              "14631  11553543  ...                0\n",
              "15174  12113879  ...              217\n",
              "19565  15648096  ...               26\n",
              "27777  21787094  ...                0\n",
              "27962  21867710  ...                0\n",
              "28042  21901156  ...                0\n",
              "28274  21990808  ...                0\n",
              "30570  23660605  ...                0\n",
              "32193  25180572  ...                0\n",
              "38992  30468335  ...               69\n",
              "\n",
              "[21 rows x 16 columns]"
            ]
          },
          "metadata": {
            "tags": []
          },
          "execution_count": 37
        }
      ]
    },
    {
      "cell_type": "code",
      "metadata": {
        "id": "LTdlR7b9LB65"
      },
      "source": [
        "#since both 'name' and 'host_name' has very less missing values as compared to 47,905 listings and 11452 unique hosts!\r\n",
        "\r\n",
        "df_air= df_air.dropna(subset=['name'])\r\n",
        "df_air= df_air.dropna(subset=['host_name'])\r\n"
      ],
      "execution_count": 38,
      "outputs": []
    },
    {
      "cell_type": "code",
      "metadata": {
        "id": "nllIjGoFQyjC",
        "colab": {
          "base_uri": "https://localhost:8080/"
        },
        "outputId": "aaac27be-c465-45bd-b192-751d866ad92f"
      },
      "source": [
        "df_air[['host_name','name']].isnull().values.any() #looks the null values are removed!"
      ],
      "execution_count": 39,
      "outputs": [
        {
          "output_type": "execute_result",
          "data": {
            "text/plain": [
              "False"
            ]
          },
          "metadata": {
            "tags": []
          },
          "execution_count": 39
        }
      ]
    },
    {
      "cell_type": "code",
      "metadata": {
        "id": "Kp1hopkTRO3P",
        "colab": {
          "base_uri": "https://localhost:8080/"
        },
        "outputId": "f82b8360-9221-4949-a032-e5924ea51079"
      },
      "source": [
        "no_of_hosts= df_air['host_name'].nunique()\r\n",
        "print(f'The no of hosts in NYC: {no_of_hosts}')\r\n",
        "no_of_listings= df_air['name'].nunique()\r\n",
        "print(f'The total no of listings in NYC: {no_of_listings}')"
      ],
      "execution_count": 40,
      "outputs": [
        {
          "output_type": "stream",
          "text": [
            "The no of hosts in NYC: 11450\n",
            "The total no of listings in NYC: 47884\n"
          ],
          "name": "stdout"
        }
      ]
    },
    {
      "cell_type": "code",
      "metadata": {
        "id": "shmwIruaUzyh",
        "colab": {
          "base_uri": "https://localhost:8080/"
        },
        "outputId": "8004b9da-7ac1-4466-df1f-c10d33f5b676"
      },
      "source": [
        "df_air.isnull().sum()"
      ],
      "execution_count": 41,
      "outputs": [
        {
          "output_type": "execute_result",
          "data": {
            "text/plain": [
              "id                                    0\n",
              "name                                  0\n",
              "host_id                               0\n",
              "host_name                             0\n",
              "neighbourhood_group                   0\n",
              "neighbourhood                         0\n",
              "latitude                              0\n",
              "longitude                             0\n",
              "room_type                             0\n",
              "price                                 0\n",
              "minimum_nights                        0\n",
              "number_of_reviews                     0\n",
              "last_review                       10037\n",
              "reviews_per_month                 10037\n",
              "calculated_host_listings_count        0\n",
              "availability_365                      0\n",
              "dtype: int64"
            ]
          },
          "metadata": {
            "tags": []
          },
          "execution_count": 41
        }
      ]
    },
    {
      "cell_type": "markdown",
      "metadata": {
        "id": "zMsPG7tkW9Vr"
      },
      "source": [
        "Also the column: 'last_review' has many null values. And since it's not much required for our analysis as compared to number_of_reviews & reviews_per_month. We're good to drop this column."
      ]
    },
    {
      "cell_type": "code",
      "metadata": {
        "id": "gFsXAlZsXfS9"
      },
      "source": [
        "df_air= df_air.drop(['last_review'],axis=1)"
      ],
      "execution_count": 42,
      "outputs": []
    },
    {
      "cell_type": "code",
      "metadata": {
        "id": "k6LCrLpRYmKN",
        "colab": {
          "base_uri": "https://localhost:8080/",
          "height": 264
        },
        "outputId": "d2ad079d-df89-46a6-87ad-1ad086f093a6"
      },
      "source": [
        "df_air.head(3)"
      ],
      "execution_count": 43,
      "outputs": [
        {
          "output_type": "execute_result",
          "data": {
            "text/html": [
              "<div>\n",
              "<style scoped>\n",
              "    .dataframe tbody tr th:only-of-type {\n",
              "        vertical-align: middle;\n",
              "    }\n",
              "\n",
              "    .dataframe tbody tr th {\n",
              "        vertical-align: top;\n",
              "    }\n",
              "\n",
              "    .dataframe thead th {\n",
              "        text-align: right;\n",
              "    }\n",
              "</style>\n",
              "<table border=\"1\" class=\"dataframe\">\n",
              "  <thead>\n",
              "    <tr style=\"text-align: right;\">\n",
              "      <th></th>\n",
              "      <th>id</th>\n",
              "      <th>name</th>\n",
              "      <th>host_id</th>\n",
              "      <th>host_name</th>\n",
              "      <th>neighbourhood_group</th>\n",
              "      <th>neighbourhood</th>\n",
              "      <th>latitude</th>\n",
              "      <th>longitude</th>\n",
              "      <th>room_type</th>\n",
              "      <th>price</th>\n",
              "      <th>minimum_nights</th>\n",
              "      <th>number_of_reviews</th>\n",
              "      <th>reviews_per_month</th>\n",
              "      <th>calculated_host_listings_count</th>\n",
              "      <th>availability_365</th>\n",
              "    </tr>\n",
              "  </thead>\n",
              "  <tbody>\n",
              "    <tr>\n",
              "      <th>0</th>\n",
              "      <td>2539</td>\n",
              "      <td>Clean &amp; quiet apt home by the park</td>\n",
              "      <td>2787</td>\n",
              "      <td>John</td>\n",
              "      <td>Brooklyn</td>\n",
              "      <td>Kensington</td>\n",
              "      <td>40.64749</td>\n",
              "      <td>-73.97237</td>\n",
              "      <td>Private room</td>\n",
              "      <td>149</td>\n",
              "      <td>1</td>\n",
              "      <td>9</td>\n",
              "      <td>0.21</td>\n",
              "      <td>6</td>\n",
              "      <td>365</td>\n",
              "    </tr>\n",
              "    <tr>\n",
              "      <th>1</th>\n",
              "      <td>2595</td>\n",
              "      <td>Skylit Midtown Castle</td>\n",
              "      <td>2845</td>\n",
              "      <td>Jennifer</td>\n",
              "      <td>Manhattan</td>\n",
              "      <td>Midtown</td>\n",
              "      <td>40.75362</td>\n",
              "      <td>-73.98377</td>\n",
              "      <td>Entire home/apt</td>\n",
              "      <td>225</td>\n",
              "      <td>1</td>\n",
              "      <td>45</td>\n",
              "      <td>0.38</td>\n",
              "      <td>2</td>\n",
              "      <td>355</td>\n",
              "    </tr>\n",
              "    <tr>\n",
              "      <th>2</th>\n",
              "      <td>3647</td>\n",
              "      <td>THE VILLAGE OF HARLEM....NEW YORK !</td>\n",
              "      <td>4632</td>\n",
              "      <td>Elisabeth</td>\n",
              "      <td>Manhattan</td>\n",
              "      <td>Harlem</td>\n",
              "      <td>40.80902</td>\n",
              "      <td>-73.94190</td>\n",
              "      <td>Private room</td>\n",
              "      <td>150</td>\n",
              "      <td>3</td>\n",
              "      <td>0</td>\n",
              "      <td>NaN</td>\n",
              "      <td>1</td>\n",
              "      <td>365</td>\n",
              "    </tr>\n",
              "  </tbody>\n",
              "</table>\n",
              "</div>"
            ],
            "text/plain": [
              "     id  ... availability_365\n",
              "0  2539  ...              365\n",
              "1  2595  ...              355\n",
              "2  3647  ...              365\n",
              "\n",
              "[3 rows x 15 columns]"
            ]
          },
          "metadata": {
            "tags": []
          },
          "execution_count": 43
        }
      ]
    },
    {
      "cell_type": "code",
      "metadata": {
        "id": "tgqY_bic4C_c",
        "colab": {
          "base_uri": "https://localhost:8080/"
        },
        "outputId": "9010b659-d723-44c4-b644-e8a85e9723cf"
      },
      "source": [
        "df_air.info()"
      ],
      "execution_count": 44,
      "outputs": [
        {
          "output_type": "stream",
          "text": [
            "<class 'pandas.core.frame.DataFrame'>\n",
            "Int64Index: 48858 entries, 0 to 48894\n",
            "Data columns (total 15 columns):\n",
            " #   Column                          Non-Null Count  Dtype  \n",
            "---  ------                          --------------  -----  \n",
            " 0   id                              48858 non-null  int64  \n",
            " 1   name                            48858 non-null  object \n",
            " 2   host_id                         48858 non-null  int64  \n",
            " 3   host_name                       48858 non-null  object \n",
            " 4   neighbourhood_group             48858 non-null  object \n",
            " 5   neighbourhood                   48858 non-null  object \n",
            " 6   latitude                        48858 non-null  float64\n",
            " 7   longitude                       48858 non-null  float64\n",
            " 8   room_type                       48858 non-null  object \n",
            " 9   price                           48858 non-null  int64  \n",
            " 10  minimum_nights                  48858 non-null  int64  \n",
            " 11  number_of_reviews               48858 non-null  int64  \n",
            " 12  reviews_per_month               38821 non-null  float64\n",
            " 13  calculated_host_listings_count  48858 non-null  int64  \n",
            " 14  availability_365                48858 non-null  int64  \n",
            "dtypes: float64(3), int64(7), object(5)\n",
            "memory usage: 6.0+ MB\n"
          ],
          "name": "stdout"
        }
      ]
    },
    {
      "cell_type": "markdown",
      "metadata": {
        "id": "uRKjB0fuax0Z"
      },
      "source": [
        "**Checking for duplicate data**"
      ]
    },
    {
      "cell_type": "code",
      "metadata": {
        "id": "KGS-3mNFYuGd",
        "colab": {
          "base_uri": "https://localhost:8080/",
          "height": 86
        },
        "outputId": "25b12948-5024-40b0-bd89-0d087ca7281f"
      },
      "source": [
        "duplicate_data = df_air.duplicated()\r\n",
        "print(duplicate_data.sum())\r\n",
        "df_air[duplicate_data]\r\n",
        "#looks like there's no duplicate data present!"
      ],
      "execution_count": 45,
      "outputs": [
        {
          "output_type": "stream",
          "text": [
            "0\n"
          ],
          "name": "stdout"
        },
        {
          "output_type": "execute_result",
          "data": {
            "text/html": [
              "<div>\n",
              "<style scoped>\n",
              "    .dataframe tbody tr th:only-of-type {\n",
              "        vertical-align: middle;\n",
              "    }\n",
              "\n",
              "    .dataframe tbody tr th {\n",
              "        vertical-align: top;\n",
              "    }\n",
              "\n",
              "    .dataframe thead th {\n",
              "        text-align: right;\n",
              "    }\n",
              "</style>\n",
              "<table border=\"1\" class=\"dataframe\">\n",
              "  <thead>\n",
              "    <tr style=\"text-align: right;\">\n",
              "      <th></th>\n",
              "      <th>id</th>\n",
              "      <th>name</th>\n",
              "      <th>host_id</th>\n",
              "      <th>host_name</th>\n",
              "      <th>neighbourhood_group</th>\n",
              "      <th>neighbourhood</th>\n",
              "      <th>latitude</th>\n",
              "      <th>longitude</th>\n",
              "      <th>room_type</th>\n",
              "      <th>price</th>\n",
              "      <th>minimum_nights</th>\n",
              "      <th>number_of_reviews</th>\n",
              "      <th>reviews_per_month</th>\n",
              "      <th>calculated_host_listings_count</th>\n",
              "      <th>availability_365</th>\n",
              "    </tr>\n",
              "  </thead>\n",
              "  <tbody>\n",
              "  </tbody>\n",
              "</table>\n",
              "</div>"
            ],
            "text/plain": [
              "Empty DataFrame\n",
              "Columns: [id, name, host_id, host_name, neighbourhood_group, neighbourhood, latitude, longitude, room_type, price, minimum_nights, number_of_reviews, reviews_per_month, calculated_host_listings_count, availability_365]\n",
              "Index: []"
            ]
          },
          "metadata": {
            "tags": []
          },
          "execution_count": 45
        }
      ]
    },
    {
      "cell_type": "markdown",
      "metadata": {
        "id": "vWRxoyfb4w5M"
      },
      "source": [
        "The reviews_per_month column containing null values and we can simple put 0 reviews by replacing NAN's<br>\r\n",
        "makes sense right? "
      ]
    },
    {
      "cell_type": "code",
      "metadata": {
        "id": "xcf_WOul4v3r"
      },
      "source": [
        "df_air['reviews_per_month']=df_air['reviews_per_month'].replace(to_replace=np.nan,value=0).astype('int64')"
      ],
      "execution_count": 46,
      "outputs": []
    },
    {
      "cell_type": "code",
      "metadata": {
        "id": "fcH6xKAV-g6U",
        "colab": {
          "base_uri": "https://localhost:8080/"
        },
        "outputId": "b2d0de06-382e-49a7-8452-d70fc4a2cee4"
      },
      "source": [
        "df_air['reviews_per_month'].isnull().values.any()"
      ],
      "execution_count": 47,
      "outputs": [
        {
          "output_type": "execute_result",
          "data": {
            "text/plain": [
              "False"
            ]
          },
          "metadata": {
            "tags": []
          },
          "execution_count": 47
        }
      ]
    },
    {
      "cell_type": "code",
      "metadata": {
        "id": "RFUGMoBGP8X5",
        "colab": {
          "base_uri": "https://localhost:8080/",
          "height": 250
        },
        "outputId": "37ab72b9-cb46-44ef-d9bf-10b43dd5829a"
      },
      "source": [
        "df_air.head(2)"
      ],
      "execution_count": 48,
      "outputs": [
        {
          "output_type": "execute_result",
          "data": {
            "text/html": [
              "<div>\n",
              "<style scoped>\n",
              "    .dataframe tbody tr th:only-of-type {\n",
              "        vertical-align: middle;\n",
              "    }\n",
              "\n",
              "    .dataframe tbody tr th {\n",
              "        vertical-align: top;\n",
              "    }\n",
              "\n",
              "    .dataframe thead th {\n",
              "        text-align: right;\n",
              "    }\n",
              "</style>\n",
              "<table border=\"1\" class=\"dataframe\">\n",
              "  <thead>\n",
              "    <tr style=\"text-align: right;\">\n",
              "      <th></th>\n",
              "      <th>id</th>\n",
              "      <th>name</th>\n",
              "      <th>host_id</th>\n",
              "      <th>host_name</th>\n",
              "      <th>neighbourhood_group</th>\n",
              "      <th>neighbourhood</th>\n",
              "      <th>latitude</th>\n",
              "      <th>longitude</th>\n",
              "      <th>room_type</th>\n",
              "      <th>price</th>\n",
              "      <th>minimum_nights</th>\n",
              "      <th>number_of_reviews</th>\n",
              "      <th>reviews_per_month</th>\n",
              "      <th>calculated_host_listings_count</th>\n",
              "      <th>availability_365</th>\n",
              "    </tr>\n",
              "  </thead>\n",
              "  <tbody>\n",
              "    <tr>\n",
              "      <th>0</th>\n",
              "      <td>2539</td>\n",
              "      <td>Clean &amp; quiet apt home by the park</td>\n",
              "      <td>2787</td>\n",
              "      <td>John</td>\n",
              "      <td>Brooklyn</td>\n",
              "      <td>Kensington</td>\n",
              "      <td>40.64749</td>\n",
              "      <td>-73.97237</td>\n",
              "      <td>Private room</td>\n",
              "      <td>149</td>\n",
              "      <td>1</td>\n",
              "      <td>9</td>\n",
              "      <td>0</td>\n",
              "      <td>6</td>\n",
              "      <td>365</td>\n",
              "    </tr>\n",
              "    <tr>\n",
              "      <th>1</th>\n",
              "      <td>2595</td>\n",
              "      <td>Skylit Midtown Castle</td>\n",
              "      <td>2845</td>\n",
              "      <td>Jennifer</td>\n",
              "      <td>Manhattan</td>\n",
              "      <td>Midtown</td>\n",
              "      <td>40.75362</td>\n",
              "      <td>-73.98377</td>\n",
              "      <td>Entire home/apt</td>\n",
              "      <td>225</td>\n",
              "      <td>1</td>\n",
              "      <td>45</td>\n",
              "      <td>0</td>\n",
              "      <td>2</td>\n",
              "      <td>355</td>\n",
              "    </tr>\n",
              "  </tbody>\n",
              "</table>\n",
              "</div>"
            ],
            "text/plain": [
              "     id  ... availability_365\n",
              "0  2539  ...              365\n",
              "1  2595  ...              355\n",
              "\n",
              "[2 rows x 15 columns]"
            ]
          },
          "metadata": {
            "tags": []
          },
          "execution_count": 48
        }
      ]
    },
    {
      "cell_type": "markdown",
      "metadata": {
        "id": "f8iaEDgmjdB0"
      },
      "source": [
        "**Univariate Analysis!**"
      ]
    },
    {
      "cell_type": "markdown",
      "metadata": {
        "id": "SdlU3j71DjlD"
      },
      "source": [
        "Let's check the most no of listings in NYC first!"
      ]
    },
    {
      "cell_type": "code",
      "metadata": {
        "colab": {
          "base_uri": "https://localhost:8080/",
          "height": 359
        },
        "id": "mfVsQ9loDhpx",
        "outputId": "101b11fd-1e94-43e2-a4f5-3bb4bf85706d"
      },
      "source": [
        "#top 10 listings on Airbnb in entire NYC:\r\n",
        "\r\n",
        "listings_count_df=df_air['name'].value_counts()[:10].reset_index()\r\n",
        "listings_count_df.rename(columns={'index':'Listings on Airbnb','name':'Total_listings'},inplace=True)\r\n",
        "# sns.countplot(x='name',data=listings_count_df,hue='room_type')\r\n",
        "listings_count_df"
      ],
      "execution_count": 49,
      "outputs": [
        {
          "output_type": "execute_result",
          "data": {
            "text/html": [
              "<div>\n",
              "<style scoped>\n",
              "    .dataframe tbody tr th:only-of-type {\n",
              "        vertical-align: middle;\n",
              "    }\n",
              "\n",
              "    .dataframe tbody tr th {\n",
              "        vertical-align: top;\n",
              "    }\n",
              "\n",
              "    .dataframe thead th {\n",
              "        text-align: right;\n",
              "    }\n",
              "</style>\n",
              "<table border=\"1\" class=\"dataframe\">\n",
              "  <thead>\n",
              "    <tr style=\"text-align: right;\">\n",
              "      <th></th>\n",
              "      <th>Listings on Airbnb</th>\n",
              "      <th>Total_listings</th>\n",
              "    </tr>\n",
              "  </thead>\n",
              "  <tbody>\n",
              "    <tr>\n",
              "      <th>0</th>\n",
              "      <td>Hillside Hotel</td>\n",
              "      <td>18</td>\n",
              "    </tr>\n",
              "    <tr>\n",
              "      <th>1</th>\n",
              "      <td>Home away from home</td>\n",
              "      <td>17</td>\n",
              "    </tr>\n",
              "    <tr>\n",
              "      <th>2</th>\n",
              "      <td>New york Multi-unit building</td>\n",
              "      <td>16</td>\n",
              "    </tr>\n",
              "    <tr>\n",
              "      <th>3</th>\n",
              "      <td>Brooklyn Apartment</td>\n",
              "      <td>12</td>\n",
              "    </tr>\n",
              "    <tr>\n",
              "      <th>4</th>\n",
              "      <td>Loft Suite @ The Box House Hotel</td>\n",
              "      <td>11</td>\n",
              "    </tr>\n",
              "    <tr>\n",
              "      <th>5</th>\n",
              "      <td>Private Room</td>\n",
              "      <td>11</td>\n",
              "    </tr>\n",
              "    <tr>\n",
              "      <th>6</th>\n",
              "      <td>Private room</td>\n",
              "      <td>10</td>\n",
              "    </tr>\n",
              "    <tr>\n",
              "      <th>7</th>\n",
              "      <td>Artsy Private BR in Fort Greene Cumberland</td>\n",
              "      <td>10</td>\n",
              "    </tr>\n",
              "    <tr>\n",
              "      <th>8</th>\n",
              "      <td>Private room in Brooklyn</td>\n",
              "      <td>8</td>\n",
              "    </tr>\n",
              "    <tr>\n",
              "      <th>9</th>\n",
              "      <td>Cozy Brooklyn Apartment</td>\n",
              "      <td>8</td>\n",
              "    </tr>\n",
              "  </tbody>\n",
              "</table>\n",
              "</div>"
            ],
            "text/plain": [
              "                           Listings on Airbnb  Total_listings\n",
              "0                              Hillside Hotel              18\n",
              "1                         Home away from home              17\n",
              "2                New york Multi-unit building              16\n",
              "3                          Brooklyn Apartment              12\n",
              "4            Loft Suite @ The Box House Hotel              11\n",
              "5                                Private Room              11\n",
              "6                                Private room              10\n",
              "7  Artsy Private BR in Fort Greene Cumberland              10\n",
              "8                    Private room in Brooklyn               8\n",
              "9                     Cozy Brooklyn Apartment               8"
            ]
          },
          "metadata": {
            "tags": []
          },
          "execution_count": 49
        }
      ]
    },
    {
      "cell_type": "code",
      "metadata": {
        "id": "cKTTkKB5igOE"
      },
      "source": [
        "top_10_hosts=df_air['host_name'].value_counts()[:10] #top 10 hosts on the basis of no of listings in entire NYC!"
      ],
      "execution_count": 50,
      "outputs": []
    },
    {
      "cell_type": "code",
      "metadata": {
        "id": "A5DyAn3fVjN1",
        "colab": {
          "base_uri": "https://localhost:8080/"
        },
        "outputId": "69c09bf1-39f7-478b-d0e4-169b94e853cb"
      },
      "source": [
        "top_10_hosts"
      ],
      "execution_count": 51,
      "outputs": [
        {
          "output_type": "execute_result",
          "data": {
            "text/plain": [
              "Michael         417\n",
              "David           403\n",
              "Sonder (NYC)    327\n",
              "John            294\n",
              "Alex            279\n",
              "Blueground      232\n",
              "Sarah           227\n",
              "Daniel          226\n",
              "Jessica         205\n",
              "Maria           204\n",
              "Name: host_name, dtype: int64"
            ]
          },
          "metadata": {
            "tags": []
          },
          "execution_count": 51
        }
      ]
    },
    {
      "cell_type": "code",
      "metadata": {
        "id": "4Rru9AMmismr",
        "colab": {
          "base_uri": "https://localhost:8080/",
          "height": 490
        },
        "outputId": "a29a9479-10c2-4660-e7db-cb4eb5c91ad0"
      },
      "source": [
        "top_10_hosts.plot(kind='bar')\r\n",
        "plt.xlabel('top10_hosts')\r\n",
        "plt.ylabel('total_NYC_listings')\r\n",
        "plt.title('top 10 hosts on the basis of no of listings in entire NYC!')"
      ],
      "execution_count": 52,
      "outputs": [
        {
          "output_type": "execute_result",
          "data": {
            "text/plain": [
              "Text(0.5, 1.0, 'top 10 hosts on the basis of no of listings in entire NYC!')"
            ]
          },
          "metadata": {
            "tags": []
          },
          "execution_count": 52
        },
        {
          "output_type": "display_data",
          "data": {
            "image/png": "[encoded data removed]",
            "text/plain": [
              "<Figure size 1440x432 with 1 Axes>"
            ]
          },
          "metadata": {
            "tags": []
          }
        }
      ]
    },
    {
      "cell_type": "code",
      "metadata": {
        "id": "sIirWM6fXXr3",
        "colab": {
          "base_uri": "https://localhost:8080/",
          "height": 489
        },
        "outputId": "523cb287-885d-4735-a7d8-0b7a31dc3c9f"
      },
      "source": [
        "#the neighbourhood group 'Manhattan' has the highest no of listings in entire NYC! \r\n",
        "df_air['neighbourhood_group'].value_counts().plot(kind='bar')\r\n",
        "plt.xlabel('Neighbourhood_Group')\r\n",
        "plt.ylabel('total_NYC_listings')\r\n",
        "plt.title('Count of no of listings in entire NYC of each neighbourhood group!')"
      ],
      "execution_count": 53,
      "outputs": [
        {
          "output_type": "execute_result",
          "data": {
            "text/plain": [
              "Text(0.5, 1.0, 'Count of no of listings in entire NYC of each neighbourhood group!')"
            ]
          },
          "metadata": {
            "tags": []
          },
          "execution_count": 53
        },
        {
          "output_type": "display_data",
          "data": {
            "image/png": "[encoded data removed]",
            "text/plain": [
              "<Figure size 1440x432 with 1 Axes>"
            ]
          },
          "metadata": {
            "tags": []
          }
        }
      ]
    },
    {
      "cell_type": "code",
      "metadata": {
        "id": "fIuwJOmFgT0-",
        "colab": {
          "base_uri": "https://localhost:8080/"
        },
        "outputId": "65483beb-51fb-49b8-a52e-8fa670a509e4"
      },
      "source": [
        "df_air['neighbourhood'].unique() #looking at the unique neighbourhoods "
      ],
      "execution_count": 54,
      "outputs": [
        {
          "output_type": "execute_result",
          "data": {
            "text/plain": [
              "array(['Kensington', 'Midtown', 'Harlem', 'Clinton Hill', 'East Harlem',\n",
              "       'Murray Hill', 'Bedford-Stuyvesant', \"Hell's Kitchen\",\n",
              "       'Upper West Side', 'Chinatown', 'South Slope', 'West Village',\n",
              "       'Williamsburg', 'Fort Greene', 'Chelsea', 'Crown Heights',\n",
              "       'Park Slope', 'Windsor Terrace', 'Inwood', 'East Village',\n",
              "       'Greenpoint', 'Bushwick', 'Flatbush', 'Lower East Side',\n",
              "       'Prospect-Lefferts Gardens', 'Long Island City', 'Kips Bay',\n",
              "       'SoHo', 'Upper East Side', 'Prospect Heights',\n",
              "       'Washington Heights', 'Woodside', 'Brooklyn Heights',\n",
              "       'Carroll Gardens', 'Gowanus', 'Flatlands', 'Cobble Hill',\n",
              "       'Flushing', 'Boerum Hill', 'Sunnyside', 'DUMBO', 'St. George',\n",
              "       'Highbridge', 'Financial District', 'Ridgewood',\n",
              "       'Morningside Heights', 'Jamaica', 'Middle Village', 'NoHo',\n",
              "       'Ditmars Steinway', 'Flatiron District', 'Roosevelt Island',\n",
              "       'Greenwich Village', 'Little Italy', 'East Flatbush',\n",
              "       'Tompkinsville', 'Astoria', 'Clason Point', 'Eastchester',\n",
              "       'Kingsbridge', 'Two Bridges', 'Rockaway Beach', 'Forest Hills',\n",
              "       'Nolita', 'Woodlawn', 'University Heights', 'Gravesend',\n",
              "       'Gramercy', 'Allerton', 'East New York', 'Theater District',\n",
              "       'Concourse Village', 'Sheepshead Bay', 'Emerson Hill',\n",
              "       'Fort Hamilton', 'Bensonhurst', 'Tribeca', 'Shore Acres',\n",
              "       'Sunset Park', 'Concourse', 'Elmhurst', 'Brighton Beach',\n",
              "       'Jackson Heights', 'Cypress Hills', 'St. Albans', 'Arrochar',\n",
              "       'Rego Park', 'Wakefield', 'Clifton', 'Bay Ridge', 'Graniteville',\n",
              "       'Spuyten Duyvil', 'Stapleton', 'Briarwood', 'Ozone Park',\n",
              "       'Columbia St', 'Vinegar Hill', 'Mott Haven', 'Longwood',\n",
              "       'Canarsie', 'Battery Park City', 'Civic Center', 'East Elmhurst',\n",
              "       'New Springville', 'Morris Heights', 'Arverne', 'Cambria Heights',\n",
              "       'Tottenville', 'Mariners Harbor', 'Concord', 'Borough Park',\n",
              "       'Bayside', 'Downtown Brooklyn', 'Port Morris', 'Fieldston',\n",
              "       'Kew Gardens', 'Midwood', 'College Point', 'Mount Eden',\n",
              "       'City Island', 'Glendale', 'Port Richmond', 'Red Hook',\n",
              "       'Richmond Hill', 'Queens Village', 'Bellerose', 'Maspeth',\n",
              "       'Williamsbridge', 'Soundview', 'Woodhaven', 'Woodrow',\n",
              "       'Co-op City', 'Stuyvesant Town', 'Parkchester', 'North Riverdale',\n",
              "       'Dyker Heights', 'Bronxdale', 'Sea Gate', 'Riverdale',\n",
              "       'Kew Gardens Hills', 'Bay Terrace', 'Norwood', 'Claremont Village',\n",
              "       'Whitestone', 'Fordham', 'Bayswater', 'Navy Yard', 'Brownsville',\n",
              "       'Eltingville', 'Fresh Meadows', 'Mount Hope', 'Lighthouse Hill',\n",
              "       'Springfield Gardens', 'Howard Beach', 'Belle Harbor',\n",
              "       'Jamaica Estates', 'Van Nest', 'Morris Park', 'West Brighton',\n",
              "       'Far Rockaway', 'South Ozone Park', 'Tremont', 'Corona',\n",
              "       'Great Kills', 'Manhattan Beach', 'Marble Hill', 'Dongan Hills',\n",
              "       'Castleton Corners', 'East Morrisania', 'Hunts Point', 'Neponsit',\n",
              "       'Pelham Bay', 'Randall Manor', 'Throgs Neck', 'Todt Hill',\n",
              "       'West Farms', 'Silver Lake', 'Morrisania', 'Laurelton',\n",
              "       'Grymes Hill', 'Holliswood', 'Pelham Gardens', 'Belmont',\n",
              "       'Rosedale', 'Edgemere', 'New Brighton', 'Midland Beach',\n",
              "       'Baychester', 'Melrose', 'Bergen Beach', 'Richmondtown',\n",
              "       'Howland Hook', 'Schuylerville', 'Coney Island', 'New Dorp Beach',\n",
              "       \"Prince's Bay\", 'South Beach', 'Bath Beach', 'Jamaica Hills',\n",
              "       'Oakwood', 'Castle Hill', 'Hollis', 'Douglaston', 'Huguenot',\n",
              "       'Olinville', 'Edenwald', 'Grant City', 'Westerleigh',\n",
              "       'Bay Terrace, Staten Island', 'Westchester Square', 'Little Neck',\n",
              "       'Fort Wadsworth', 'Rosebank', 'Unionport', 'Mill Basin',\n",
              "       'Arden Heights', \"Bull's Head\", 'New Dorp', 'Rossville',\n",
              "       'Breezy Point', 'Willowbrook'], dtype=object)"
            ]
          },
          "metadata": {
            "tags": []
          },
          "execution_count": 54
        }
      ]
    },
    {
      "cell_type": "code",
      "metadata": {
        "id": "8EzRHuzZj_S0",
        "colab": {
          "base_uri": "https://localhost:8080/",
          "height": 526
        },
        "outputId": "078550ac-b233-42e6-c294-2ea05314975c"
      },
      "source": [
        "top_10_neigbours= df_air['neighbourhood'].value_counts()[:10] #checking top 10 neighbourhoods on the basis of no of listings in entire NYC!\r\n",
        "top_10_neigbours.plot(kind='bar')\r\n",
        "plt.xlabel('neighbourhood')\r\n",
        "plt.ylabel('counts in entire NYC')\r\n",
        "plt.title('Top neighbourhoods in entire NYC on the basis of count of listings')"
      ],
      "execution_count": 55,
      "outputs": [
        {
          "output_type": "execute_result",
          "data": {
            "text/plain": [
              "Text(0.5, 1.0, 'Top neighbourhoods in entire NYC on the basis of count of listings')"
            ]
          },
          "metadata": {
            "tags": []
          },
          "execution_count": 55
        },
        {
          "output_type": "display_data",
          "data": {
            "image/png": "[encoded data removed]",
            "text/plain": [
              "<Figure size 1440x432 with 1 Axes>"
            ]
          },
          "metadata": {
            "tags": []
          }
        }
      ]
    },
    {
      "cell_type": "code",
      "metadata": {
        "id": "RKGvaFpswYi6",
        "colab": {
          "base_uri": "https://localhost:8080/",
          "height": 426
        },
        "outputId": "91f19dc7-a05c-41a2-94c4-b01439a11248"
      },
      "source": [
        "plt.rcParams['figure.figsize'] = (8, 5)\r\n",
        "sns.countplot(df_air['room_type'])\r\n",
        "plt.title('count of each room types in entire NYC')"
      ],
      "execution_count": 56,
      "outputs": [
        {
          "output_type": "stream",
          "text": [
            "/usr/local/lib/python3.6/dist-packages/seaborn/_decorators.py:43: FutureWarning: Pass the following variable as a keyword arg: x. From version 0.12, the only valid positional argument will be `data`, and passing other arguments without an explicit keyword will result in an error or misinterpretation.\n",
            "  FutureWarning\n"
          ],
          "name": "stderr"
        },
        {
          "output_type": "execute_result",
          "data": {
            "text/plain": [
              "Text(0.5, 1.0, 'count of each room types in entire NYC')"
            ]
          },
          "metadata": {
            "tags": []
          },
          "execution_count": 56
        },
        {
          "output_type": "display_data",
          "data": {
            "image/png": "[encoded data removed]",
            "text/plain": [
              "<Figure size 576x360 with 1 Axes>"
            ]
          },
          "metadata": {
            "tags": []
          }
        }
      ]
    },
    {
      "cell_type": "code",
      "metadata": {
        "colab": {
          "base_uri": "https://localhost:8080/",
          "height": 372
        },
        "id": "7RkNO2uo3xdB",
        "outputId": "9fb6c188-08e8-48cf-c90b-4bbb7906d465"
      },
      "source": [
        "#count of each category of room type in each neighbourhood group in entire NYC!\r\n",
        "#relationship between two categorical variables.\r\n",
        "\r\n",
        "ax = sns.countplot(x=\"neighbourhood_group\",hue=\"room_type\", data=df_air)\r\n",
        "ax.set_title('count of room types of each neighbourhood group in entire NYC')"
      ],
      "execution_count": 57,
      "outputs": [
        {
          "output_type": "execute_result",
          "data": {
            "text/plain": [
              "Text(0.5, 1.0, 'count of room types of each neighbourhood group in entire NYC')"
            ]
          },
          "metadata": {
            "tags": []
          },
          "execution_count": 57
        },
        {
          "output_type": "display_data",
          "data": {
            "image/png": "[encoded data removed]",
            "text/plain": [
              "<Figure size 576x360 with 1 Axes>"
            ]
          },
          "metadata": {
            "tags": []
          }
        }
      ]
    },
    {
      "cell_type": "markdown",
      "metadata": {
        "id": "AOsKpqXc31dr"
      },
      "source": [
        "We can infer that Brooklyn,Queens,Bronx has more private room types while Manhattan which has the highest no of listings in entire NYC has more Entire home/apt room types."
      ]
    },
    {
      "cell_type": "code",
      "metadata": {
        "id": "yyTKyRAH_27b",
        "colab": {
          "base_uri": "https://localhost:8080/",
          "height": 410
        },
        "outputId": "8df9b589-5f41-4732-96c9-90275e4f917e"
      },
      "source": [
        "#distribution of listings availability at NYC!\r\n",
        "sns.distplot(df_air['availability_365'])"
      ],
      "execution_count": 58,
      "outputs": [
        {
          "output_type": "stream",
          "text": [
            "/usr/local/lib/python3.6/dist-packages/seaborn/distributions.py:2557: FutureWarning: `distplot` is a deprecated function and will be removed in a future version. Please adapt your code to use either `displot` (a figure-level function with similar flexibility) or `histplot` (an axes-level function for histograms).\n",
            "  warnings.warn(msg, FutureWarning)\n"
          ],
          "name": "stderr"
        },
        {
          "output_type": "execute_result",
          "data": {
            "text/plain": [
              "<matplotlib.axes._subplots.AxesSubplot at 0x7f08256aa438>"
            ]
          },
          "metadata": {
            "tags": []
          },
          "execution_count": 58
        },
        {
          "output_type": "display_data",
          "data": {
            "image/png": "[encoded data removed]",
            "text/plain": [
              "<Figure size 576x360 with 1 Axes>"
            ]
          },
          "metadata": {
            "tags": []
          }
        }
      ]
    },
    {
      "cell_type": "markdown",
      "metadata": {
        "id": "3XlDiqv2LOSJ"
      },
      "source": [
        "availability_365 have uniform distribution with availability ranging from 0 to 370<br>\r\n",
        "\r\n",
        "The distribution looks slighly skewed towards right or moderately skewed as per the skewness value ranging between: (0.5-0.1)<br>\r\n",
        "\r\n",
        "Also the distribution looks flatter as compared to a normal distribution, known to be platykurtosis with a negative kurtosis(lack of outliers) as below:"
      ]
    },
    {
      "cell_type": "code",
      "metadata": {
        "id": "uWi5yVd-lkFd",
        "colab": {
          "base_uri": "https://localhost:8080/"
        },
        "outputId": "b8173e8a-98a9-492b-f28f-fa10fcdad382"
      },
      "source": [
        "#skewness and kurtosis\r\n",
        "print(\"Skewness: %f\" % df_air['availability_365'].skew())\r\n",
        "print(\"Kurtosis: %f\" % df_air['availability_365'].kurt())"
      ],
      "execution_count": 59,
      "outputs": [
        {
          "output_type": "stream",
          "text": [
            "Skewness: 0.763087\n",
            "Kurtosis: -0.997818\n"
          ],
          "name": "stdout"
        }
      ]
    },
    {
      "cell_type": "markdown",
      "metadata": {
        "id": "8NX0OA8g4wT_"
      },
      "source": [
        "Reviews/month distribution as per listings in NYC"
      ]
    },
    {
      "cell_type": "code",
      "metadata": {
        "colab": {
          "base_uri": "https://localhost:8080/",
          "height": 341
        },
        "id": "YC40i-x_4IUD",
        "outputId": "e7ce6a03-c9ea-419f-83b8-221911a6df42"
      },
      "source": [
        "df_air['reviews_per_month'].plot.hist()"
      ],
      "execution_count": 60,
      "outputs": [
        {
          "output_type": "execute_result",
          "data": {
            "text/plain": [
              "<matplotlib.axes._subplots.AxesSubplot at 0x7f082566d6a0>"
            ]
          },
          "metadata": {
            "tags": []
          },
          "execution_count": 60
        },
        {
          "output_type": "display_data",
          "data": {
            "image/png": "[encoded data removed]",
            "text/plain": [
              "<Figure size 576x360 with 1 Axes>"
            ]
          },
          "metadata": {
            "tags": []
          }
        }
      ]
    },
    {
      "cell_type": "code",
      "metadata": {
        "id": "y9YarfbQlj6o",
        "colab": {
          "base_uri": "https://localhost:8080/",
          "height": 410
        },
        "outputId": "e62773ad-6a75-4134-b4cd-2e9f991e960a"
      },
      "source": [
        "fig, ax = plt.subplots(figsize=(15,5))\r\n",
        "sns.distplot(df_air['reviews_per_month'])\r\n"
      ],
      "execution_count": 61,
      "outputs": [
        {
          "output_type": "stream",
          "text": [
            "/usr/local/lib/python3.6/dist-packages/seaborn/distributions.py:2557: FutureWarning: `distplot` is a deprecated function and will be removed in a future version. Please adapt your code to use either `displot` (a figure-level function with similar flexibility) or `histplot` (an axes-level function for histograms).\n",
            "  warnings.warn(msg, FutureWarning)\n"
          ],
          "name": "stderr"
        },
        {
          "output_type": "execute_result",
          "data": {
            "text/plain": [
              "<matplotlib.axes._subplots.AxesSubplot at 0x7f0825565fd0>"
            ]
          },
          "metadata": {
            "tags": []
          },
          "execution_count": 61
        },
        {
          "output_type": "display_data",
          "data": {
            "image/png": "[encoded data removed]",
            "text/plain": [
              "<Figure size 1080x360 with 1 Axes>"
            ]
          },
          "metadata": {
            "tags": []
          }
        }
      ]
    },
    {
      "cell_type": "markdown",
      "metadata": {
        "id": "8Mkkv3ibwIC3"
      },
      "source": [
        "Looks the reviews_per_month is positively skewed(high) towards right with longer tails indicating the presence of outliers.<br>\r\n",
        "\r\n",
        "Moreover, from the two distribution we can infer that monthly reviews goes from 0-10 and it ranges till 60 at highest."
      ]
    },
    {
      "cell_type": "code",
      "metadata": {
        "id": "PhTvGSb8llp6",
        "colab": {
          "base_uri": "https://localhost:8080/"
        },
        "outputId": "d33749d6-d8fc-4f35-ef47-524674c60114"
      },
      "source": [
        "#skewness and kurtosis\r\n",
        "print(\"Skewness: %f\" % df_air['reviews_per_month'].skew())\r\n",
        "print(\"Kurtosis: %f\" % df_air['reviews_per_month'].kurt())\r\n",
        "#both skewness and kurtosis are much high, indicates presence of large amount of outliers."
      ],
      "execution_count": 62,
      "outputs": [
        {
          "output_type": "stream",
          "text": [
            "Skewness: 3.752695\n",
            "Kurtosis: 54.368170\n"
          ],
          "name": "stdout"
        }
      ]
    },
    {
      "cell_type": "markdown",
      "metadata": {
        "id": "UUuMJG3r7wpA"
      },
      "source": [
        "**Feature Engineering:**"
      ]
    },
    {
      "cell_type": "markdown",
      "metadata": {
        "id": "jODm5Whf0EXX"
      },
      "source": [
        "**Handling the outliers**"
      ]
    },
    {
      "cell_type": "markdown",
      "metadata": {
        "id": "FX4i6Eqh05dO"
      },
      "source": [
        "The famous price column?!"
      ]
    },
    {
      "cell_type": "code",
      "metadata": {
        "id": "1NgP6ePJllgf",
        "colab": {
          "base_uri": "https://localhost:8080/",
          "height": 410
        },
        "outputId": "8da205f0-30ba-4aa5-aeaf-c95da2b46a56"
      },
      "source": [
        "sns.boxplot(df_air['price'])"
      ],
      "execution_count": 63,
      "outputs": [
        {
          "output_type": "stream",
          "text": [
            "/usr/local/lib/python3.6/dist-packages/seaborn/_decorators.py:43: FutureWarning: Pass the following variable as a keyword arg: x. From version 0.12, the only valid positional argument will be `data`, and passing other arguments without an explicit keyword will result in an error or misinterpretation.\n",
            "  FutureWarning\n"
          ],
          "name": "stderr"
        },
        {
          "output_type": "execute_result",
          "data": {
            "text/plain": [
              "<matplotlib.axes._subplots.AxesSubplot at 0x7f08254670f0>"
            ]
          },
          "metadata": {
            "tags": []
          },
          "execution_count": 63
        },
        {
          "output_type": "display_data",
          "data": {
            "image/png": "[encoded data removed]",
            "text/plain": [
              "<Figure size 576x360 with 1 Axes>"
            ]
          },
          "metadata": {
            "tags": []
          }
        }
      ]
    },
    {
      "cell_type": "code",
      "metadata": {
        "id": "hm3Buws0ThVl",
        "colab": {
          "base_uri": "https://localhost:8080/",
          "height": 317
        },
        "outputId": "9f231971-8993-413e-fda7-2552917efcd4"
      },
      "source": [
        "df_air.describe()"
      ],
      "execution_count": 64,
      "outputs": [
        {
          "output_type": "execute_result",
          "data": {
            "text/html": [
              "<div>\n",
              "<style scoped>\n",
              "    .dataframe tbody tr th:only-of-type {\n",
              "        vertical-align: middle;\n",
              "    }\n",
              "\n",
              "    .dataframe tbody tr th {\n",
              "        vertical-align: top;\n",
              "    }\n",
              "\n",
              "    .dataframe thead th {\n",
              "        text-align: right;\n",
              "    }\n",
              "</style>\n",
              "<table border=\"1\" class=\"dataframe\">\n",
              "  <thead>\n",
              "    <tr style=\"text-align: right;\">\n",
              "      <th></th>\n",
              "      <th>id</th>\n",
              "      <th>host_id</th>\n",
              "      <th>latitude</th>\n",
              "      <th>longitude</th>\n",
              "      <th>price</th>\n",
              "      <th>minimum_nights</th>\n",
              "      <th>number_of_reviews</th>\n",
              "      <th>reviews_per_month</th>\n",
              "      <th>calculated_host_listings_count</th>\n",
              "      <th>availability_365</th>\n",
              "    </tr>\n",
              "  </thead>\n",
              "  <tbody>\n",
              "    <tr>\n",
              "      <th>count</th>\n",
              "      <td>4.885800e+04</td>\n",
              "      <td>4.885800e+04</td>\n",
              "      <td>48858.000000</td>\n",
              "      <td>48858.000000</td>\n",
              "      <td>48858.000000</td>\n",
              "      <td>48858.000000</td>\n",
              "      <td>48858.000000</td>\n",
              "      <td>48858.000000</td>\n",
              "      <td>48858.000000</td>\n",
              "      <td>48858.000000</td>\n",
              "    </tr>\n",
              "    <tr>\n",
              "      <th>mean</th>\n",
              "      <td>1.902335e+07</td>\n",
              "      <td>6.763169e+07</td>\n",
              "      <td>40.728941</td>\n",
              "      <td>-73.952170</td>\n",
              "      <td>152.740309</td>\n",
              "      <td>7.012444</td>\n",
              "      <td>23.273098</td>\n",
              "      <td>0.806378</td>\n",
              "      <td>7.148369</td>\n",
              "      <td>112.801425</td>\n",
              "    </tr>\n",
              "    <tr>\n",
              "      <th>std</th>\n",
              "      <td>1.098289e+07</td>\n",
              "      <td>7.862389e+07</td>\n",
              "      <td>0.054528</td>\n",
              "      <td>0.046159</td>\n",
              "      <td>240.232386</td>\n",
              "      <td>20.019757</td>\n",
              "      <td>44.549898</td>\n",
              "      <td>1.502822</td>\n",
              "      <td>32.964600</td>\n",
              "      <td>131.610962</td>\n",
              "    </tr>\n",
              "    <tr>\n",
              "      <th>min</th>\n",
              "      <td>2.539000e+03</td>\n",
              "      <td>2.438000e+03</td>\n",
              "      <td>40.499790</td>\n",
              "      <td>-74.244420</td>\n",
              "      <td>0.000000</td>\n",
              "      <td>1.000000</td>\n",
              "      <td>0.000000</td>\n",
              "      <td>0.000000</td>\n",
              "      <td>1.000000</td>\n",
              "      <td>0.000000</td>\n",
              "    </tr>\n",
              "    <tr>\n",
              "      <th>25%</th>\n",
              "      <td>9.475980e+06</td>\n",
              "      <td>7.818669e+06</td>\n",
              "      <td>40.690090</td>\n",
              "      <td>-73.983070</td>\n",
              "      <td>69.000000</td>\n",
              "      <td>1.000000</td>\n",
              "      <td>1.000000</td>\n",
              "      <td>0.000000</td>\n",
              "      <td>1.000000</td>\n",
              "      <td>0.000000</td>\n",
              "    </tr>\n",
              "    <tr>\n",
              "      <th>50%</th>\n",
              "      <td>1.969114e+07</td>\n",
              "      <td>3.079133e+07</td>\n",
              "      <td>40.723070</td>\n",
              "      <td>-73.955680</td>\n",
              "      <td>106.000000</td>\n",
              "      <td>3.000000</td>\n",
              "      <td>5.000000</td>\n",
              "      <td>0.000000</td>\n",
              "      <td>1.000000</td>\n",
              "      <td>45.000000</td>\n",
              "    </tr>\n",
              "    <tr>\n",
              "      <th>75%</th>\n",
              "      <td>2.915765e+07</td>\n",
              "      <td>1.074344e+08</td>\n",
              "      <td>40.763107</td>\n",
              "      <td>-73.936280</td>\n",
              "      <td>175.000000</td>\n",
              "      <td>5.000000</td>\n",
              "      <td>24.000000</td>\n",
              "      <td>1.000000</td>\n",
              "      <td>2.000000</td>\n",
              "      <td>227.000000</td>\n",
              "    </tr>\n",
              "    <tr>\n",
              "      <th>max</th>\n",
              "      <td>3.648724e+07</td>\n",
              "      <td>2.743213e+08</td>\n",
              "      <td>40.913060</td>\n",
              "      <td>-73.712990</td>\n",
              "      <td>10000.000000</td>\n",
              "      <td>1250.000000</td>\n",
              "      <td>629.000000</td>\n",
              "      <td>58.000000</td>\n",
              "      <td>327.000000</td>\n",
              "      <td>365.000000</td>\n",
              "    </tr>\n",
              "  </tbody>\n",
              "</table>\n",
              "</div>"
            ],
            "text/plain": [
              "                 id  ...  availability_365\n",
              "count  4.885800e+04  ...      48858.000000\n",
              "mean   1.902335e+07  ...        112.801425\n",
              "std    1.098289e+07  ...        131.610962\n",
              "min    2.539000e+03  ...          0.000000\n",
              "25%    9.475980e+06  ...          0.000000\n",
              "50%    1.969114e+07  ...         45.000000\n",
              "75%    2.915765e+07  ...        227.000000\n",
              "max    3.648724e+07  ...        365.000000\n",
              "\n",
              "[8 rows x 10 columns]"
            ]
          },
          "metadata": {
            "tags": []
          },
          "execution_count": 64
        }
      ]
    },
    {
      "cell_type": "code",
      "metadata": {
        "id": "lzyJzFIGv-Kv"
      },
      "source": [
        "#using quantile approach to remove outliers."
      ],
      "execution_count": 65,
      "outputs": []
    },
    {
      "cell_type": "code",
      "metadata": {
        "id": "y4c58vw_aLBm",
        "colab": {
          "base_uri": "https://localhost:8080/"
        },
        "outputId": "7cb0ce96-cb3b-449e-88d8-ee4149feacc1"
      },
      "source": [
        "min_threshold,max_threshold= df_air.price.quantile([0.01,0.999])\r\n",
        "min_threshold,max_threshold"
      ],
      "execution_count": 66,
      "outputs": [
        {
          "output_type": "execute_result",
          "data": {
            "text/plain": [
              "(30.0, 3000.0)"
            ]
          },
          "metadata": {
            "tags": []
          },
          "execution_count": 66
        }
      ]
    },
    {
      "cell_type": "code",
      "metadata": {
        "id": "eGfLeTAebhfP",
        "colab": {
          "base_uri": "https://localhost:8080/",
          "height": 898
        },
        "outputId": "09ceab8d-6149-47d5-9f49-4d553f88bca1"
      },
      "source": [
        "df_air[df_air.price<min_threshold] #looks absurd ranges of min prices"
      ],
      "execution_count": 67,
      "outputs": [
        {
          "output_type": "execute_result",
          "data": {
            "text/html": [
              "<div>\n",
              "<style scoped>\n",
              "    .dataframe tbody tr th:only-of-type {\n",
              "        vertical-align: middle;\n",
              "    }\n",
              "\n",
              "    .dataframe tbody tr th {\n",
              "        vertical-align: top;\n",
              "    }\n",
              "\n",
              "    .dataframe thead th {\n",
              "        text-align: right;\n",
              "    }\n",
              "</style>\n",
              "<table border=\"1\" class=\"dataframe\">\n",
              "  <thead>\n",
              "    <tr style=\"text-align: right;\">\n",
              "      <th></th>\n",
              "      <th>id</th>\n",
              "      <th>name</th>\n",
              "      <th>host_id</th>\n",
              "      <th>host_name</th>\n",
              "      <th>neighbourhood_group</th>\n",
              "      <th>neighbourhood</th>\n",
              "      <th>latitude</th>\n",
              "      <th>longitude</th>\n",
              "      <th>room_type</th>\n",
              "      <th>price</th>\n",
              "      <th>minimum_nights</th>\n",
              "      <th>number_of_reviews</th>\n",
              "      <th>reviews_per_month</th>\n",
              "      <th>calculated_host_listings_count</th>\n",
              "      <th>availability_365</th>\n",
              "    </tr>\n",
              "  </thead>\n",
              "  <tbody>\n",
              "    <tr>\n",
              "      <th>957</th>\n",
              "      <td>375249</td>\n",
              "      <td>Enjoy Staten Island Hospitality</td>\n",
              "      <td>1887999</td>\n",
              "      <td>Rimma &amp; Jim</td>\n",
              "      <td>Staten Island</td>\n",
              "      <td>Graniteville</td>\n",
              "      <td>40.62109</td>\n",
              "      <td>-74.16534</td>\n",
              "      <td>Private room</td>\n",
              "      <td>20</td>\n",
              "      <td>3</td>\n",
              "      <td>80</td>\n",
              "      <td>0</td>\n",
              "      <td>1</td>\n",
              "      <td>226</td>\n",
              "    </tr>\n",
              "    <tr>\n",
              "      <th>2675</th>\n",
              "      <td>1428154</td>\n",
              "      <td>Central, Peaceful Semi-Private Room</td>\n",
              "      <td>5912572</td>\n",
              "      <td>Tangier</td>\n",
              "      <td>Brooklyn</td>\n",
              "      <td>Flatbush</td>\n",
              "      <td>40.63899</td>\n",
              "      <td>-73.95177</td>\n",
              "      <td>Shared room</td>\n",
              "      <td>29</td>\n",
              "      <td>2</td>\n",
              "      <td>5</td>\n",
              "      <td>0</td>\n",
              "      <td>1</td>\n",
              "      <td>321</td>\n",
              "    </tr>\n",
              "    <tr>\n",
              "      <th>2860</th>\n",
              "      <td>1620248</td>\n",
              "      <td>Large furnished 2 bedrooms- - 30 days Minimum</td>\n",
              "      <td>2196224</td>\n",
              "      <td>Sally</td>\n",
              "      <td>Manhattan</td>\n",
              "      <td>East Village</td>\n",
              "      <td>40.73051</td>\n",
              "      <td>-73.98140</td>\n",
              "      <td>Entire home/apt</td>\n",
              "      <td>10</td>\n",
              "      <td>30</td>\n",
              "      <td>0</td>\n",
              "      <td>0</td>\n",
              "      <td>4</td>\n",
              "      <td>137</td>\n",
              "    </tr>\n",
              "    <tr>\n",
              "      <th>3020</th>\n",
              "      <td>1767037</td>\n",
              "      <td>Small Cozy Room Wifi &amp; AC near JFK</td>\n",
              "      <td>9284163</td>\n",
              "      <td>Antonio</td>\n",
              "      <td>Queens</td>\n",
              "      <td>Woodhaven</td>\n",
              "      <td>40.68968</td>\n",
              "      <td>-73.85219</td>\n",
              "      <td>Private room</td>\n",
              "      <td>29</td>\n",
              "      <td>2</td>\n",
              "      <td>386</td>\n",
              "      <td>5</td>\n",
              "      <td>3</td>\n",
              "      <td>50</td>\n",
              "    </tr>\n",
              "    <tr>\n",
              "      <th>3918</th>\n",
              "      <td>2431607</td>\n",
              "      <td>Bright, Airy Room Share for 2</td>\n",
              "      <td>4973668</td>\n",
              "      <td>Gloria</td>\n",
              "      <td>Brooklyn</td>\n",
              "      <td>Bedford-Stuyvesant</td>\n",
              "      <td>40.68642</td>\n",
              "      <td>-73.93440</td>\n",
              "      <td>Shared room</td>\n",
              "      <td>25</td>\n",
              "      <td>5</td>\n",
              "      <td>76</td>\n",
              "      <td>1</td>\n",
              "      <td>3</td>\n",
              "      <td>258</td>\n",
              "    </tr>\n",
              "    <tr>\n",
              "      <th>...</th>\n",
              "      <td>...</td>\n",
              "      <td>...</td>\n",
              "      <td>...</td>\n",
              "      <td>...</td>\n",
              "      <td>...</td>\n",
              "      <td>...</td>\n",
              "      <td>...</td>\n",
              "      <td>...</td>\n",
              "      <td>...</td>\n",
              "      <td>...</td>\n",
              "      <td>...</td>\n",
              "      <td>...</td>\n",
              "      <td>...</td>\n",
              "      <td>...</td>\n",
              "      <td>...</td>\n",
              "    </tr>\n",
              "    <tr>\n",
              "      <th>48486</th>\n",
              "      <td>36280646</td>\n",
              "      <td>Cable and wfi, L/G included.</td>\n",
              "      <td>272872092</td>\n",
              "      <td>Chris</td>\n",
              "      <td>Queens</td>\n",
              "      <td>Forest Hills</td>\n",
              "      <td>40.73657</td>\n",
              "      <td>-73.85088</td>\n",
              "      <td>Entire home/apt</td>\n",
              "      <td>16</td>\n",
              "      <td>9</td>\n",
              "      <td>1</td>\n",
              "      <td>1</td>\n",
              "      <td>1</td>\n",
              "      <td>322</td>\n",
              "    </tr>\n",
              "    <tr>\n",
              "      <th>48647</th>\n",
              "      <td>36354776</td>\n",
              "      <td>Cozy bedroom in diverse neighborhood near JFK</td>\n",
              "      <td>273393150</td>\n",
              "      <td>Liza</td>\n",
              "      <td>Queens</td>\n",
              "      <td>Richmond Hill</td>\n",
              "      <td>40.68639</td>\n",
              "      <td>-73.81847</td>\n",
              "      <td>Private room</td>\n",
              "      <td>28</td>\n",
              "      <td>2</td>\n",
              "      <td>0</td>\n",
              "      <td>0</td>\n",
              "      <td>1</td>\n",
              "      <td>24</td>\n",
              "    </tr>\n",
              "    <tr>\n",
              "      <th>48832</th>\n",
              "      <td>36450814</td>\n",
              "      <td>FLATBUSH HANG OUT AND GO</td>\n",
              "      <td>267223765</td>\n",
              "      <td>Jarmel</td>\n",
              "      <td>Brooklyn</td>\n",
              "      <td>Flatbush</td>\n",
              "      <td>40.64922</td>\n",
              "      <td>-73.96078</td>\n",
              "      <td>Shared room</td>\n",
              "      <td>20</td>\n",
              "      <td>1</td>\n",
              "      <td>0</td>\n",
              "      <td>0</td>\n",
              "      <td>3</td>\n",
              "      <td>363</td>\n",
              "    </tr>\n",
              "    <tr>\n",
              "      <th>48867</th>\n",
              "      <td>36473044</td>\n",
              "      <td>The place you were dreaming for.(only for guys)</td>\n",
              "      <td>261338177</td>\n",
              "      <td>Diana</td>\n",
              "      <td>Brooklyn</td>\n",
              "      <td>Gravesend</td>\n",
              "      <td>40.59080</td>\n",
              "      <td>-73.97116</td>\n",
              "      <td>Shared room</td>\n",
              "      <td>25</td>\n",
              "      <td>1</td>\n",
              "      <td>0</td>\n",
              "      <td>0</td>\n",
              "      <td>6</td>\n",
              "      <td>338</td>\n",
              "    </tr>\n",
              "    <tr>\n",
              "      <th>48868</th>\n",
              "      <td>36473253</td>\n",
              "      <td>Heaven for you(only for guy)</td>\n",
              "      <td>261338177</td>\n",
              "      <td>Diana</td>\n",
              "      <td>Brooklyn</td>\n",
              "      <td>Gravesend</td>\n",
              "      <td>40.59118</td>\n",
              "      <td>-73.97119</td>\n",
              "      <td>Shared room</td>\n",
              "      <td>25</td>\n",
              "      <td>7</td>\n",
              "      <td>0</td>\n",
              "      <td>0</td>\n",
              "      <td>6</td>\n",
              "      <td>365</td>\n",
              "    </tr>\n",
              "  </tbody>\n",
              "</table>\n",
              "<p>403 rows × 15 columns</p>\n",
              "</div>"
            ],
            "text/plain": [
              "             id  ... availability_365\n",
              "957      375249  ...              226\n",
              "2675    1428154  ...              321\n",
              "2860    1620248  ...              137\n",
              "3020    1767037  ...               50\n",
              "3918    2431607  ...              258\n",
              "...         ...  ...              ...\n",
              "48486  36280646  ...              322\n",
              "48647  36354776  ...               24\n",
              "48832  36450814  ...              363\n",
              "48867  36473044  ...              338\n",
              "48868  36473253  ...              365\n",
              "\n",
              "[403 rows x 15 columns]"
            ]
          },
          "metadata": {
            "tags": []
          },
          "execution_count": 67
        }
      ]
    },
    {
      "cell_type": "code",
      "metadata": {
        "id": "1andkOlhcZ3X",
        "colab": {
          "base_uri": "https://localhost:8080/",
          "height": 1000
        },
        "outputId": "e52718cf-8d3d-4a0d-b573-82d05c3230a6"
      },
      "source": [
        "df_air[df_air.price>max_threshold] #similary for getting extreme price value above max_threshold"
      ],
      "execution_count": 68,
      "outputs": [
        {
          "output_type": "execute_result",
          "data": {
            "text/html": [
              "<div>\n",
              "<style scoped>\n",
              "    .dataframe tbody tr th:only-of-type {\n",
              "        vertical-align: middle;\n",
              "    }\n",
              "\n",
              "    .dataframe tbody tr th {\n",
              "        vertical-align: top;\n",
              "    }\n",
              "\n",
              "    .dataframe thead th {\n",
              "        text-align: right;\n",
              "    }\n",
              "</style>\n",
              "<table border=\"1\" class=\"dataframe\">\n",
              "  <thead>\n",
              "    <tr style=\"text-align: right;\">\n",
              "      <th></th>\n",
              "      <th>id</th>\n",
              "      <th>name</th>\n",
              "      <th>host_id</th>\n",
              "      <th>host_name</th>\n",
              "      <th>neighbourhood_group</th>\n",
              "      <th>neighbourhood</th>\n",
              "      <th>latitude</th>\n",
              "      <th>longitude</th>\n",
              "      <th>room_type</th>\n",
              "      <th>price</th>\n",
              "      <th>minimum_nights</th>\n",
              "      <th>number_of_reviews</th>\n",
              "      <th>reviews_per_month</th>\n",
              "      <th>calculated_host_listings_count</th>\n",
              "      <th>availability_365</th>\n",
              "    </tr>\n",
              "  </thead>\n",
              "  <tbody>\n",
              "    <tr>\n",
              "      <th>1862</th>\n",
              "      <td>826690</td>\n",
              "      <td>Sunny, Family-Friendly 2 Bedroom</td>\n",
              "      <td>4289240</td>\n",
              "      <td>Lucy</td>\n",
              "      <td>Brooklyn</td>\n",
              "      <td>Prospect Heights</td>\n",
              "      <td>40.67919</td>\n",
              "      <td>-73.97191</td>\n",
              "      <td>Entire home/apt</td>\n",
              "      <td>4000</td>\n",
              "      <td>4</td>\n",
              "      <td>0</td>\n",
              "      <td>0</td>\n",
              "      <td>1</td>\n",
              "      <td>83</td>\n",
              "    </tr>\n",
              "    <tr>\n",
              "      <th>2698</th>\n",
              "      <td>1448703</td>\n",
              "      <td>Beautiful 1 Bedroom in Nolita/Soho</td>\n",
              "      <td>213266</td>\n",
              "      <td>Jessica</td>\n",
              "      <td>Manhattan</td>\n",
              "      <td>Nolita</td>\n",
              "      <td>40.72193</td>\n",
              "      <td>-73.99379</td>\n",
              "      <td>Entire home/apt</td>\n",
              "      <td>5000</td>\n",
              "      <td>1</td>\n",
              "      <td>2</td>\n",
              "      <td>0</td>\n",
              "      <td>1</td>\n",
              "      <td>365</td>\n",
              "    </tr>\n",
              "    <tr>\n",
              "      <th>3537</th>\n",
              "      <td>2110145</td>\n",
              "      <td>UWS 1BR w/backyard + block from CP</td>\n",
              "      <td>2151325</td>\n",
              "      <td>Jay And Liz</td>\n",
              "      <td>Manhattan</td>\n",
              "      <td>Upper West Side</td>\n",
              "      <td>40.77782</td>\n",
              "      <td>-73.97848</td>\n",
              "      <td>Entire home/apt</td>\n",
              "      <td>6000</td>\n",
              "      <td>14</td>\n",
              "      <td>17</td>\n",
              "      <td>0</td>\n",
              "      <td>1</td>\n",
              "      <td>359</td>\n",
              "    </tr>\n",
              "    <tr>\n",
              "      <th>3695</th>\n",
              "      <td>2224896</td>\n",
              "      <td>NYC SuperBowl Wk 5 Bdrs River View</td>\n",
              "      <td>11353904</td>\n",
              "      <td>Todd</td>\n",
              "      <td>Manhattan</td>\n",
              "      <td>Upper West Side</td>\n",
              "      <td>40.79476</td>\n",
              "      <td>-73.97299</td>\n",
              "      <td>Entire home/apt</td>\n",
              "      <td>4000</td>\n",
              "      <td>1</td>\n",
              "      <td>0</td>\n",
              "      <td>0</td>\n",
              "      <td>1</td>\n",
              "      <td>0</td>\n",
              "    </tr>\n",
              "    <tr>\n",
              "      <th>3720</th>\n",
              "      <td>2243699</td>\n",
              "      <td>SuperBowl Penthouse Loft 3,000 sqft</td>\n",
              "      <td>1483320</td>\n",
              "      <td>Omri</td>\n",
              "      <td>Manhattan</td>\n",
              "      <td>Little Italy</td>\n",
              "      <td>40.71895</td>\n",
              "      <td>-73.99793</td>\n",
              "      <td>Entire home/apt</td>\n",
              "      <td>5250</td>\n",
              "      <td>1</td>\n",
              "      <td>0</td>\n",
              "      <td>0</td>\n",
              "      <td>1</td>\n",
              "      <td>0</td>\n",
              "    </tr>\n",
              "    <tr>\n",
              "      <th>3774</th>\n",
              "      <td>2271504</td>\n",
              "      <td>SUPER BOWL Brooklyn Duplex Apt!!</td>\n",
              "      <td>11598359</td>\n",
              "      <td>Jonathan</td>\n",
              "      <td>Brooklyn</td>\n",
              "      <td>Clinton Hill</td>\n",
              "      <td>40.68766</td>\n",
              "      <td>-73.96439</td>\n",
              "      <td>Entire home/apt</td>\n",
              "      <td>6500</td>\n",
              "      <td>1</td>\n",
              "      <td>0</td>\n",
              "      <td>0</td>\n",
              "      <td>1</td>\n",
              "      <td>0</td>\n",
              "    </tr>\n",
              "    <tr>\n",
              "      <th>3788</th>\n",
              "      <td>2281142</td>\n",
              "      <td>Prime NYC Location for Super Bowl</td>\n",
              "      <td>1427243</td>\n",
              "      <td>Jordana</td>\n",
              "      <td>Manhattan</td>\n",
              "      <td>East Village</td>\n",
              "      <td>40.73323</td>\n",
              "      <td>-73.98859</td>\n",
              "      <td>Entire home/apt</td>\n",
              "      <td>3750</td>\n",
              "      <td>1</td>\n",
              "      <td>0</td>\n",
              "      <td>0</td>\n",
              "      <td>1</td>\n",
              "      <td>0</td>\n",
              "    </tr>\n",
              "    <tr>\n",
              "      <th>4345</th>\n",
              "      <td>2919330</td>\n",
              "      <td>NearWilliamsburg bridge 11211 BK</td>\n",
              "      <td>14908606</td>\n",
              "      <td>Bianca</td>\n",
              "      <td>Brooklyn</td>\n",
              "      <td>Bedford-Stuyvesant</td>\n",
              "      <td>40.69572</td>\n",
              "      <td>-73.95731</td>\n",
              "      <td>Private room</td>\n",
              "      <td>5000</td>\n",
              "      <td>6</td>\n",
              "      <td>10</td>\n",
              "      <td>0</td>\n",
              "      <td>1</td>\n",
              "      <td>363</td>\n",
              "    </tr>\n",
              "    <tr>\n",
              "      <th>4376</th>\n",
              "      <td>2952861</td>\n",
              "      <td>Photography Location</td>\n",
              "      <td>1177497</td>\n",
              "      <td>Jessica</td>\n",
              "      <td>Brooklyn</td>\n",
              "      <td>Clinton Hill</td>\n",
              "      <td>40.69127</td>\n",
              "      <td>-73.96563</td>\n",
              "      <td>Entire home/apt</td>\n",
              "      <td>4500</td>\n",
              "      <td>1</td>\n",
              "      <td>5</td>\n",
              "      <td>0</td>\n",
              "      <td>11</td>\n",
              "      <td>365</td>\n",
              "    </tr>\n",
              "    <tr>\n",
              "      <th>4377</th>\n",
              "      <td>2953058</td>\n",
              "      <td>Film Location</td>\n",
              "      <td>1177497</td>\n",
              "      <td>Jessica</td>\n",
              "      <td>Brooklyn</td>\n",
              "      <td>Clinton Hill</td>\n",
              "      <td>40.69137</td>\n",
              "      <td>-73.96723</td>\n",
              "      <td>Entire home/apt</td>\n",
              "      <td>8000</td>\n",
              "      <td>1</td>\n",
              "      <td>1</td>\n",
              "      <td>0</td>\n",
              "      <td>11</td>\n",
              "      <td>365</td>\n",
              "    </tr>\n",
              "    <tr>\n",
              "      <th>6530</th>\n",
              "      <td>4737930</td>\n",
              "      <td>Spanish Harlem Apt</td>\n",
              "      <td>1235070</td>\n",
              "      <td>Olson</td>\n",
              "      <td>Manhattan</td>\n",
              "      <td>East Harlem</td>\n",
              "      <td>40.79264</td>\n",
              "      <td>-73.93898</td>\n",
              "      <td>Entire home/apt</td>\n",
              "      <td>9999</td>\n",
              "      <td>5</td>\n",
              "      <td>1</td>\n",
              "      <td>0</td>\n",
              "      <td>1</td>\n",
              "      <td>0</td>\n",
              "    </tr>\n",
              "    <tr>\n",
              "      <th>9151</th>\n",
              "      <td>7003697</td>\n",
              "      <td>Furnished room in Astoria apartment</td>\n",
              "      <td>20582832</td>\n",
              "      <td>Kathrine</td>\n",
              "      <td>Queens</td>\n",
              "      <td>Astoria</td>\n",
              "      <td>40.76810</td>\n",
              "      <td>-73.91651</td>\n",
              "      <td>Private room</td>\n",
              "      <td>10000</td>\n",
              "      <td>100</td>\n",
              "      <td>2</td>\n",
              "      <td>0</td>\n",
              "      <td>1</td>\n",
              "      <td>0</td>\n",
              "    </tr>\n",
              "    <tr>\n",
              "      <th>12342</th>\n",
              "      <td>9528920</td>\n",
              "      <td>Quiet, Clean, Lit @ LES &amp; Chinatown</td>\n",
              "      <td>3906464</td>\n",
              "      <td>Amy</td>\n",
              "      <td>Manhattan</td>\n",
              "      <td>Lower East Side</td>\n",
              "      <td>40.71355</td>\n",
              "      <td>-73.98507</td>\n",
              "      <td>Private room</td>\n",
              "      <td>9999</td>\n",
              "      <td>99</td>\n",
              "      <td>6</td>\n",
              "      <td>0</td>\n",
              "      <td>1</td>\n",
              "      <td>83</td>\n",
              "    </tr>\n",
              "    <tr>\n",
              "      <th>15560</th>\n",
              "      <td>12520066</td>\n",
              "      <td>Luxury townhouse Greenwich Village</td>\n",
              "      <td>66240032</td>\n",
              "      <td>Linda</td>\n",
              "      <td>Manhattan</td>\n",
              "      <td>Greenwich Village</td>\n",
              "      <td>40.73046</td>\n",
              "      <td>-73.99562</td>\n",
              "      <td>Entire home/apt</td>\n",
              "      <td>6000</td>\n",
              "      <td>1</td>\n",
              "      <td>0</td>\n",
              "      <td>0</td>\n",
              "      <td>1</td>\n",
              "      <td>0</td>\n",
              "    </tr>\n",
              "    <tr>\n",
              "      <th>17665</th>\n",
              "      <td>13882394</td>\n",
              "      <td>VIP Duplex Townhouse with Private Garden!!!</td>\n",
              "      <td>49186997</td>\n",
              "      <td>Joseph</td>\n",
              "      <td>Manhattan</td>\n",
              "      <td>Greenwich Village</td>\n",
              "      <td>40.73305</td>\n",
              "      <td>-73.99373</td>\n",
              "      <td>Entire home/apt</td>\n",
              "      <td>3800</td>\n",
              "      <td>30</td>\n",
              "      <td>2</td>\n",
              "      <td>0</td>\n",
              "      <td>1</td>\n",
              "      <td>180</td>\n",
              "    </tr>\n",
              "    <tr>\n",
              "      <th>17692</th>\n",
              "      <td>13894339</td>\n",
              "      <td>Luxury 1 bedroom apt. -stunning Manhattan views</td>\n",
              "      <td>5143901</td>\n",
              "      <td>Erin</td>\n",
              "      <td>Brooklyn</td>\n",
              "      <td>Greenpoint</td>\n",
              "      <td>40.73260</td>\n",
              "      <td>-73.95739</td>\n",
              "      <td>Entire home/apt</td>\n",
              "      <td>10000</td>\n",
              "      <td>5</td>\n",
              "      <td>5</td>\n",
              "      <td>0</td>\n",
              "      <td>1</td>\n",
              "      <td>0</td>\n",
              "    </tr>\n",
              "    <tr>\n",
              "      <th>21821</th>\n",
              "      <td>17537893</td>\n",
              "      <td>The Otheroom Bar/Event/Filming Space -read det...</td>\n",
              "      <td>18037301</td>\n",
              "      <td>James</td>\n",
              "      <td>Manhattan</td>\n",
              "      <td>West Village</td>\n",
              "      <td>40.73571</td>\n",
              "      <td>-74.00780</td>\n",
              "      <td>Entire home/apt</td>\n",
              "      <td>4000</td>\n",
              "      <td>1</td>\n",
              "      <td>0</td>\n",
              "      <td>0</td>\n",
              "      <td>1</td>\n",
              "      <td>173</td>\n",
              "    </tr>\n",
              "    <tr>\n",
              "      <th>22353</th>\n",
              "      <td>18051877</td>\n",
              "      <td>Victorian Film location</td>\n",
              "      <td>2675644</td>\n",
              "      <td>Alissa</td>\n",
              "      <td>Staten Island</td>\n",
              "      <td>Randall Manor</td>\n",
              "      <td>40.63952</td>\n",
              "      <td>-74.09730</td>\n",
              "      <td>Entire home/apt</td>\n",
              "      <td>5000</td>\n",
              "      <td>1</td>\n",
              "      <td>0</td>\n",
              "      <td>0</td>\n",
              "      <td>1</td>\n",
              "      <td>344</td>\n",
              "    </tr>\n",
              "    <tr>\n",
              "      <th>25825</th>\n",
              "      <td>20654227</td>\n",
              "      <td>Fulton 2</td>\n",
              "      <td>100069033</td>\n",
              "      <td>Sarah-2</td>\n",
              "      <td>Brooklyn</td>\n",
              "      <td>Cypress Hills</td>\n",
              "      <td>40.68185</td>\n",
              "      <td>-73.88128</td>\n",
              "      <td>Entire home/apt</td>\n",
              "      <td>5000</td>\n",
              "      <td>2</td>\n",
              "      <td>4</td>\n",
              "      <td>0</td>\n",
              "      <td>1</td>\n",
              "      <td>0</td>\n",
              "    </tr>\n",
              "    <tr>\n",
              "      <th>25901</th>\n",
              "      <td>20692563</td>\n",
              "      <td>Greenwich Village Townhome with Private Garden!</td>\n",
              "      <td>147814925</td>\n",
              "      <td>Lloyd</td>\n",
              "      <td>Manhattan</td>\n",
              "      <td>Greenwich Village</td>\n",
              "      <td>40.73300</td>\n",
              "      <td>-73.99413</td>\n",
              "      <td>Entire home/apt</td>\n",
              "      <td>3900</td>\n",
              "      <td>30</td>\n",
              "      <td>7</td>\n",
              "      <td>0</td>\n",
              "      <td>1</td>\n",
              "      <td>180</td>\n",
              "    </tr>\n",
              "    <tr>\n",
              "      <th>26739</th>\n",
              "      <td>21238053</td>\n",
              "      <td>Broadway 1</td>\n",
              "      <td>153497815</td>\n",
              "      <td>Sarah-B</td>\n",
              "      <td>Brooklyn</td>\n",
              "      <td>Bedford-Stuyvesant</td>\n",
              "      <td>40.68742</td>\n",
              "      <td>-73.91957</td>\n",
              "      <td>Entire home/apt</td>\n",
              "      <td>5000</td>\n",
              "      <td>2</td>\n",
              "      <td>8</td>\n",
              "      <td>0</td>\n",
              "      <td>1</td>\n",
              "      <td>0</td>\n",
              "    </tr>\n",
              "    <tr>\n",
              "      <th>28946</th>\n",
              "      <td>22296097</td>\n",
              "      <td>Chelsea Gallery Space for events and exhibitions</td>\n",
              "      <td>3750764</td>\n",
              "      <td>Kevin</td>\n",
              "      <td>Manhattan</td>\n",
              "      <td>Chelsea</td>\n",
              "      <td>40.74913</td>\n",
              "      <td>-74.00373</td>\n",
              "      <td>Private room</td>\n",
              "      <td>3210</td>\n",
              "      <td>1</td>\n",
              "      <td>0</td>\n",
              "      <td>0</td>\n",
              "      <td>6</td>\n",
              "      <td>364</td>\n",
              "    </tr>\n",
              "    <tr>\n",
              "      <th>28947</th>\n",
              "      <td>22296197</td>\n",
              "      <td>Chelsea Gallery for events, exhibitions, fashion</td>\n",
              "      <td>3750764</td>\n",
              "      <td>Kevin</td>\n",
              "      <td>Manhattan</td>\n",
              "      <td>Chelsea</td>\n",
              "      <td>40.74888</td>\n",
              "      <td>-74.00481</td>\n",
              "      <td>Entire home/apt</td>\n",
              "      <td>4160</td>\n",
              "      <td>1</td>\n",
              "      <td>0</td>\n",
              "      <td>0</td>\n",
              "      <td>6</td>\n",
              "      <td>364</td>\n",
              "    </tr>\n",
              "    <tr>\n",
              "      <th>29238</th>\n",
              "      <td>22436899</td>\n",
              "      <td>1-BR Lincoln Center</td>\n",
              "      <td>72390391</td>\n",
              "      <td>Jelena</td>\n",
              "      <td>Manhattan</td>\n",
              "      <td>Upper West Side</td>\n",
              "      <td>40.77213</td>\n",
              "      <td>-73.98665</td>\n",
              "      <td>Entire home/apt</td>\n",
              "      <td>10000</td>\n",
              "      <td>30</td>\n",
              "      <td>0</td>\n",
              "      <td>0</td>\n",
              "      <td>1</td>\n",
              "      <td>83</td>\n",
              "    </tr>\n",
              "    <tr>\n",
              "      <th>29662</th>\n",
              "      <td>22779726</td>\n",
              "      <td>East 72nd Townhouse by (Hidden by Airbnb)</td>\n",
              "      <td>156158778</td>\n",
              "      <td>Sally</td>\n",
              "      <td>Manhattan</td>\n",
              "      <td>Upper East Side</td>\n",
              "      <td>40.76824</td>\n",
              "      <td>-73.95989</td>\n",
              "      <td>Entire home/apt</td>\n",
              "      <td>7703</td>\n",
              "      <td>1</td>\n",
              "      <td>0</td>\n",
              "      <td>0</td>\n",
              "      <td>12</td>\n",
              "      <td>146</td>\n",
              "    </tr>\n",
              "    <tr>\n",
              "      <th>29663</th>\n",
              "      <td>22779746</td>\n",
              "      <td>East 7th Street III by (Hidden by Airbnb)</td>\n",
              "      <td>156158778</td>\n",
              "      <td>Sally</td>\n",
              "      <td>Manhattan</td>\n",
              "      <td>East Village</td>\n",
              "      <td>40.72779</td>\n",
              "      <td>-73.98644</td>\n",
              "      <td>Entire home/apt</td>\n",
              "      <td>3518</td>\n",
              "      <td>1</td>\n",
              "      <td>0</td>\n",
              "      <td>0</td>\n",
              "      <td>12</td>\n",
              "      <td>215</td>\n",
              "    </tr>\n",
              "    <tr>\n",
              "      <th>29664</th>\n",
              "      <td>22780103</td>\n",
              "      <td>Park Avenue Mansion by (Hidden by Airbnb)</td>\n",
              "      <td>156158778</td>\n",
              "      <td>Sally</td>\n",
              "      <td>Manhattan</td>\n",
              "      <td>Upper East Side</td>\n",
              "      <td>40.78517</td>\n",
              "      <td>-73.95270</td>\n",
              "      <td>Entire home/apt</td>\n",
              "      <td>6419</td>\n",
              "      <td>1</td>\n",
              "      <td>0</td>\n",
              "      <td>0</td>\n",
              "      <td>12</td>\n",
              "      <td>45</td>\n",
              "    </tr>\n",
              "    <tr>\n",
              "      <th>30268</th>\n",
              "      <td>23377410</td>\n",
              "      <td>Beautiful/Spacious 1 bed luxury flat-TriBeCa/Soho</td>\n",
              "      <td>18128455</td>\n",
              "      <td>Rum</td>\n",
              "      <td>Manhattan</td>\n",
              "      <td>Tribeca</td>\n",
              "      <td>40.72197</td>\n",
              "      <td>-74.00633</td>\n",
              "      <td>Entire home/apt</td>\n",
              "      <td>8500</td>\n",
              "      <td>30</td>\n",
              "      <td>2</td>\n",
              "      <td>0</td>\n",
              "      <td>1</td>\n",
              "      <td>251</td>\n",
              "    </tr>\n",
              "    <tr>\n",
              "      <th>34851</th>\n",
              "      <td>27629043</td>\n",
              "      <td>A Night at Anchor Aboard Yacht Ventura</td>\n",
              "      <td>45863742</td>\n",
              "      <td>James</td>\n",
              "      <td>Manhattan</td>\n",
              "      <td>Battery Park City</td>\n",
              "      <td>40.71364</td>\n",
              "      <td>-74.01758</td>\n",
              "      <td>Entire home/apt</td>\n",
              "      <td>3750</td>\n",
              "      <td>1</td>\n",
              "      <td>0</td>\n",
              "      <td>0</td>\n",
              "      <td>1</td>\n",
              "      <td>365</td>\n",
              "    </tr>\n",
              "    <tr>\n",
              "      <th>37194</th>\n",
              "      <td>29547314</td>\n",
              "      <td>Apartment New York \\nHell’s Kitchens</td>\n",
              "      <td>35303743</td>\n",
              "      <td>Patricia</td>\n",
              "      <td>Manhattan</td>\n",
              "      <td>Upper West Side</td>\n",
              "      <td>40.76835</td>\n",
              "      <td>-73.98367</td>\n",
              "      <td>Private room</td>\n",
              "      <td>6500</td>\n",
              "      <td>30</td>\n",
              "      <td>0</td>\n",
              "      <td>0</td>\n",
              "      <td>1</td>\n",
              "      <td>97</td>\n",
              "    </tr>\n",
              "    <tr>\n",
              "      <th>37864</th>\n",
              "      <td>29964348</td>\n",
              "      <td>NYC HOLIDAY!!!!   April 15- May 15</td>\n",
              "      <td>2039658</td>\n",
              "      <td>Pam</td>\n",
              "      <td>Manhattan</td>\n",
              "      <td>Upper East Side</td>\n",
              "      <td>40.76519</td>\n",
              "      <td>-73.96874</td>\n",
              "      <td>Entire home/apt</td>\n",
              "      <td>3600</td>\n",
              "      <td>31</td>\n",
              "      <td>0</td>\n",
              "      <td>0</td>\n",
              "      <td>1</td>\n",
              "      <td>358</td>\n",
              "    </tr>\n",
              "    <tr>\n",
              "      <th>38000</th>\n",
              "      <td>30035166</td>\n",
              "      <td>4-Floor Unique Event Space 50P Cap. - #10299B</td>\n",
              "      <td>172611460</td>\n",
              "      <td>Rasmus</td>\n",
              "      <td>Manhattan</td>\n",
              "      <td>Harlem</td>\n",
              "      <td>40.82511</td>\n",
              "      <td>-73.94961</td>\n",
              "      <td>Entire home/apt</td>\n",
              "      <td>5000</td>\n",
              "      <td>1</td>\n",
              "      <td>2</td>\n",
              "      <td>0</td>\n",
              "      <td>2</td>\n",
              "      <td>150</td>\n",
              "    </tr>\n",
              "    <tr>\n",
              "      <th>39243</th>\n",
              "      <td>30589636</td>\n",
              "      <td>Furnished 1000sq large 2bed + office in Harlem</td>\n",
              "      <td>229458601</td>\n",
              "      <td>Kay</td>\n",
              "      <td>Manhattan</td>\n",
              "      <td>Harlem</td>\n",
              "      <td>40.81315</td>\n",
              "      <td>-73.95110</td>\n",
              "      <td>Entire home/apt</td>\n",
              "      <td>3200</td>\n",
              "      <td>90</td>\n",
              "      <td>0</td>\n",
              "      <td>0</td>\n",
              "      <td>1</td>\n",
              "      <td>365</td>\n",
              "    </tr>\n",
              "    <tr>\n",
              "      <th>40433</th>\n",
              "      <td>31340283</td>\n",
              "      <td>2br - The Heart of NYC: Manhattans Lower East ...</td>\n",
              "      <td>4382127</td>\n",
              "      <td>Matt</td>\n",
              "      <td>Manhattan</td>\n",
              "      <td>Lower East Side</td>\n",
              "      <td>40.71980</td>\n",
              "      <td>-73.98566</td>\n",
              "      <td>Entire home/apt</td>\n",
              "      <td>9999</td>\n",
              "      <td>30</td>\n",
              "      <td>0</td>\n",
              "      <td>0</td>\n",
              "      <td>1</td>\n",
              "      <td>365</td>\n",
              "    </tr>\n",
              "    <tr>\n",
              "      <th>41216</th>\n",
              "      <td>32054910</td>\n",
              "      <td>West 88th Street by (Hidden by Airbnb)</td>\n",
              "      <td>156158778</td>\n",
              "      <td>Sally</td>\n",
              "      <td>Manhattan</td>\n",
              "      <td>Upper West Side</td>\n",
              "      <td>40.78742</td>\n",
              "      <td>-73.97011</td>\n",
              "      <td>Entire home/apt</td>\n",
              "      <td>3512</td>\n",
              "      <td>1</td>\n",
              "      <td>0</td>\n",
              "      <td>0</td>\n",
              "      <td>12</td>\n",
              "      <td>124</td>\n",
              "    </tr>\n",
              "    <tr>\n",
              "      <th>42523</th>\n",
              "      <td>33007610</td>\n",
              "      <td>70' Luxury MotorYacht on the Hudson</td>\n",
              "      <td>7407743</td>\n",
              "      <td>Jack</td>\n",
              "      <td>Manhattan</td>\n",
              "      <td>Battery Park City</td>\n",
              "      <td>40.71162</td>\n",
              "      <td>-74.01693</td>\n",
              "      <td>Entire home/apt</td>\n",
              "      <td>7500</td>\n",
              "      <td>1</td>\n",
              "      <td>0</td>\n",
              "      <td>0</td>\n",
              "      <td>1</td>\n",
              "      <td>364</td>\n",
              "    </tr>\n",
              "    <tr>\n",
              "      <th>42542</th>\n",
              "      <td>33029434</td>\n",
              "      <td>West 84th Street by (Hidden by Airbnb)</td>\n",
              "      <td>156158778</td>\n",
              "      <td>Sally</td>\n",
              "      <td>Manhattan</td>\n",
              "      <td>Upper West Side</td>\n",
              "      <td>40.78545</td>\n",
              "      <td>-73.97123</td>\n",
              "      <td>Entire home/apt</td>\n",
              "      <td>3613</td>\n",
              "      <td>1</td>\n",
              "      <td>1</td>\n",
              "      <td>1</td>\n",
              "      <td>12</td>\n",
              "      <td>158</td>\n",
              "    </tr>\n",
              "    <tr>\n",
              "      <th>42736</th>\n",
              "      <td>33171891</td>\n",
              "      <td>30 days minimum Time square West Midtown apart...</td>\n",
              "      <td>177396569</td>\n",
              "      <td>Yanina</td>\n",
              "      <td>Manhattan</td>\n",
              "      <td>Hell's Kitchen</td>\n",
              "      <td>40.76043</td>\n",
              "      <td>-73.99132</td>\n",
              "      <td>Entire home/apt</td>\n",
              "      <td>4100</td>\n",
              "      <td>30</td>\n",
              "      <td>0</td>\n",
              "      <td>0</td>\n",
              "      <td>3</td>\n",
              "      <td>180</td>\n",
              "    </tr>\n",
              "    <tr>\n",
              "      <th>43009</th>\n",
              "      <td>33397385</td>\n",
              "      <td>Midtown Manhattan great location (Gramacy park)</td>\n",
              "      <td>16105313</td>\n",
              "      <td>Debra</td>\n",
              "      <td>Manhattan</td>\n",
              "      <td>Midtown</td>\n",
              "      <td>40.74482</td>\n",
              "      <td>-73.98367</td>\n",
              "      <td>Entire home/apt</td>\n",
              "      <td>5100</td>\n",
              "      <td>30</td>\n",
              "      <td>1</td>\n",
              "      <td>1</td>\n",
              "      <td>2</td>\n",
              "      <td>343</td>\n",
              "    </tr>\n",
              "    <tr>\n",
              "      <th>43670</th>\n",
              "      <td>33796251</td>\n",
              "      <td>Beautiful private Brooklyn room with kitchenette</td>\n",
              "      <td>8748976</td>\n",
              "      <td>Jeffrey</td>\n",
              "      <td>Brooklyn</td>\n",
              "      <td>Bedford-Stuyvesant</td>\n",
              "      <td>40.68807</td>\n",
              "      <td>-73.95426</td>\n",
              "      <td>Private room</td>\n",
              "      <td>4200</td>\n",
              "      <td>114</td>\n",
              "      <td>0</td>\n",
              "      <td>0</td>\n",
              "      <td>1</td>\n",
              "      <td>347</td>\n",
              "    </tr>\n",
              "    <tr>\n",
              "      <th>44034</th>\n",
              "      <td>33998396</td>\n",
              "      <td>3000 sq ft daylight photo studio</td>\n",
              "      <td>3750764</td>\n",
              "      <td>Kevin</td>\n",
              "      <td>Manhattan</td>\n",
              "      <td>Chelsea</td>\n",
              "      <td>40.75060</td>\n",
              "      <td>-74.00388</td>\n",
              "      <td>Entire home/apt</td>\n",
              "      <td>6800</td>\n",
              "      <td>1</td>\n",
              "      <td>0</td>\n",
              "      <td>0</td>\n",
              "      <td>6</td>\n",
              "      <td>364</td>\n",
              "    </tr>\n",
              "    <tr>\n",
              "      <th>45666</th>\n",
              "      <td>34895693</td>\n",
              "      <td>Gem of east Flatbush</td>\n",
              "      <td>262534951</td>\n",
              "      <td>Sandra</td>\n",
              "      <td>Brooklyn</td>\n",
              "      <td>East Flatbush</td>\n",
              "      <td>40.65724</td>\n",
              "      <td>-73.92450</td>\n",
              "      <td>Private room</td>\n",
              "      <td>7500</td>\n",
              "      <td>1</td>\n",
              "      <td>8</td>\n",
              "      <td>6</td>\n",
              "      <td>2</td>\n",
              "      <td>179</td>\n",
              "    </tr>\n",
              "    <tr>\n",
              "      <th>45867</th>\n",
              "      <td>34981637</td>\n",
              "      <td>bay ridge &amp; sunset park furnished apartment</td>\n",
              "      <td>263564234</td>\n",
              "      <td>Nony</td>\n",
              "      <td>Brooklyn</td>\n",
              "      <td>Bay Ridge</td>\n",
              "      <td>40.63087</td>\n",
              "      <td>-74.02006</td>\n",
              "      <td>Entire home/apt</td>\n",
              "      <td>4200</td>\n",
              "      <td>60</td>\n",
              "      <td>0</td>\n",
              "      <td>0</td>\n",
              "      <td>1</td>\n",
              "      <td>90</td>\n",
              "    </tr>\n",
              "    <tr>\n",
              "      <th>46614</th>\n",
              "      <td>35345358</td>\n",
              "      <td>Northside Williamsburg Stunner</td>\n",
              "      <td>956324</td>\n",
              "      <td>Alex</td>\n",
              "      <td>Brooklyn</td>\n",
              "      <td>Williamsburg</td>\n",
              "      <td>40.71705</td>\n",
              "      <td>-73.96470</td>\n",
              "      <td>Entire home/apt</td>\n",
              "      <td>4500</td>\n",
              "      <td>30</td>\n",
              "      <td>0</td>\n",
              "      <td>0</td>\n",
              "      <td>1</td>\n",
              "      <td>365</td>\n",
              "    </tr>\n",
              "    <tr>\n",
              "      <th>48043</th>\n",
              "      <td>36056808</td>\n",
              "      <td>Luxury TriBeCa Apartment at an amazing price</td>\n",
              "      <td>271248669</td>\n",
              "      <td>Jenny</td>\n",
              "      <td>Manhattan</td>\n",
              "      <td>Tribeca</td>\n",
              "      <td>40.71206</td>\n",
              "      <td>-74.00999</td>\n",
              "      <td>Entire home/apt</td>\n",
              "      <td>6500</td>\n",
              "      <td>180</td>\n",
              "      <td>0</td>\n",
              "      <td>0</td>\n",
              "      <td>1</td>\n",
              "      <td>365</td>\n",
              "    </tr>\n",
              "  </tbody>\n",
              "</table>\n",
              "</div>"
            ],
            "text/plain": [
              "             id  ... availability_365\n",
              "1862     826690  ...               83\n",
              "2698    1448703  ...              365\n",
              "3537    2110145  ...              359\n",
              "3695    2224896  ...                0\n",
              "3720    2243699  ...                0\n",
              "3774    2271504  ...                0\n",
              "3788    2281142  ...                0\n",
              "4345    2919330  ...              363\n",
              "4376    2952861  ...              365\n",
              "4377    2953058  ...              365\n",
              "6530    4737930  ...                0\n",
              "9151    7003697  ...                0\n",
              "12342   9528920  ...               83\n",
              "15560  12520066  ...                0\n",
              "17665  13882394  ...              180\n",
              "17692  13894339  ...                0\n",
              "21821  17537893  ...              173\n",
              "22353  18051877  ...              344\n",
              "25825  20654227  ...                0\n",
              "25901  20692563  ...              180\n",
              "26739  21238053  ...                0\n",
              "28946  22296097  ...              364\n",
              "28947  22296197  ...              364\n",
              "29238  22436899  ...               83\n",
              "29662  22779726  ...              146\n",
              "29663  22779746  ...              215\n",
              "29664  22780103  ...               45\n",
              "30268  23377410  ...              251\n",
              "34851  27629043  ...              365\n",
              "37194  29547314  ...               97\n",
              "37864  29964348  ...              358\n",
              "38000  30035166  ...              150\n",
              "39243  30589636  ...              365\n",
              "40433  31340283  ...              365\n",
              "41216  32054910  ...              124\n",
              "42523  33007610  ...              364\n",
              "42542  33029434  ...              158\n",
              "42736  33171891  ...              180\n",
              "43009  33397385  ...              343\n",
              "43670  33796251  ...              347\n",
              "44034  33998396  ...              364\n",
              "45666  34895693  ...              179\n",
              "45867  34981637  ...               90\n",
              "46614  35345358  ...              365\n",
              "48043  36056808  ...              365\n",
              "\n",
              "[45 rows x 15 columns]"
            ]
          },
          "metadata": {
            "tags": []
          },
          "execution_count": 68
        }
      ]
    },
    {
      "cell_type": "code",
      "metadata": {
        "id": "JYYmmEPNczs3"
      },
      "source": [
        "df_air_pnw= df_air[(df_air.price>min_threshold)&(df_air.price<max_threshold)]"
      ],
      "execution_count": 69,
      "outputs": []
    },
    {
      "cell_type": "code",
      "metadata": {
        "id": "DEZQ56J95kll",
        "colab": {
          "base_uri": "https://localhost:8080/",
          "height": 410
        },
        "outputId": "c0aa97ac-6155-49c5-c8cb-9befb1d50b4c"
      },
      "source": [
        "sns.distplot(df_air_pnw['price'])"
      ],
      "execution_count": 70,
      "outputs": [
        {
          "output_type": "stream",
          "text": [
            "/usr/local/lib/python3.6/dist-packages/seaborn/distributions.py:2557: FutureWarning: `distplot` is a deprecated function and will be removed in a future version. Please adapt your code to use either `displot` (a figure-level function with similar flexibility) or `histplot` (an axes-level function for histograms).\n",
            "  warnings.warn(msg, FutureWarning)\n"
          ],
          "name": "stderr"
        },
        {
          "output_type": "execute_result",
          "data": {
            "text/plain": [
              "<matplotlib.axes._subplots.AxesSubplot at 0x7f0825428dd8>"
            ]
          },
          "metadata": {
            "tags": []
          },
          "execution_count": 70
        },
        {
          "output_type": "display_data",
          "data": {
            "image/png": "[encoded data removed]",
            "text/plain": [
              "<Figure size 576x360 with 1 Axes>"
            ]
          },
          "metadata": {
            "tags": []
          }
        }
      ]
    },
    {
      "cell_type": "code",
      "metadata": {
        "id": "0eJP_iV-c0sp",
        "colab": {
          "base_uri": "https://localhost:8080/",
          "height": 410
        },
        "outputId": "c2d81665-77f0-4c81-9811-033842b03fdd"
      },
      "source": [
        "sns.boxplot(df_air_pnw['price']) #looks there are still many outliers!"
      ],
      "execution_count": 71,
      "outputs": [
        {
          "output_type": "stream",
          "text": [
            "/usr/local/lib/python3.6/dist-packages/seaborn/_decorators.py:43: FutureWarning: Pass the following variable as a keyword arg: x. From version 0.12, the only valid positional argument will be `data`, and passing other arguments without an explicit keyword will result in an error or misinterpretation.\n",
            "  FutureWarning\n"
          ],
          "name": "stderr"
        },
        {
          "output_type": "execute_result",
          "data": {
            "text/plain": [
              "<matplotlib.axes._subplots.AxesSubplot at 0x7f0825f14710>"
            ]
          },
          "metadata": {
            "tags": []
          },
          "execution_count": 71
        },
        {
          "output_type": "display_data",
          "data": {
            "image/png": "[encoded data removed]",
            "text/plain": [
              "<Figure size 576x360 with 1 Axes>"
            ]
          },
          "metadata": {
            "tags": []
          }
        }
      ]
    },
    {
      "cell_type": "code",
      "metadata": {
        "id": "5ipfixd7c0oQ",
        "colab": {
          "base_uri": "https://localhost:8080/"
        },
        "outputId": "b0ffe113-363a-40d7-fb29-6cfd29d9f8ae"
      },
      "source": [
        "#skewness and kurtosis\r\n",
        "print(\"Skewness: %f\" % df_air_pnw['price'].skew())\r\n",
        "print(\"Kurtosis: %f\" % df_air_pnw['price'].kurt())"
      ],
      "execution_count": 72,
      "outputs": [
        {
          "output_type": "stream",
          "text": [
            "Skewness: 6.377899\n",
            "Kurtosis: 70.372674\n"
          ],
          "name": "stdout"
        }
      ]
    },
    {
      "cell_type": "markdown",
      "metadata": {
        "id": "kQwJdHl9InAQ"
      },
      "source": [
        "**Removing Outliers using IQR approach!**\r\n",
        "(has performed best in removing outliers)\r\n",
        "\r\n"
      ]
    },
    {
      "cell_type": "code",
      "metadata": {
        "id": "p6GwFI5es9Hh"
      },
      "source": [
        "#trying removing outliers using IQR!"
      ],
      "execution_count": 73,
      "outputs": []
    },
    {
      "cell_type": "code",
      "metadata": {
        "id": "HFpioLieLKJt",
        "colab": {
          "base_uri": "https://localhost:8080/"
        },
        "outputId": "4ea79fa0-9dac-49cf-b5fb-dae62ab2fba2"
      },
      "source": [
        "Q1 = df_air.quantile(0.25)\r\n",
        "Q3 = df_air.quantile(0.75)\r\n",
        "IQR = Q3 - Q1\r\n",
        "print(IQR)"
      ],
      "execution_count": 74,
      "outputs": [
        {
          "output_type": "stream",
          "text": [
            "id                                1.968167e+07\n",
            "host_id                           9.961575e+07\n",
            "latitude                          7.301750e-02\n",
            "longitude                         4.679000e-02\n",
            "price                             1.060000e+02\n",
            "minimum_nights                    4.000000e+00\n",
            "number_of_reviews                 2.300000e+01\n",
            "reviews_per_month                 1.000000e+00\n",
            "calculated_host_listings_count    1.000000e+00\n",
            "availability_365                  2.270000e+02\n",
            "dtype: float64\n"
          ],
          "name": "stdout"
        }
      ]
    },
    {
      "cell_type": "code",
      "metadata": {
        "id": "nLk6ETOWs86z"
      },
      "source": [
        "#writing a outlier function for removing outliers!\r\n",
        "def outlier_treatment(datacolumn):\r\n",
        " sorted(datacolumn)\r\n",
        " Q1,Q3 = np.percentile(datacolumn , [25,75])\r\n",
        " IQR = Q3 - Q1\r\n",
        " lower_range = Q1 - (1.5 * IQR)\r\n",
        " upper_range = Q3 + (1.5 * IQR)\r\n",
        " \r\n",
        " return lower_range,upper_range"
      ],
      "execution_count": 75,
      "outputs": []
    },
    {
      "cell_type": "code",
      "metadata": {
        "id": "Gjbi2YUNCbw1"
      },
      "source": [
        "lower_bound,upper_bound = outlier_treatment(df_air['price'])"
      ],
      "execution_count": 76,
      "outputs": []
    },
    {
      "cell_type": "code",
      "metadata": {
        "id": "hCV9Xa_VCblr",
        "colab": {
          "base_uri": "https://localhost:8080/",
          "height": 694
        },
        "outputId": "38c220be-d9a3-4d55-cc73-b2a6e1a22cb2"
      },
      "source": [
        "df_air[(df_air.price < lower_bound) | (df_air.price > upper_bound)] #looking at the low and upper range outliers"
      ],
      "execution_count": 77,
      "outputs": [
        {
          "output_type": "execute_result",
          "data": {
            "text/html": [
              "<div>\n",
              "<style scoped>\n",
              "    .dataframe tbody tr th:only-of-type {\n",
              "        vertical-align: middle;\n",
              "    }\n",
              "\n",
              "    .dataframe tbody tr th {\n",
              "        vertical-align: top;\n",
              "    }\n",
              "\n",
              "    .dataframe thead th {\n",
              "        text-align: right;\n",
              "    }\n",
              "</style>\n",
              "<table border=\"1\" class=\"dataframe\">\n",
              "  <thead>\n",
              "    <tr style=\"text-align: right;\">\n",
              "      <th></th>\n",
              "      <th>id</th>\n",
              "      <th>name</th>\n",
              "      <th>host_id</th>\n",
              "      <th>host_name</th>\n",
              "      <th>neighbourhood_group</th>\n",
              "      <th>neighbourhood</th>\n",
              "      <th>latitude</th>\n",
              "      <th>longitude</th>\n",
              "      <th>room_type</th>\n",
              "      <th>price</th>\n",
              "      <th>minimum_nights</th>\n",
              "      <th>number_of_reviews</th>\n",
              "      <th>reviews_per_month</th>\n",
              "      <th>calculated_host_listings_count</th>\n",
              "      <th>availability_365</th>\n",
              "    </tr>\n",
              "  </thead>\n",
              "  <tbody>\n",
              "    <tr>\n",
              "      <th>61</th>\n",
              "      <td>15396</td>\n",
              "      <td>Sunny &amp; Spacious Chelsea Apartment</td>\n",
              "      <td>60278</td>\n",
              "      <td>Petra</td>\n",
              "      <td>Manhattan</td>\n",
              "      <td>Chelsea</td>\n",
              "      <td>40.74623</td>\n",
              "      <td>-73.99530</td>\n",
              "      <td>Entire home/apt</td>\n",
              "      <td>375</td>\n",
              "      <td>180</td>\n",
              "      <td>5</td>\n",
              "      <td>0</td>\n",
              "      <td>1</td>\n",
              "      <td>180</td>\n",
              "    </tr>\n",
              "    <tr>\n",
              "      <th>85</th>\n",
              "      <td>19601</td>\n",
              "      <td>perfect for a family or small group</td>\n",
              "      <td>74303</td>\n",
              "      <td>Maggie</td>\n",
              "      <td>Brooklyn</td>\n",
              "      <td>Brooklyn Heights</td>\n",
              "      <td>40.69723</td>\n",
              "      <td>-73.99268</td>\n",
              "      <td>Entire home/apt</td>\n",
              "      <td>800</td>\n",
              "      <td>1</td>\n",
              "      <td>25</td>\n",
              "      <td>0</td>\n",
              "      <td>1</td>\n",
              "      <td>7</td>\n",
              "    </tr>\n",
              "    <tr>\n",
              "      <th>103</th>\n",
              "      <td>23686</td>\n",
              "      <td>2000 SF 3br 2bath West Village private  townhouse</td>\n",
              "      <td>93790</td>\n",
              "      <td>Ann</td>\n",
              "      <td>Manhattan</td>\n",
              "      <td>West Village</td>\n",
              "      <td>40.73096</td>\n",
              "      <td>-74.00319</td>\n",
              "      <td>Entire home/apt</td>\n",
              "      <td>500</td>\n",
              "      <td>4</td>\n",
              "      <td>46</td>\n",
              "      <td>0</td>\n",
              "      <td>2</td>\n",
              "      <td>243</td>\n",
              "    </tr>\n",
              "    <tr>\n",
              "      <th>114</th>\n",
              "      <td>26933</td>\n",
              "      <td>2 BR / 2 Bath Duplex Apt with patio! East Village</td>\n",
              "      <td>72062</td>\n",
              "      <td>Bruce</td>\n",
              "      <td>Manhattan</td>\n",
              "      <td>East Village</td>\n",
              "      <td>40.72540</td>\n",
              "      <td>-73.98157</td>\n",
              "      <td>Entire home/apt</td>\n",
              "      <td>350</td>\n",
              "      <td>2</td>\n",
              "      <td>7</td>\n",
              "      <td>0</td>\n",
              "      <td>4</td>\n",
              "      <td>298</td>\n",
              "    </tr>\n",
              "    <tr>\n",
              "      <th>121</th>\n",
              "      <td>27659</td>\n",
              "      <td>3 Story Town House in Park Slope</td>\n",
              "      <td>119588</td>\n",
              "      <td>Vero</td>\n",
              "      <td>Brooklyn</td>\n",
              "      <td>South Slope</td>\n",
              "      <td>40.66499</td>\n",
              "      <td>-73.97925</td>\n",
              "      <td>Entire home/apt</td>\n",
              "      <td>400</td>\n",
              "      <td>2</td>\n",
              "      <td>16</td>\n",
              "      <td>0</td>\n",
              "      <td>2</td>\n",
              "      <td>216</td>\n",
              "    </tr>\n",
              "    <tr>\n",
              "      <th>...</th>\n",
              "      <td>...</td>\n",
              "      <td>...</td>\n",
              "      <td>...</td>\n",
              "      <td>...</td>\n",
              "      <td>...</td>\n",
              "      <td>...</td>\n",
              "      <td>...</td>\n",
              "      <td>...</td>\n",
              "      <td>...</td>\n",
              "      <td>...</td>\n",
              "      <td>...</td>\n",
              "      <td>...</td>\n",
              "      <td>...</td>\n",
              "      <td>...</td>\n",
              "      <td>...</td>\n",
              "    </tr>\n",
              "    <tr>\n",
              "      <th>48758</th>\n",
              "      <td>36420289</td>\n",
              "      <td>Rustic Garden House Apt, 2 stops from Manhattan</td>\n",
              "      <td>73211393</td>\n",
              "      <td>LaGabrell</td>\n",
              "      <td>Queens</td>\n",
              "      <td>Long Island City</td>\n",
              "      <td>40.75508</td>\n",
              "      <td>-73.93258</td>\n",
              "      <td>Entire home/apt</td>\n",
              "      <td>350</td>\n",
              "      <td>2</td>\n",
              "      <td>0</td>\n",
              "      <td>0</td>\n",
              "      <td>1</td>\n",
              "      <td>364</td>\n",
              "    </tr>\n",
              "    <tr>\n",
              "      <th>48833</th>\n",
              "      <td>36450896</td>\n",
              "      <td>Brand New 3-Bed Apt in the Best Location of FiDi</td>\n",
              "      <td>29741813</td>\n",
              "      <td>Yue</td>\n",
              "      <td>Manhattan</td>\n",
              "      <td>Financial District</td>\n",
              "      <td>40.70605</td>\n",
              "      <td>-74.01042</td>\n",
              "      <td>Entire home/apt</td>\n",
              "      <td>475</td>\n",
              "      <td>2</td>\n",
              "      <td>0</td>\n",
              "      <td>0</td>\n",
              "      <td>1</td>\n",
              "      <td>64</td>\n",
              "    </tr>\n",
              "    <tr>\n",
              "      <th>48839</th>\n",
              "      <td>36452721</td>\n",
              "      <td>Massage Spa. Stay overnight. Authors Artist dr...</td>\n",
              "      <td>274079964</td>\n",
              "      <td>Richard</td>\n",
              "      <td>Brooklyn</td>\n",
              "      <td>Sheepshead Bay</td>\n",
              "      <td>40.59866</td>\n",
              "      <td>-73.95661</td>\n",
              "      <td>Private room</td>\n",
              "      <td>800</td>\n",
              "      <td>1</td>\n",
              "      <td>0</td>\n",
              "      <td>0</td>\n",
              "      <td>1</td>\n",
              "      <td>23</td>\n",
              "    </tr>\n",
              "    <tr>\n",
              "      <th>48842</th>\n",
              "      <td>36453160</td>\n",
              "      <td>LUXURY MANHATTAN PENTHOUSE+HUDSON RIVER+EMPIRE...</td>\n",
              "      <td>224171371</td>\n",
              "      <td>LuxuryApartmentsByAmber</td>\n",
              "      <td>Manhattan</td>\n",
              "      <td>Chelsea</td>\n",
              "      <td>40.75204</td>\n",
              "      <td>-74.00292</td>\n",
              "      <td>Entire home/apt</td>\n",
              "      <td>350</td>\n",
              "      <td>1</td>\n",
              "      <td>0</td>\n",
              "      <td>0</td>\n",
              "      <td>1</td>\n",
              "      <td>9</td>\n",
              "    </tr>\n",
              "    <tr>\n",
              "      <th>48856</th>\n",
              "      <td>36457700</td>\n",
              "      <td>Large 3 bed, 2 bath , garden , bbq , all you need</td>\n",
              "      <td>66993395</td>\n",
              "      <td>Thomas</td>\n",
              "      <td>Brooklyn</td>\n",
              "      <td>Bedford-Stuyvesant</td>\n",
              "      <td>40.68886</td>\n",
              "      <td>-73.92879</td>\n",
              "      <td>Entire home/apt</td>\n",
              "      <td>345</td>\n",
              "      <td>4</td>\n",
              "      <td>0</td>\n",
              "      <td>0</td>\n",
              "      <td>3</td>\n",
              "      <td>354</td>\n",
              "    </tr>\n",
              "  </tbody>\n",
              "</table>\n",
              "<p>2971 rows × 15 columns</p>\n",
              "</div>"
            ],
            "text/plain": [
              "             id  ... availability_365\n",
              "61        15396  ...              180\n",
              "85        19601  ...                7\n",
              "103       23686  ...              243\n",
              "114       26933  ...              298\n",
              "121       27659  ...              216\n",
              "...         ...  ...              ...\n",
              "48758  36420289  ...              364\n",
              "48833  36450896  ...               64\n",
              "48839  36452721  ...               23\n",
              "48842  36453160  ...                9\n",
              "48856  36457700  ...              354\n",
              "\n",
              "[2971 rows x 15 columns]"
            ]
          },
          "metadata": {
            "tags": []
          },
          "execution_count": 77
        }
      ]
    },
    {
      "cell_type": "code",
      "metadata": {
        "id": "ny5tvoZZC4LW"
      },
      "source": [
        "#subsetting only those rows having datapoints greater than lower range and lesser than upper range respectively\r\n",
        "df_air_pnw1 = df_air[(df_air.price>lower_bound) & (df_air.price<upper_bound)]"
      ],
      "execution_count": 78,
      "outputs": []
    },
    {
      "cell_type": "code",
      "metadata": {
        "id": "dt1PBr9-M1W4",
        "colab": {
          "base_uri": "https://localhost:8080/",
          "height": 813
        },
        "outputId": "19888e41-775c-4283-fc34-e0dee689109e"
      },
      "source": [
        "df_air_pnw1"
      ],
      "execution_count": 79,
      "outputs": [
        {
          "output_type": "execute_result",
          "data": {
            "text/html": [
              "<div>\n",
              "<style scoped>\n",
              "    .dataframe tbody tr th:only-of-type {\n",
              "        vertical-align: middle;\n",
              "    }\n",
              "\n",
              "    .dataframe tbody tr th {\n",
              "        vertical-align: top;\n",
              "    }\n",
              "\n",
              "    .dataframe thead th {\n",
              "        text-align: right;\n",
              "    }\n",
              "</style>\n",
              "<table border=\"1\" class=\"dataframe\">\n",
              "  <thead>\n",
              "    <tr style=\"text-align: right;\">\n",
              "      <th></th>\n",
              "      <th>id</th>\n",
              "      <th>name</th>\n",
              "      <th>host_id</th>\n",
              "      <th>host_name</th>\n",
              "      <th>neighbourhood_group</th>\n",
              "      <th>neighbourhood</th>\n",
              "      <th>latitude</th>\n",
              "      <th>longitude</th>\n",
              "      <th>room_type</th>\n",
              "      <th>price</th>\n",
              "      <th>minimum_nights</th>\n",
              "      <th>number_of_reviews</th>\n",
              "      <th>reviews_per_month</th>\n",
              "      <th>calculated_host_listings_count</th>\n",
              "      <th>availability_365</th>\n",
              "    </tr>\n",
              "  </thead>\n",
              "  <tbody>\n",
              "    <tr>\n",
              "      <th>0</th>\n",
              "      <td>2539</td>\n",
              "      <td>Clean &amp; quiet apt home by the park</td>\n",
              "      <td>2787</td>\n",
              "      <td>John</td>\n",
              "      <td>Brooklyn</td>\n",
              "      <td>Kensington</td>\n",
              "      <td>40.64749</td>\n",
              "      <td>-73.97237</td>\n",
              "      <td>Private room</td>\n",
              "      <td>149</td>\n",
              "      <td>1</td>\n",
              "      <td>9</td>\n",
              "      <td>0</td>\n",
              "      <td>6</td>\n",
              "      <td>365</td>\n",
              "    </tr>\n",
              "    <tr>\n",
              "      <th>1</th>\n",
              "      <td>2595</td>\n",
              "      <td>Skylit Midtown Castle</td>\n",
              "      <td>2845</td>\n",
              "      <td>Jennifer</td>\n",
              "      <td>Manhattan</td>\n",
              "      <td>Midtown</td>\n",
              "      <td>40.75362</td>\n",
              "      <td>-73.98377</td>\n",
              "      <td>Entire home/apt</td>\n",
              "      <td>225</td>\n",
              "      <td>1</td>\n",
              "      <td>45</td>\n",
              "      <td>0</td>\n",
              "      <td>2</td>\n",
              "      <td>355</td>\n",
              "    </tr>\n",
              "    <tr>\n",
              "      <th>2</th>\n",
              "      <td>3647</td>\n",
              "      <td>THE VILLAGE OF HARLEM....NEW YORK !</td>\n",
              "      <td>4632</td>\n",
              "      <td>Elisabeth</td>\n",
              "      <td>Manhattan</td>\n",
              "      <td>Harlem</td>\n",
              "      <td>40.80902</td>\n",
              "      <td>-73.94190</td>\n",
              "      <td>Private room</td>\n",
              "      <td>150</td>\n",
              "      <td>3</td>\n",
              "      <td>0</td>\n",
              "      <td>0</td>\n",
              "      <td>1</td>\n",
              "      <td>365</td>\n",
              "    </tr>\n",
              "    <tr>\n",
              "      <th>3</th>\n",
              "      <td>3831</td>\n",
              "      <td>Cozy Entire Floor of Brownstone</td>\n",
              "      <td>4869</td>\n",
              "      <td>LisaRoxanne</td>\n",
              "      <td>Brooklyn</td>\n",
              "      <td>Clinton Hill</td>\n",
              "      <td>40.68514</td>\n",
              "      <td>-73.95976</td>\n",
              "      <td>Entire home/apt</td>\n",
              "      <td>89</td>\n",
              "      <td>1</td>\n",
              "      <td>270</td>\n",
              "      <td>4</td>\n",
              "      <td>1</td>\n",
              "      <td>194</td>\n",
              "    </tr>\n",
              "    <tr>\n",
              "      <th>4</th>\n",
              "      <td>5022</td>\n",
              "      <td>Entire Apt: Spacious Studio/Loft by central park</td>\n",
              "      <td>7192</td>\n",
              "      <td>Laura</td>\n",
              "      <td>Manhattan</td>\n",
              "      <td>East Harlem</td>\n",
              "      <td>40.79851</td>\n",
              "      <td>-73.94399</td>\n",
              "      <td>Entire home/apt</td>\n",
              "      <td>80</td>\n",
              "      <td>10</td>\n",
              "      <td>9</td>\n",
              "      <td>0</td>\n",
              "      <td>1</td>\n",
              "      <td>0</td>\n",
              "    </tr>\n",
              "    <tr>\n",
              "      <th>...</th>\n",
              "      <td>...</td>\n",
              "      <td>...</td>\n",
              "      <td>...</td>\n",
              "      <td>...</td>\n",
              "      <td>...</td>\n",
              "      <td>...</td>\n",
              "      <td>...</td>\n",
              "      <td>...</td>\n",
              "      <td>...</td>\n",
              "      <td>...</td>\n",
              "      <td>...</td>\n",
              "      <td>...</td>\n",
              "      <td>...</td>\n",
              "      <td>...</td>\n",
              "      <td>...</td>\n",
              "    </tr>\n",
              "    <tr>\n",
              "      <th>48890</th>\n",
              "      <td>36484665</td>\n",
              "      <td>Charming one bedroom - newly renovated rowhouse</td>\n",
              "      <td>8232441</td>\n",
              "      <td>Sabrina</td>\n",
              "      <td>Brooklyn</td>\n",
              "      <td>Bedford-Stuyvesant</td>\n",
              "      <td>40.67853</td>\n",
              "      <td>-73.94995</td>\n",
              "      <td>Private room</td>\n",
              "      <td>70</td>\n",
              "      <td>2</td>\n",
              "      <td>0</td>\n",
              "      <td>0</td>\n",
              "      <td>2</td>\n",
              "      <td>9</td>\n",
              "    </tr>\n",
              "    <tr>\n",
              "      <th>48891</th>\n",
              "      <td>36485057</td>\n",
              "      <td>Affordable room in Bushwick/East Williamsburg</td>\n",
              "      <td>6570630</td>\n",
              "      <td>Marisol</td>\n",
              "      <td>Brooklyn</td>\n",
              "      <td>Bushwick</td>\n",
              "      <td>40.70184</td>\n",
              "      <td>-73.93317</td>\n",
              "      <td>Private room</td>\n",
              "      <td>40</td>\n",
              "      <td>4</td>\n",
              "      <td>0</td>\n",
              "      <td>0</td>\n",
              "      <td>2</td>\n",
              "      <td>36</td>\n",
              "    </tr>\n",
              "    <tr>\n",
              "      <th>48892</th>\n",
              "      <td>36485431</td>\n",
              "      <td>Sunny Studio at Historical Neighborhood</td>\n",
              "      <td>23492952</td>\n",
              "      <td>Ilgar &amp; Aysel</td>\n",
              "      <td>Manhattan</td>\n",
              "      <td>Harlem</td>\n",
              "      <td>40.81475</td>\n",
              "      <td>-73.94867</td>\n",
              "      <td>Entire home/apt</td>\n",
              "      <td>115</td>\n",
              "      <td>10</td>\n",
              "      <td>0</td>\n",
              "      <td>0</td>\n",
              "      <td>1</td>\n",
              "      <td>27</td>\n",
              "    </tr>\n",
              "    <tr>\n",
              "      <th>48893</th>\n",
              "      <td>36485609</td>\n",
              "      <td>43rd St. Time Square-cozy single bed</td>\n",
              "      <td>30985759</td>\n",
              "      <td>Taz</td>\n",
              "      <td>Manhattan</td>\n",
              "      <td>Hell's Kitchen</td>\n",
              "      <td>40.75751</td>\n",
              "      <td>-73.99112</td>\n",
              "      <td>Shared room</td>\n",
              "      <td>55</td>\n",
              "      <td>1</td>\n",
              "      <td>0</td>\n",
              "      <td>0</td>\n",
              "      <td>6</td>\n",
              "      <td>2</td>\n",
              "    </tr>\n",
              "    <tr>\n",
              "      <th>48894</th>\n",
              "      <td>36487245</td>\n",
              "      <td>Trendy duplex in the very heart of Hell's Kitchen</td>\n",
              "      <td>68119814</td>\n",
              "      <td>Christophe</td>\n",
              "      <td>Manhattan</td>\n",
              "      <td>Hell's Kitchen</td>\n",
              "      <td>40.76404</td>\n",
              "      <td>-73.98933</td>\n",
              "      <td>Private room</td>\n",
              "      <td>90</td>\n",
              "      <td>7</td>\n",
              "      <td>0</td>\n",
              "      <td>0</td>\n",
              "      <td>1</td>\n",
              "      <td>23</td>\n",
              "    </tr>\n",
              "  </tbody>\n",
              "</table>\n",
              "<p>45882 rows × 15 columns</p>\n",
              "</div>"
            ],
            "text/plain": [
              "             id  ... availability_365\n",
              "0          2539  ...              365\n",
              "1          2595  ...              355\n",
              "2          3647  ...              365\n",
              "3          3831  ...              194\n",
              "4          5022  ...                0\n",
              "...         ...  ...              ...\n",
              "48890  36484665  ...                9\n",
              "48891  36485057  ...               36\n",
              "48892  36485431  ...               27\n",
              "48893  36485609  ...                2\n",
              "48894  36487245  ...               23\n",
              "\n",
              "[45882 rows x 15 columns]"
            ]
          },
          "metadata": {
            "tags": []
          },
          "execution_count": 79
        }
      ]
    },
    {
      "cell_type": "code",
      "metadata": {
        "id": "ITfQoM2pKraY",
        "colab": {
          "base_uri": "https://localhost:8080/",
          "height": 339
        },
        "outputId": "1411ce13-cca6-4887-f314-875512846257"
      },
      "source": [
        "df_air_pnw1.boxplot(column='price') #the boxplot for price now looks good without outliers!"
      ],
      "execution_count": 80,
      "outputs": [
        {
          "output_type": "execute_result",
          "data": {
            "text/plain": [
              "<matplotlib.axes._subplots.AxesSubplot at 0x7f08255eb6a0>"
            ]
          },
          "metadata": {
            "tags": []
          },
          "execution_count": 80
        },
        {
          "output_type": "display_data",
          "data": {
            "image/png": "[encoded data removed]",
            "text/plain": [
              "<Figure size 576x360 with 1 Axes>"
            ]
          },
          "metadata": {
            "tags": []
          }
        }
      ]
    },
    {
      "cell_type": "code",
      "metadata": {
        "id": "se-d3ZJvKrOf",
        "colab": {
          "base_uri": "https://localhost:8080/"
        },
        "outputId": "7f82e437-0248-43ee-86f0-98261107dd09"
      },
      "source": [
        "#skewness and kurtosis\r\n",
        "print(\"Skewness: %f\" % df_air_pnw1['price'].skew())\r\n",
        "print(\"Kurtosis: %f\" % df_air_pnw1['price'].kurt())"
      ],
      "execution_count": 81,
      "outputs": [
        {
          "output_type": "stream",
          "text": [
            "Skewness: 0.922840\n",
            "Kurtosis: 0.169245\n"
          ],
          "name": "stdout"
        }
      ]
    },
    {
      "cell_type": "markdown",
      "metadata": {
        "id": "8LkERCYKNu_Y"
      },
      "source": [
        "Let's check for the distribution of this new price as well."
      ]
    },
    {
      "cell_type": "code",
      "metadata": {
        "id": "IkgUKN31N6rE",
        "colab": {
          "base_uri": "https://localhost:8080/",
          "height": 410
        },
        "outputId": "1353653e-9bac-4c61-a2f0-f269bc397bb3"
      },
      "source": [
        "sns.distplot(df_air_pnw1['price'])"
      ],
      "execution_count": 82,
      "outputs": [
        {
          "output_type": "stream",
          "text": [
            "/usr/local/lib/python3.6/dist-packages/seaborn/distributions.py:2557: FutureWarning: `distplot` is a deprecated function and will be removed in a future version. Please adapt your code to use either `displot` (a figure-level function with similar flexibility) or `histplot` (an axes-level function for histograms).\n",
            "  warnings.warn(msg, FutureWarning)\n"
          ],
          "name": "stderr"
        },
        {
          "output_type": "execute_result",
          "data": {
            "text/plain": [
              "<matplotlib.axes._subplots.AxesSubplot at 0x7f082538ccf8>"
            ]
          },
          "metadata": {
            "tags": []
          },
          "execution_count": 82
        },
        {
          "output_type": "display_data",
          "data": {
            "image/png": "[encoded data removed]",
            "text/plain": [
              "<Figure size 576x360 with 1 Axes>"
            ]
          },
          "metadata": {
            "tags": []
          }
        }
      ]
    },
    {
      "cell_type": "markdown",
      "metadata": {
        "id": "xRFJ-JZG2PCv"
      },
      "source": [
        "**Bi-variate Analysis!**"
      ]
    },
    {
      "cell_type": "markdown",
      "metadata": {
        "id": "-iLLV__HOv19"
      },
      "source": [
        "Now let's understand the distribution of price(without extreme values) along neighbourhood groups"
      ]
    },
    {
      "cell_type": "code",
      "metadata": {
        "id": "3UVkTCBzN6m0",
        "colab": {
          "base_uri": "https://localhost:8080/"
        },
        "outputId": "83c147e8-183b-4bba-96f4-9dca85ed601e"
      },
      "source": [
        "df_air_pnw1['neighbourhood_group'].value_counts()"
      ],
      "execution_count": 83,
      "outputs": [
        {
          "output_type": "execute_result",
          "data": {
            "text/plain": [
              "Manhattan        19484\n",
              "Brooklyn         19400\n",
              "Queens            5565\n",
              "Bronx             1068\n",
              "Staten Island      365\n",
              "Name: neighbourhood_group, dtype: int64"
            ]
          },
          "metadata": {
            "tags": []
          },
          "execution_count": 83
        }
      ]
    },
    {
      "cell_type": "code",
      "metadata": {
        "id": "NIe-wl_hQtqh"
      },
      "source": [
        "#lets look at the distribution of prices(price trends) across neighbourhood groups!"
      ],
      "execution_count": 84,
      "outputs": []
    },
    {
      "cell_type": "markdown",
      "metadata": {
        "id": "rEyYOQD6t7gi"
      },
      "source": [
        "**Distribution of price across Manhattan,Brooklyn,Queens,Bronx & Staten Island :-**"
      ]
    },
    {
      "cell_type": "markdown",
      "metadata": {
        "id": "8EutJ-xnqYW2"
      },
      "source": [
        "Instead of checking distributions for each categories one by one we can simply do a violin plot for getting the overall statistics for each groups. But we'll get to know the median of price/neighbourhood group. <br>\r\n",
        "\r\n",
        "We can do a seaborn point plot to get the average prices/neighbourhood in NYC! "
      ]
    },
    {
      "cell_type": "code",
      "metadata": {
        "colab": {
          "base_uri": "https://localhost:8080/",
          "height": 339
        },
        "id": "1gGZEmkvdhhR",
        "outputId": "f1baf4f0-c2ff-449b-fe8c-b5fabfd7b123"
      },
      "source": [
        "ax= sns.violinplot(x='neighbourhood_group',y='price',data=df_air_pnw1)\r\n"
      ],
      "execution_count": 85,
      "outputs": [
        {
          "output_type": "display_data",
          "data": {
            "image/png": "[encoded data removed]",
            "text/plain": [
              "<Figure size 576x360 with 1 Axes>"
            ]
          },
          "metadata": {
            "tags": []
          }
        }
      ]
    },
    {
      "cell_type": "code",
      "metadata": {
        "id": "iw6KAsGdvED1"
      },
      "source": [
        "from numpy import mean"
      ],
      "execution_count": 86,
      "outputs": []
    },
    {
      "cell_type": "code",
      "metadata": {
        "colab": {
          "base_uri": "https://localhost:8080/",
          "height": 359
        },
        "id": "o-hY0RqkvGz1",
        "outputId": "8d659e7a-1791-46e4-ee6f-6cfa3e1dd62f"
      },
      "source": [
        "sns.pointplot(x = 'neighbourhood_group', y='price', data=df_air_pnw1, estimator=mean)"
      ],
      "execution_count": 87,
      "outputs": [
        {
          "output_type": "execute_result",
          "data": {
            "text/plain": [
              "<matplotlib.axes._subplots.AxesSubplot at 0x7f08251a29b0>"
            ]
          },
          "metadata": {
            "tags": []
          },
          "execution_count": 87
        },
        {
          "output_type": "display_data",
          "data": {
            "image/png": "[encoded data removed]",
            "text/plain": [
              "<Figure size 576x360 with 1 Axes>"
            ]
          },
          "metadata": {
            "tags": []
          }
        }
      ]
    },
    {
      "cell_type": "markdown",
      "metadata": {
        "id": "-Gp4uPst1zVs"
      },
      "source": [
        "We can see that **Manhattan** has the highest(the costliest) average of price ranging to ~150dollars/day followed by **Brooklyn** with an average of 105dollars<br> \r\n",
        "\r\n",
        "**Queens** and **Staten Island** have same average price/day, while **Bronx** comes out to be the cheapest neighbourhood group in NYC. "
      ]
    },
    {
      "cell_type": "markdown",
      "metadata": {
        "id": "kfGBHDwFY_1X"
      },
      "source": [
        "Well, let's deep dive into cost of living as it is the most important factor for someone willing to rent/stay using Airbnb."
      ]
    },
    {
      "cell_type": "markdown",
      "metadata": {
        "id": "dGHIQ1SVUfwp"
      },
      "source": [
        "**Now, Let's check the expensive & cheapest listings with respect to prices leading in entire NYC!**"
      ]
    },
    {
      "cell_type": "markdown",
      "metadata": {
        "id": "jgqcGVKGY8l2"
      },
      "source": [
        "The costliest?"
      ]
    },
    {
      "cell_type": "code",
      "metadata": {
        "colab": {
          "base_uri": "https://localhost:8080/",
          "height": 204
        },
        "id": "ITJ_BJUiW3Rl",
        "outputId": "10b1a984-7e15-4915-dfc9-afaf14b88827"
      },
      "source": [
        "df_air_pnw.nlargest(5,'price')[['name','neighbourhood_group','neighbourhood','host_name','room_type']]"
      ],
      "execution_count": 88,
      "outputs": [
        {
          "output_type": "execute_result",
          "data": {
            "text/html": [
              "<div>\n",
              "<style scoped>\n",
              "    .dataframe tbody tr th:only-of-type {\n",
              "        vertical-align: middle;\n",
              "    }\n",
              "\n",
              "    .dataframe tbody tr th {\n",
              "        vertical-align: top;\n",
              "    }\n",
              "\n",
              "    .dataframe thead th {\n",
              "        text-align: right;\n",
              "    }\n",
              "</style>\n",
              "<table border=\"1\" class=\"dataframe\">\n",
              "  <thead>\n",
              "    <tr style=\"text-align: right;\">\n",
              "      <th></th>\n",
              "      <th>name</th>\n",
              "      <th>neighbourhood_group</th>\n",
              "      <th>neighbourhood</th>\n",
              "      <th>host_name</th>\n",
              "      <th>room_type</th>\n",
              "    </tr>\n",
              "  </thead>\n",
              "  <tbody>\n",
              "    <tr>\n",
              "      <th>38498</th>\n",
              "      <td>LUXURIOUS 5 bedroom, 4.5 bath home</td>\n",
              "      <td>Manhattan</td>\n",
              "      <td>Upper West Side</td>\n",
              "      <td>Lisa</td>\n",
              "      <td>Entire home/apt</td>\n",
              "    </tr>\n",
              "    <tr>\n",
              "      <th>48304</th>\n",
              "      <td>Next to Times Square/Javits/MSG! Amazing 1BR!</td>\n",
              "      <td>Manhattan</td>\n",
              "      <td>Hell's Kitchen</td>\n",
              "      <td>Rogelio</td>\n",
              "      <td>Entire home/apt</td>\n",
              "    </tr>\n",
              "    <tr>\n",
              "      <th>46533</th>\n",
              "      <td>Amazing Chelsea 4BR Loft!</td>\n",
              "      <td>Manhattan</td>\n",
              "      <td>Chelsea</td>\n",
              "      <td>Viberlyn</td>\n",
              "      <td>Entire home/apt</td>\n",
              "    </tr>\n",
              "    <tr>\n",
              "      <th>30824</th>\n",
              "      <td>Designer's Beautiful 2BR Apartment in NOLITA/SOHO</td>\n",
              "      <td>Manhattan</td>\n",
              "      <td>Nolita</td>\n",
              "      <td>Ilo And Richard</td>\n",
              "      <td>Entire home/apt</td>\n",
              "    </tr>\n",
              "    <tr>\n",
              "      <th>22992</th>\n",
              "      <td>Modern Townhouse for Photo, Film &amp;  Daytime Ev...</td>\n",
              "      <td>Manhattan</td>\n",
              "      <td>Upper West Side</td>\n",
              "      <td>Lanie</td>\n",
              "      <td>Entire home/apt</td>\n",
              "    </tr>\n",
              "  </tbody>\n",
              "</table>\n",
              "</div>"
            ],
            "text/plain": [
              "                                                    name  ...        room_type\n",
              "38498                 LUXURIOUS 5 bedroom, 4.5 bath home  ...  Entire home/apt\n",
              "48304      Next to Times Square/Javits/MSG! Amazing 1BR!  ...  Entire home/apt\n",
              "46533                          Amazing Chelsea 4BR Loft!  ...  Entire home/apt\n",
              "30824  Designer's Beautiful 2BR Apartment in NOLITA/SOHO  ...  Entire home/apt\n",
              "22992  Modern Townhouse for Photo, Film &  Daytime Ev...  ...  Entire home/apt\n",
              "\n",
              "[5 rows x 5 columns]"
            ]
          },
          "metadata": {
            "tags": []
          },
          "execution_count": 88
        }
      ]
    },
    {
      "cell_type": "markdown",
      "metadata": {
        "id": "JBGPy1m_XIKI"
      },
      "source": [
        "Looks like the all the top 5 costliest listings belongs to Manhattan itself(being the most costliest place of living in NYC)"
      ]
    },
    {
      "cell_type": "markdown",
      "metadata": {
        "id": "mcgrL8N2ZagE"
      },
      "source": [
        "The cheapest?"
      ]
    },
    {
      "cell_type": "code",
      "metadata": {
        "colab": {
          "base_uri": "https://localhost:8080/",
          "height": 204
        },
        "id": "4pI3lnZRYdXq",
        "outputId": "efea7666-1d9a-432c-9625-17e35b1762cf"
      },
      "source": [
        "df_air_pnw.sort_values(by='price',ascending=True)[['name','neighbourhood_group','neighbourhood','host_name','room_type','price']][:5]"
      ],
      "execution_count": 89,
      "outputs": [
        {
          "output_type": "execute_result",
          "data": {
            "text/html": [
              "<div>\n",
              "<style scoped>\n",
              "    .dataframe tbody tr th:only-of-type {\n",
              "        vertical-align: middle;\n",
              "    }\n",
              "\n",
              "    .dataframe tbody tr th {\n",
              "        vertical-align: top;\n",
              "    }\n",
              "\n",
              "    .dataframe thead th {\n",
              "        text-align: right;\n",
              "    }\n",
              "</style>\n",
              "<table border=\"1\" class=\"dataframe\">\n",
              "  <thead>\n",
              "    <tr style=\"text-align: right;\">\n",
              "      <th></th>\n",
              "      <th>name</th>\n",
              "      <th>neighbourhood_group</th>\n",
              "      <th>neighbourhood</th>\n",
              "      <th>host_name</th>\n",
              "      <th>room_type</th>\n",
              "      <th>price</th>\n",
              "    </tr>\n",
              "  </thead>\n",
              "  <tbody>\n",
              "    <tr>\n",
              "      <th>30312</th>\n",
              "      <td>Nice room near SI Ferry \\n15 minutes by car.</td>\n",
              "      <td>Staten Island</td>\n",
              "      <td>Randall Manor</td>\n",
              "      <td>Sara I</td>\n",
              "      <td>Private room</td>\n",
              "      <td>31</td>\n",
              "    </tr>\n",
              "    <tr>\n",
              "      <th>7431</th>\n",
              "      <td>Cozy room right on BROADWAY - Washington Heights</td>\n",
              "      <td>Manhattan</td>\n",
              "      <td>Washington Heights</td>\n",
              "      <td>Nga</td>\n",
              "      <td>Private room</td>\n",
              "      <td>31</td>\n",
              "    </tr>\n",
              "    <tr>\n",
              "      <th>28700</th>\n",
              "      <td>Cozy room in Loft Apartment - Brooklyn</td>\n",
              "      <td>Queens</td>\n",
              "      <td>Ridgewood</td>\n",
              "      <td>Estefani</td>\n",
              "      <td>Private room</td>\n",
              "      <td>31</td>\n",
              "    </tr>\n",
              "    <tr>\n",
              "      <th>35038</th>\n",
              "      <td>Lovely place for traveler</td>\n",
              "      <td>Brooklyn</td>\n",
              "      <td>Bedford-Stuyvesant</td>\n",
              "      <td>Anchor</td>\n",
              "      <td>Shared room</td>\n",
              "      <td>31</td>\n",
              "    </tr>\n",
              "    <tr>\n",
              "      <th>43694</th>\n",
              "      <td>Gotham City oasis 10 min to the city</td>\n",
              "      <td>Brooklyn</td>\n",
              "      <td>Fort Greene</td>\n",
              "      <td>Helena</td>\n",
              "      <td>Shared room</td>\n",
              "      <td>31</td>\n",
              "    </tr>\n",
              "  </tbody>\n",
              "</table>\n",
              "</div>"
            ],
            "text/plain": [
              "                                                   name  ... price\n",
              "30312      Nice room near SI Ferry \\n15 minutes by car.  ...    31\n",
              "7431   Cozy room right on BROADWAY - Washington Heights  ...    31\n",
              "28700            Cozy room in Loft Apartment - Brooklyn  ...    31\n",
              "35038                         Lovely place for traveler  ...    31\n",
              "43694              Gotham City oasis 10 min to the city  ...    31\n",
              "\n",
              "[5 rows x 6 columns]"
            ]
          },
          "metadata": {
            "tags": []
          },
          "execution_count": 89
        }
      ]
    },
    {
      "cell_type": "markdown",
      "metadata": {
        "id": "F4VpabN6ajxu"
      },
      "source": [
        "Also, the cheapest listings mostly comes from **Staten Island**, **Queens** and **Brooklyn**. One interesting thing to notice here is that there is no listings for **Bronx**(the cheapest neighbourhood group in entire NYC) in the top(5) cheapest. "
      ]
    },
    {
      "cell_type": "markdown",
      "metadata": {
        "id": "TnHKYEI_IGtj"
      },
      "source": [
        "**Top neighbourhoods in NYC with respect to average price/day of Airbnb listings**:"
      ]
    },
    {
      "cell_type": "markdown",
      "metadata": {
        "id": "4oppodk8Hx54"
      },
      "source": [
        "Among the top 5 neighbourhoods, top 2 of them namely: **Willowbrook** & **Neponsit** origins from neighbourhood_groups: **Staten Island** & **Queens** respectively. <br>\r\n",
        "\r\n",
        "The rest 3 are backed by **Tribeca** and **NoHo** from **Manhattan** & **Breezy Point**(3) again from **Queens**. "
      ]
    },
    {
      "cell_type": "code",
      "metadata": {
        "id": "o3R6KiWSFrBi",
        "colab": {
          "base_uri": "https://localhost:8080/",
          "height": 204
        },
        "outputId": "3437ad2f-bbf1-4315-846c-a9f0ae4eae17"
      },
      "source": [
        "df_ngrp= df_air_pnw1.groupby(['neighbourhood_group','neighbourhood'])['price'].mean().reset_index()\r\n",
        "largest_neighbours_df= df_ngrp.nlargest(5,'price')\r\n",
        "largest_neighbours_df"
      ],
      "execution_count": 90,
      "outputs": [
        {
          "output_type": "execute_result",
          "data": {
            "text/html": [
              "<div>\n",
              "<style scoped>\n",
              "    .dataframe tbody tr th:only-of-type {\n",
              "        vertical-align: middle;\n",
              "    }\n",
              "\n",
              "    .dataframe tbody tr th {\n",
              "        vertical-align: top;\n",
              "    }\n",
              "\n",
              "    .dataframe thead th {\n",
              "        text-align: right;\n",
              "    }\n",
              "</style>\n",
              "<table border=\"1\" class=\"dataframe\">\n",
              "  <thead>\n",
              "    <tr style=\"text-align: right;\">\n",
              "      <th></th>\n",
              "      <th>neighbourhood_group</th>\n",
              "      <th>neighbourhood</th>\n",
              "      <th>price</th>\n",
              "    </tr>\n",
              "  </thead>\n",
              "  <tbody>\n",
              "    <tr>\n",
              "      <th>218</th>\n",
              "      <td>Staten Island</td>\n",
              "      <td>Willowbrook</td>\n",
              "      <td>249.000000</td>\n",
              "    </tr>\n",
              "    <tr>\n",
              "      <th>163</th>\n",
              "      <td>Queens</td>\n",
              "      <td>Neponsit</td>\n",
              "      <td>237.000000</td>\n",
              "    </tr>\n",
              "    <tr>\n",
              "      <th>134</th>\n",
              "      <td>Queens</td>\n",
              "      <td>Breezy Point</td>\n",
              "      <td>213.333333</td>\n",
              "    </tr>\n",
              "    <tr>\n",
              "      <th>121</th>\n",
              "      <td>Manhattan</td>\n",
              "      <td>Tribeca</td>\n",
              "      <td>212.495327</td>\n",
              "    </tr>\n",
              "    <tr>\n",
              "      <th>115</th>\n",
              "      <td>Manhattan</td>\n",
              "      <td>NoHo</td>\n",
              "      <td>205.290909</td>\n",
              "    </tr>\n",
              "  </tbody>\n",
              "</table>\n",
              "</div>"
            ],
            "text/plain": [
              "    neighbourhood_group neighbourhood       price\n",
              "218       Staten Island   Willowbrook  249.000000\n",
              "163              Queens      Neponsit  237.000000\n",
              "134              Queens  Breezy Point  213.333333\n",
              "121           Manhattan       Tribeca  212.495327\n",
              "115           Manhattan          NoHo  205.290909"
            ]
          },
          "metadata": {
            "tags": []
          },
          "execution_count": 90
        }
      ]
    },
    {
      "cell_type": "markdown",
      "metadata": {
        "id": "ssPzMB0rfmAY"
      },
      "source": [
        "**Now, let's check for the neighbourhoods with listings having highest average price/day in each neighbourhood groups of NYC!**"
      ]
    },
    {
      "cell_type": "code",
      "metadata": {
        "colab": {
          "base_uri": "https://localhost:8080/",
          "height": 204
        },
        "id": "UYrQJIUKe2jC",
        "outputId": "e827ac96-d599-4414-ef63-d186d0667cfc"
      },
      "source": [
        "top_neigh_each= df_ngrp.loc[df_ngrp.groupby('neighbourhood_group')['price'].idxmax()].sort_values(by='price',ascending=False)\r\n",
        "top_neigh_each"
      ],
      "execution_count": 91,
      "outputs": [
        {
          "output_type": "execute_result",
          "data": {
            "text/html": [
              "<div>\n",
              "<style scoped>\n",
              "    .dataframe tbody tr th:only-of-type {\n",
              "        vertical-align: middle;\n",
              "    }\n",
              "\n",
              "    .dataframe tbody tr th {\n",
              "        vertical-align: top;\n",
              "    }\n",
              "\n",
              "    .dataframe thead th {\n",
              "        text-align: right;\n",
              "    }\n",
              "</style>\n",
              "<table border=\"1\" class=\"dataframe\">\n",
              "  <thead>\n",
              "    <tr style=\"text-align: right;\">\n",
              "      <th></th>\n",
              "      <th>neighbourhood_group</th>\n",
              "      <th>neighbourhood</th>\n",
              "      <th>price</th>\n",
              "    </tr>\n",
              "  </thead>\n",
              "  <tbody>\n",
              "    <tr>\n",
              "      <th>218</th>\n",
              "      <td>Staten Island</td>\n",
              "      <td>Willowbrook</td>\n",
              "      <td>249.000000</td>\n",
              "    </tr>\n",
              "    <tr>\n",
              "      <th>163</th>\n",
              "      <td>Queens</td>\n",
              "      <td>Neponsit</td>\n",
              "      <td>237.000000</td>\n",
              "    </tr>\n",
              "    <tr>\n",
              "      <th>121</th>\n",
              "      <td>Manhattan</td>\n",
              "      <td>Tribeca</td>\n",
              "      <td>212.495327</td>\n",
              "    </tr>\n",
              "    <tr>\n",
              "      <th>82</th>\n",
              "      <td>Brooklyn</td>\n",
              "      <td>Mill Basin</td>\n",
              "      <td>179.750000</td>\n",
              "    </tr>\n",
              "    <tr>\n",
              "      <th>44</th>\n",
              "      <td>Bronx</td>\n",
              "      <td>West Farms</td>\n",
              "      <td>122.000000</td>\n",
              "    </tr>\n",
              "  </tbody>\n",
              "</table>\n",
              "</div>"
            ],
            "text/plain": [
              "    neighbourhood_group neighbourhood       price\n",
              "218       Staten Island   Willowbrook  249.000000\n",
              "163              Queens      Neponsit  237.000000\n",
              "121           Manhattan       Tribeca  212.495327\n",
              "82             Brooklyn    Mill Basin  179.750000\n",
              "44                Bronx    West Farms  122.000000"
            ]
          },
          "metadata": {
            "tags": []
          },
          "execution_count": 91
        }
      ]
    },
    {
      "cell_type": "code",
      "metadata": {
        "colab": {
          "base_uri": "https://localhost:8080/",
          "height": 429
        },
        "id": "USXWQ5n2Njo-",
        "outputId": "9741e40d-4020-4054-d1a5-8224d5c07920"
      },
      "source": [
        "top_neigh_each.plot.bar(x='neighbourhood', rot=90, title='Top Neighbourhoods in each neighbourhood groups in NYC')\r\n",
        "plt.xlabel('neighbourhoods')\r\n",
        "plt.ylabel('price')\r\n",
        "\r\n",
        "# check for annotations inside bars for putting group name"
      ],
      "execution_count": 92,
      "outputs": [
        {
          "output_type": "execute_result",
          "data": {
            "text/plain": [
              "Text(0, 0.5, 'price')"
            ]
          },
          "metadata": {
            "tags": []
          },
          "execution_count": 92
        },
        {
          "output_type": "display_data",
          "data": {
            "image/png": "[encoded data removed]",
            "text/plain": [
              "<Figure size 576x360 with 1 Axes>"
            ]
          },
          "metadata": {
            "tags": []
          }
        }
      ]
    },
    {
      "cell_type": "markdown",
      "metadata": {
        "id": "jM9mhL9ctYGC"
      },
      "source": [
        "**Let's checkout the costliest listings in each neighbourhood groups & their respective hosts:**"
      ]
    },
    {
      "cell_type": "code",
      "metadata": {
        "id": "igkT7J7yCz0h"
      },
      "source": [
        "#costliest listings in each neighbourhood groups\r\n",
        "costliest_df= df_air_pnw1.loc[df_air_pnw1.groupby(['neighbourhood_group'])['price'].idxmax()][['name','neighbourhood_group','host_name','price']]"
      ],
      "execution_count": 93,
      "outputs": []
    },
    {
      "cell_type": "code",
      "metadata": {
        "colab": {
          "base_uri": "https://localhost:8080/",
          "height": 204
        },
        "id": "I9FnIlH9bxcJ",
        "outputId": "db875ac9-049d-49ac-f66f-9c32a3a25620"
      },
      "source": [
        "costliest_df"
      ],
      "execution_count": 94,
      "outputs": [
        {
          "output_type": "execute_result",
          "data": {
            "text/html": [
              "<div>\n",
              "<style scoped>\n",
              "    .dataframe tbody tr th:only-of-type {\n",
              "        vertical-align: middle;\n",
              "    }\n",
              "\n",
              "    .dataframe tbody tr th {\n",
              "        vertical-align: top;\n",
              "    }\n",
              "\n",
              "    .dataframe thead th {\n",
              "        text-align: right;\n",
              "    }\n",
              "</style>\n",
              "<table border=\"1\" class=\"dataframe\">\n",
              "  <thead>\n",
              "    <tr style=\"text-align: right;\">\n",
              "      <th></th>\n",
              "      <th>name</th>\n",
              "      <th>neighbourhood_group</th>\n",
              "      <th>host_name</th>\n",
              "      <th>price</th>\n",
              "    </tr>\n",
              "  </thead>\n",
              "  <tbody>\n",
              "    <tr>\n",
              "      <th>10710</th>\n",
              "      <td>Waterfront, perfect NYC getaway!</td>\n",
              "      <td>Bronx</td>\n",
              "      <td>Frank And Anna</td>\n",
              "      <td>325</td>\n",
              "    </tr>\n",
              "    <tr>\n",
              "      <th>13798</th>\n",
              "      <td>Mid-Century Museum Sleepover</td>\n",
              "      <td>Brooklyn</td>\n",
              "      <td>Cullen</td>\n",
              "      <td>333</td>\n",
              "    </tr>\n",
              "    <tr>\n",
              "      <th>15150</th>\n",
              "      <td>Midtown Sleep 6 Central Convenience</td>\n",
              "      <td>Manhattan</td>\n",
              "      <td>Adam</td>\n",
              "      <td>333</td>\n",
              "    </tr>\n",
              "    <tr>\n",
              "      <th>3389</th>\n",
              "      <td>Art Boutique 2BR Suite at JFK Airport</td>\n",
              "      <td>Queens</td>\n",
              "      <td>Jay</td>\n",
              "      <td>325</td>\n",
              "    </tr>\n",
              "    <tr>\n",
              "      <th>11373</th>\n",
              "      <td>Staten Island NYC Marathon</td>\n",
              "      <td>Staten Island</td>\n",
              "      <td>Elizabeth</td>\n",
              "      <td>300</td>\n",
              "    </tr>\n",
              "  </tbody>\n",
              "</table>\n",
              "</div>"
            ],
            "text/plain": [
              "                                        name  ... price\n",
              "10710       Waterfront, perfect NYC getaway!  ...   325\n",
              "13798           Mid-Century Museum Sleepover  ...   333\n",
              "15150    Midtown Sleep 6 Central Convenience  ...   333\n",
              "3389   Art Boutique 2BR Suite at JFK Airport  ...   325\n",
              "11373             Staten Island NYC Marathon  ...   300\n",
              "\n",
              "[5 rows x 4 columns]"
            ]
          },
          "metadata": {
            "tags": []
          },
          "execution_count": 94
        }
      ]
    },
    {
      "cell_type": "markdown",
      "metadata": {
        "id": "j6DEvwm0t0Gp"
      },
      "source": [
        "**Also, the cheapest listings in each neighbourhood groups & their respective hosts:**"
      ]
    },
    {
      "cell_type": "markdown",
      "metadata": {
        "id": "J3yP40QSGAtO"
      },
      "source": [
        "We can do the analysis here using the dataframe having the lowerbound and upperbound values of price."
      ]
    },
    {
      "cell_type": "code",
      "metadata": {
        "id": "GXqtYkSBgdUC"
      },
      "source": [
        "#cheapest listings in each neighbourhood groups\r\n",
        "cheapest_df= df_air_pnw.loc[df_air_pnw.groupby('neighbourhood_group')['price'].idxmin()][['neighbourhood_group','name','host_name','price']]"
      ],
      "execution_count": 95,
      "outputs": []
    },
    {
      "cell_type": "code",
      "metadata": {
        "colab": {
          "base_uri": "https://localhost:8080/",
          "height": 204
        },
        "id": "MJFasxJSuSlk",
        "outputId": "78127f9d-60d6-4e0d-ebf1-8cce7633c22a"
      },
      "source": [
        "cheapest_df"
      ],
      "execution_count": 96,
      "outputs": [
        {
          "output_type": "execute_result",
          "data": {
            "text/html": [
              "<div>\n",
              "<style scoped>\n",
              "    .dataframe tbody tr th:only-of-type {\n",
              "        vertical-align: middle;\n",
              "    }\n",
              "\n",
              "    .dataframe tbody tr th {\n",
              "        vertical-align: top;\n",
              "    }\n",
              "\n",
              "    .dataframe thead th {\n",
              "        text-align: right;\n",
              "    }\n",
              "</style>\n",
              "<table border=\"1\" class=\"dataframe\">\n",
              "  <thead>\n",
              "    <tr style=\"text-align: right;\">\n",
              "      <th></th>\n",
              "      <th>neighbourhood_group</th>\n",
              "      <th>name</th>\n",
              "      <th>host_name</th>\n",
              "      <th>price</th>\n",
              "    </tr>\n",
              "  </thead>\n",
              "  <tbody>\n",
              "    <tr>\n",
              "      <th>3889</th>\n",
              "      <td>Bronx</td>\n",
              "      <td>A Simple, Calm Space</td>\n",
              "      <td>Août</td>\n",
              "      <td>32</td>\n",
              "    </tr>\n",
              "    <tr>\n",
              "      <th>2887</th>\n",
              "      <td>Brooklyn</td>\n",
              "      <td>Amazing Spacious Room</td>\n",
              "      <td>Lord Daniel</td>\n",
              "      <td>31</td>\n",
              "    </tr>\n",
              "    <tr>\n",
              "      <th>7431</th>\n",
              "      <td>Manhattan</td>\n",
              "      <td>Cozy room right on BROADWAY - Washington Heights</td>\n",
              "      <td>Nga</td>\n",
              "      <td>31</td>\n",
              "    </tr>\n",
              "    <tr>\n",
              "      <th>6615</th>\n",
              "      <td>Queens</td>\n",
              "      <td>Super Clean, Quiet &amp; Spacious Room</td>\n",
              "      <td>Troy</td>\n",
              "      <td>31</td>\n",
              "    </tr>\n",
              "    <tr>\n",
              "      <th>30312</th>\n",
              "      <td>Staten Island</td>\n",
              "      <td>Nice room near SI Ferry \\n15 minutes by car.</td>\n",
              "      <td>Sara I</td>\n",
              "      <td>31</td>\n",
              "    </tr>\n",
              "  </tbody>\n",
              "</table>\n",
              "</div>"
            ],
            "text/plain": [
              "      neighbourhood_group  ... price\n",
              "3889                Bronx  ...    32\n",
              "2887             Brooklyn  ...    31\n",
              "7431            Manhattan  ...    31\n",
              "6615               Queens  ...    31\n",
              "30312       Staten Island  ...    31\n",
              "\n",
              "[5 rows x 4 columns]"
            ]
          },
          "metadata": {
            "tags": []
          },
          "execution_count": 96
        }
      ]
    },
    {
      "cell_type": "markdown",
      "metadata": {
        "id": "B7Te1RAvGDjt"
      },
      "source": [
        "**Room_types vs price on different neighbourhood groups!**"
      ]
    },
    {
      "cell_type": "code",
      "metadata": {
        "colab": {
          "base_uri": "https://localhost:8080/",
          "height": 359
        },
        "id": "7597eUeVBEW_",
        "outputId": "5f95c0f5-884c-4e0d-b88a-863a04a44516"
      },
      "source": [
        "#room_type vs price\r\n",
        "g = sns.catplot(x=\"room_type\", y=\"price\", col=\"neighbourhood_group\",\r\n",
        "                data=df_air_pnw1, saturation=.8,\r\n",
        "                kind=\"bar\",ci=None,  aspect=.9)\r\n",
        "(g.set_axis_labels(\"\", \"Price ditribution on room_types\")\r\n",
        "  .set_xticklabels([\"Private room\", \"Entire home/apt\", \"Shared room\"],rotation=90)\r\n",
        "  .set(ylim=(0, 400))\r\n",
        "  .despine(left=True)) \r\n"
      ],
      "execution_count": 97,
      "outputs": [
        {
          "output_type": "execute_result",
          "data": {
            "text/plain": [
              "<seaborn.axisgrid.FacetGrid at 0x7f082501f7b8>"
            ]
          },
          "metadata": {
            "tags": []
          },
          "execution_count": 97
        },
        {
          "output_type": "display_data",
          "data": {
            "image/png": "[encoded data removed]",
            "text/plain": [
              "<Figure size 1620x360 with 5 Axes>"
            ]
          },
          "metadata": {
            "tags": []
          }
        }
      ]
    },
    {
      "cell_type": "markdown",
      "metadata": {
        "id": "sQICS7rUHBM2"
      },
      "source": [
        "Looks like a property/listing with Entire home/apt as room_type wins the show at NYC followed by private rooms. <br>\r\n",
        "\r\n",
        "Manhattan has the highest price for room types providing Entire home/apt  ranging to nearly 180 USD/night, followed by Private room & shared room to 100 & 60USD's."
      ]
    },
    {
      "cell_type": "code",
      "metadata": {
        "colab": {
          "base_uri": "https://localhost:8080/",
          "height": 411
        },
        "id": "FQtM9qhzVIsz",
        "outputId": "39e51787-623b-4ff7-f71e-68a240a209b8"
      },
      "source": [
        "df_air_pnw.head()"
      ],
      "execution_count": 98,
      "outputs": [
        {
          "output_type": "execute_result",
          "data": {
            "text/html": [
              "<div>\n",
              "<style scoped>\n",
              "    .dataframe tbody tr th:only-of-type {\n",
              "        vertical-align: middle;\n",
              "    }\n",
              "\n",
              "    .dataframe tbody tr th {\n",
              "        vertical-align: top;\n",
              "    }\n",
              "\n",
              "    .dataframe thead th {\n",
              "        text-align: right;\n",
              "    }\n",
              "</style>\n",
              "<table border=\"1\" class=\"dataframe\">\n",
              "  <thead>\n",
              "    <tr style=\"text-align: right;\">\n",
              "      <th></th>\n",
              "      <th>id</th>\n",
              "      <th>name</th>\n",
              "      <th>host_id</th>\n",
              "      <th>host_name</th>\n",
              "      <th>neighbourhood_group</th>\n",
              "      <th>neighbourhood</th>\n",
              "      <th>latitude</th>\n",
              "      <th>longitude</th>\n",
              "      <th>room_type</th>\n",
              "      <th>price</th>\n",
              "      <th>minimum_nights</th>\n",
              "      <th>number_of_reviews</th>\n",
              "      <th>reviews_per_month</th>\n",
              "      <th>calculated_host_listings_count</th>\n",
              "      <th>availability_365</th>\n",
              "    </tr>\n",
              "  </thead>\n",
              "  <tbody>\n",
              "    <tr>\n",
              "      <th>0</th>\n",
              "      <td>2539</td>\n",
              "      <td>Clean &amp; quiet apt home by the park</td>\n",
              "      <td>2787</td>\n",
              "      <td>John</td>\n",
              "      <td>Brooklyn</td>\n",
              "      <td>Kensington</td>\n",
              "      <td>40.64749</td>\n",
              "      <td>-73.97237</td>\n",
              "      <td>Private room</td>\n",
              "      <td>149</td>\n",
              "      <td>1</td>\n",
              "      <td>9</td>\n",
              "      <td>0</td>\n",
              "      <td>6</td>\n",
              "      <td>365</td>\n",
              "    </tr>\n",
              "    <tr>\n",
              "      <th>1</th>\n",
              "      <td>2595</td>\n",
              "      <td>Skylit Midtown Castle</td>\n",
              "      <td>2845</td>\n",
              "      <td>Jennifer</td>\n",
              "      <td>Manhattan</td>\n",
              "      <td>Midtown</td>\n",
              "      <td>40.75362</td>\n",
              "      <td>-73.98377</td>\n",
              "      <td>Entire home/apt</td>\n",
              "      <td>225</td>\n",
              "      <td>1</td>\n",
              "      <td>45</td>\n",
              "      <td>0</td>\n",
              "      <td>2</td>\n",
              "      <td>355</td>\n",
              "    </tr>\n",
              "    <tr>\n",
              "      <th>2</th>\n",
              "      <td>3647</td>\n",
              "      <td>THE VILLAGE OF HARLEM....NEW YORK !</td>\n",
              "      <td>4632</td>\n",
              "      <td>Elisabeth</td>\n",
              "      <td>Manhattan</td>\n",
              "      <td>Harlem</td>\n",
              "      <td>40.80902</td>\n",
              "      <td>-73.94190</td>\n",
              "      <td>Private room</td>\n",
              "      <td>150</td>\n",
              "      <td>3</td>\n",
              "      <td>0</td>\n",
              "      <td>0</td>\n",
              "      <td>1</td>\n",
              "      <td>365</td>\n",
              "    </tr>\n",
              "    <tr>\n",
              "      <th>3</th>\n",
              "      <td>3831</td>\n",
              "      <td>Cozy Entire Floor of Brownstone</td>\n",
              "      <td>4869</td>\n",
              "      <td>LisaRoxanne</td>\n",
              "      <td>Brooklyn</td>\n",
              "      <td>Clinton Hill</td>\n",
              "      <td>40.68514</td>\n",
              "      <td>-73.95976</td>\n",
              "      <td>Entire home/apt</td>\n",
              "      <td>89</td>\n",
              "      <td>1</td>\n",
              "      <td>270</td>\n",
              "      <td>4</td>\n",
              "      <td>1</td>\n",
              "      <td>194</td>\n",
              "    </tr>\n",
              "    <tr>\n",
              "      <th>4</th>\n",
              "      <td>5022</td>\n",
              "      <td>Entire Apt: Spacious Studio/Loft by central park</td>\n",
              "      <td>7192</td>\n",
              "      <td>Laura</td>\n",
              "      <td>Manhattan</td>\n",
              "      <td>East Harlem</td>\n",
              "      <td>40.79851</td>\n",
              "      <td>-73.94399</td>\n",
              "      <td>Entire home/apt</td>\n",
              "      <td>80</td>\n",
              "      <td>10</td>\n",
              "      <td>9</td>\n",
              "      <td>0</td>\n",
              "      <td>1</td>\n",
              "      <td>0</td>\n",
              "    </tr>\n",
              "  </tbody>\n",
              "</table>\n",
              "</div>"
            ],
            "text/plain": [
              "     id  ... availability_365\n",
              "0  2539  ...              365\n",
              "1  2595  ...              355\n",
              "2  3647  ...              365\n",
              "3  3831  ...              194\n",
              "4  5022  ...                0\n",
              "\n",
              "[5 rows x 15 columns]"
            ]
          },
          "metadata": {
            "tags": []
          },
          "execution_count": 98
        }
      ]
    },
    {
      "cell_type": "code",
      "metadata": {
        "id": "PxVi6wfOfWK0"
      },
      "source": [
        ""
      ],
      "execution_count": null,
      "outputs": []
    },
    {
      "cell_type": "code",
      "metadata": {
        "id": "GrlIti_7fWIY"
      },
      "source": [
        ""
      ],
      "execution_count": null,
      "outputs": []
    }
  ]
}
